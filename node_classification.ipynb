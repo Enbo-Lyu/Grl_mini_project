{
  "nbformat": 4,
  "nbformat_minor": 0,
  "metadata": {
    "colab": {
      "provenance": [],
      "toc_visible": true,
      "machine_shape": "hm",
      "gpuType": "V100"
    },
    "kernelspec": {
      "name": "python3",
      "display_name": "Python 3"
    },
    "language_info": {
      "name": "python"
    },
    "accelerator": "GPU"
  },
  "cells": [
    {
      "cell_type": "code",
      "source": [
        "import numpy as np\n",
        "import scipy.sparse as sp\n",
        "import torch\n",
        "import sys\n",
        "import pickle as pkl\n",
        "import networkx as nx\n",
        "import torch.nn as nn\n",
        "import torch.nn.functional as F\n",
        "from torch.nn.parameter import Parameter\n",
        "import torch\n",
        "import math\n",
        "import math\n",
        "import matplotlib.pyplot as plt\n",
        "\n",
        "\n",
        "import torch\n",
        "\n",
        "from torch.nn.parameter import Parameter\n",
        "\n",
        "from torch.nn.modules.module import Module"
      ],
      "metadata": {
        "id": "csmtzlPBOGjg"
      },
      "execution_count": null,
      "outputs": []
    },
    {
      "cell_type": "code",
      "source": [
        "from google.colab import drive\n",
        "drive.mount('/content/drive')"
      ],
      "metadata": {
        "colab": {
          "base_uri": "https://localhost:8080/"
        },
        "id": "aD7KStsmIEML",
        "outputId": "3f68156b-b0dc-4cdf-8dd9-726f9e14da23"
      },
      "execution_count": null,
      "outputs": [
        {
          "output_type": "stream",
          "name": "stdout",
          "text": [
            "Mounted at /content/drive\n"
          ]
        }
      ]
    },
    {
      "cell_type": "markdown",
      "source": [
        "# utils"
      ],
      "metadata": {
        "id": "eb97FquOHbD9"
      }
    },
    {
      "cell_type": "code",
      "source": [],
      "metadata": {
        "id": "9ZJF_uv8XuGR"
      },
      "execution_count": null,
      "outputs": []
    },
    {
      "cell_type": "code",
      "source": [
        "import numpy as np\n",
        "import scipy.sparse as sp\n",
        "import torch\n",
        "import sys\n",
        "import pickle as pkl\n",
        "import numpy as np\n",
        "import networkx as nx\n",
        "\n",
        "def common_loss(emb1, emb2):\n",
        "    emb1 = emb1 - torch.mean(emb1, dim=0, keepdim=True)\n",
        "    emb2 = emb2 - torch.mean(emb2, dim=0, keepdim=True)\n",
        "    emb1 = torch.nn.functional.normalize(emb1, p=2, dim=1)\n",
        "    emb2 = torch.nn.functional.normalize(emb2, p=2, dim=1)\n",
        "    cov1 = torch.matmul(emb1, emb1.t())\n",
        "    cov2 = torch.matmul(emb2, emb2.t())\n",
        "    cost = torch.mean((cov1 - cov2)**2)\n",
        "    return cost\n",
        "\n",
        "\n",
        "def loss_dependence(emb1, emb2, dim):\n",
        "    R = torch.eye(dim).cuda() - (1/dim) * torch.ones(dim, dim).cuda()\n",
        "    K1 = torch.mm(emb1, emb1.t())\n",
        "    K2 = torch.mm(emb2, emb2.t())\n",
        "    RK1 = torch.mm(R, K1)\n",
        "    RK2 = torch.mm(R, K2)\n",
        "    HSIC = torch.trace(torch.mm(RK1, RK2))\n",
        "    return HSIC\n",
        "\n",
        "\n",
        "\n",
        "def accuracy(output, labels):\n",
        "    preds = output.max(1)[1].type_as(labels)\n",
        "    correct = preds.eq(labels).double()\n",
        "    correct = correct.sum()\n",
        "    return correct / len(labels)\n",
        "\n",
        "def sparse_mx_to_torch_sparse_tensor(sparse_mx):\n",
        "    \"\"\"Convert a scipy sparse matrix to a torch sparse tensor.\"\"\"\n",
        "    sparse_mx = sparse_mx.tocoo().astype(np.float32)\n",
        "    indices = torch.from_numpy(np.vstack((sparse_mx.row, sparse_mx.col)).astype(np.int64))\n",
        "    values = torch.from_numpy(sparse_mx.data)\n",
        "    shape = torch.Size(sparse_mx.shape)\n",
        "    return torch.sparse.FloatTensor(indices, values, shape)\n",
        "\n",
        "def parse_index_file(filename):\n",
        "    \"\"\"Parse index file.\"\"\"\n",
        "    index = []\n",
        "    for line in open(filename):\n",
        "        index.append(int(line.strip()))\n",
        "    return index\n",
        "\n",
        "def sample_mask(idx, l):\n",
        "    \"\"\"Create mask.\"\"\"\n",
        "    mask = np.zeros(l)\n",
        "    mask[idx] = 1\n",
        "    return np.array(mask, dtype=np.bool)\n",
        "\n",
        "def sparse_to_tuple(sparse_mx):\n",
        "    \"\"\"Convert sparse matrix to tuple representation.\"\"\"\n",
        "    def to_tuple(mx):\n",
        "        if not sp.isspmatrix_coo(mx):\n",
        "            mx = mx.tocoo()\n",
        "        coords = np.vstack((mx.row, mx.col)).transpose()\n",
        "        values = mx.data\n",
        "        shape = mx.shape\n",
        "        return coords, values, shape\n",
        "\n",
        "    if isinstance(sparse_mx, list):\n",
        "        for i in range(len(sparse_mx)):\n",
        "            sparse_mx[i] = to_tuple(sparse_mx[i])\n",
        "    else:\n",
        "        sparse_mx = to_tuple(sparse_mx)\n",
        "\n",
        "    return sparse_mx\n",
        "def normalize(mx):\n",
        "    \"\"\"Row-normalize sparse matrix\"\"\"\n",
        "    rowsum = np.array(mx.sum(1))\n",
        "    r_inv = np.power(rowsum, -1).flatten()\n",
        "    r_inv[np.isinf(r_inv)] = 0.\n",
        "    r_mat_inv = sp.diags(r_inv)\n",
        "    mx = r_mat_inv.dot(mx)\n",
        "    return mx\n",
        "\n"
      ],
      "metadata": {
        "id": "8jiXrbCoR3t2"
      },
      "execution_count": null,
      "outputs": []
    },
    {
      "cell_type": "code",
      "source": [
        "def load_data():\n",
        "    f = np.loadtxt(feature_path, dtype = float)\n",
        "    l = np.loadtxt(label_path, dtype = int)\n",
        "    test = np.loadtxt(test_path, dtype = int)\n",
        "    train = np.loadtxt(train_path, dtype = int)\n",
        "    features = sp.csr_matrix(f, dtype=np.float32)\n",
        "    features = torch.FloatTensor(np.array(features.todense()))\n",
        "\n",
        "    idx_test = test.tolist()\n",
        "    idx_train = train.tolist()\n",
        "\n",
        "    idx_train = torch.LongTensor(idx_train)\n",
        "    idx_test = torch.LongTensor(idx_test)\n",
        "\n",
        "    label = torch.LongTensor(np.array(l))\n",
        "\n",
        "    return features, label, idx_train, idx_test\n",
        "\n",
        "\n",
        "def load_graph(dataset):\n",
        "    # load feature graph\n",
        "    featuregraph_path1 = featuregraph_path + str(k) + '.txt'\n",
        "\n",
        "    feature_edges = np.genfromtxt(featuregraph_path1, dtype=np.int32)\n",
        "    fedges = np.array(list(feature_edges), dtype=np.int32).reshape(feature_edges.shape)\n",
        "    fadj = sp.coo_matrix((np.ones(fedges.shape[0]), (fedges[:, 0], fedges[:, 1])), shape=(n, n), dtype=np.float32)\n",
        "    fadj = fadj + fadj.T.multiply(fadj.T > fadj) - fadj.multiply(fadj.T > fadj)\n",
        "    nfadj = normalize(fadj + sp.eye(fadj.shape[0]))\n",
        "\n",
        "    struct_edges = np.genfromtxt(structgraph_path, dtype=np.int32)\n",
        "    sedges = np.array(list(struct_edges), dtype=np.int32).reshape(struct_edges.shape)\n",
        "    sadj = sp.coo_matrix((np.ones(sedges.shape[0]), (sedges[:, 0], sedges[:, 1])), shape=(n, n), dtype=np.float32)\n",
        "    sadj = sadj + sadj.T.multiply(sadj.T > sadj) - sadj.multiply(sadj.T > sadj)\n",
        "    nsadj = normalize(sadj+sp.eye(sadj.shape[0]))\n",
        "\n",
        "    nsadj = sparse_mx_to_torch_sparse_tensor(nsadj)\n",
        "    nfadj = sparse_mx_to_torch_sparse_tensor(nfadj)\n",
        "\n",
        "    return nsadj, nfadj"
      ],
      "metadata": {
        "id": "QmSfZIA7XQE3"
      },
      "execution_count": null,
      "outputs": []
    },
    {
      "cell_type": "code",
      "source": [
        "def load_graph_gcn(dataset):\n",
        "    struct_edges = np.genfromtxt(structgraph_path, dtype=np.int32)\n",
        "    sedges = np.array(list(struct_edges), dtype=np.int32).reshape(struct_edges.shape)\n",
        "    sadj = sp.coo_matrix((np.ones(sedges.shape[0]), (sedges[:, 0], sedges[:, 1])), shape=(n, n), dtype=np.float32)\n",
        "    sadj = sadj + sadj.T.multiply(sadj.T > sadj) - sadj.multiply(sadj.T > sadj)\n",
        "    nsadj = normalize(sadj+sp.eye(sadj.shape[0]))\n",
        "\n",
        "    nsadj = sparse_mx_to_torch_sparse_tensor(nsadj)\n",
        "\n",
        "    return nsadj\n"
      ],
      "metadata": {
        "id": "2DDv8lh2RI3D"
      },
      "execution_count": null,
      "outputs": []
    },
    {
      "cell_type": "markdown",
      "source": [
        "# layers"
      ],
      "metadata": {
        "id": "oEdf-B9aOfuc"
      }
    },
    {
      "cell_type": "code",
      "source": [
        "\n",
        "class GraphConvolution(Module):\n",
        "    \"\"\"\n",
        "    Simple GCN layer, similar to https://arxiv.org/abs/1609.02907\n",
        "    \"\"\"\n",
        "\n",
        "    def __init__(self, in_features, out_features, bias=True):\n",
        "        super(GraphConvolution, self).__init__()\n",
        "        self.in_features = in_features\n",
        "        self.out_features = out_features\n",
        "        self.weight = Parameter(torch.FloatTensor(in_features, out_features))\n",
        "        if bias:\n",
        "            self.bias = Parameter(torch.FloatTensor(out_features))\n",
        "        else:\n",
        "            self.register_parameter('bias', None)\n",
        "        self.reset_parameters()\n",
        "\n",
        "    def reset_parameters(self):\n",
        "        stdv = 1. / math.sqrt(self.weight.size(1))\n",
        "        self.weight.data.uniform_(-stdv, stdv)\n",
        "        if self.bias is not None:\n",
        "            self.bias.data.uniform_(-stdv, stdv)\n",
        "\n",
        "    def forward(self, input, adj):\n",
        "        support = torch.mm(input, self.weight)\n",
        "        output = torch.spmm(adj, support)\n",
        "        if self.bias is not None:\n",
        "            return output + self.bias\n",
        "        else:\n",
        "            return output\n",
        "\n",
        "    def __repr__(self):\n",
        "        return self.__class__.__name__ + ' (' \\\n",
        "               + str(self.in_features) + ' -> ' \\\n",
        "               + str(self.out_features) + ')'"
      ],
      "metadata": {
        "id": "kj8cEJkCOhN1"
      },
      "execution_count": null,
      "outputs": []
    },
    {
      "cell_type": "code",
      "source": [
        "\n",
        "\n",
        "\n",
        "class GCN(nn.Module):\n",
        "    def __init__(self, nfeat, nhid, out, dropout):\n",
        "        super(GCN, self).__init__()\n",
        "        self.gc1 = GraphConvolution(nfeat, nhid)\n",
        "        self.gc2 = GraphConvolution(nhid, out)\n",
        "        self.dropout = dropout\n",
        "\n",
        "    def forward(self, x, adj):\n",
        "        x = F.relu(self.gc1(x, adj))\n",
        "        x = F.dropout(x, self.dropout, training = self.training)\n",
        "        x = self.gc2(x, adj)\n",
        "        return x\n",
        "\n",
        "\n",
        "class Attention(nn.Module):\n",
        "    def __init__(self, in_size, hidden_size=16):\n",
        "        super(Attention, self).__init__()\n",
        "\n",
        "        self.project = nn.Sequential(\n",
        "            nn.Linear(in_size, hidden_size),\n",
        "            nn.Tanh(),\n",
        "            nn.Linear(hidden_size, 1, bias=False)\n",
        "        )\n",
        "\n",
        "    def forward(self, z):\n",
        "        w = self.project(z)\n",
        "        beta = torch.softmax(w, dim=1)\n",
        "        return (beta * z).sum(1), beta\n",
        "\n",
        "class SFGCN(nn.Module):\n",
        "    def __init__(self, nfeat, nclass, nhid1, nhid2, n, dropout):\n",
        "        super(SFGCN, self).__init__()\n",
        "\n",
        "        self.SGCN1 = GCN(nfeat, nhid1, nhid2, dropout)\n",
        "        self.SGCN2 = GCN(nfeat, nhid1, nhid2, dropout)\n",
        "        self.CGCN = GCN(nfeat, nhid1, nhid2, dropout)\n",
        "\n",
        "        self.dropout = dropout\n",
        "        self.a = nn.Parameter(torch.zeros(size=(nhid2, 1)))\n",
        "        nn.init.xavier_uniform_(self.a.data, gain=1.414)\n",
        "        self.attention = Attention(nhid2)\n",
        "        self.tanh = nn.Tanh()\n",
        "\n",
        "        self.MLP = nn.Sequential(\n",
        "            nn.Linear(nhid2, nclass),\n",
        "            nn.LogSoftmax(dim=1)\n",
        "        )\n",
        "\n",
        "    def forward(self, x, sadj, fadj):\n",
        "        emb1 = self.SGCN1(x, sadj) # Special_GCN out1 -- sadj structure graph\n",
        "        com1 = self.CGCN(x, sadj)  # Common_GCN out1 -- sadj structure graph\n",
        "        com2 = self.CGCN(x, fadj)  # Common_GCN out2 -- fadj feature graph\n",
        "        emb2 = self.SGCN2(x, fadj) # Special_GCN out2 -- fadj feature graph\n",
        "        Xcom = (com1 + com2) / 2\n",
        "        ##attention\n",
        "        emb = torch.stack([emb1, emb2, Xcom], dim=1)\n",
        "        emb, att = self.attention(emb)\n",
        "        print(att)\n",
        "        output = self.MLP(emb)\n",
        "        return output, att, emb1, com1, com2, emb2, emb\n",
        "\n",
        "\n",
        "\n",
        "class SGCN(nn.Module):\n",
        "    def __init__(self, nfeat, nclass, nhid1, nhid2, n, dropout):\n",
        "        super(SGCN, self).__init__()\n",
        "\n",
        "        self.SGCN1 = GCN(nfeat, nhid1, nhid2, dropout)\n",
        "        # self.SGCN2 = GCN(nfeat, nhid1, nhid2, dropout)\n",
        "        self.CGCN = GCN(nfeat, nhid1, nhid2, dropout)\n",
        "\n",
        "        self.dropout = dropout\n",
        "        self.a = nn.Parameter(torch.zeros(size=(nhid2, 1)))\n",
        "        nn.init.xavier_uniform_(self.a.data, gain=1.414)\n",
        "        self.attention = Attention(nhid2)\n",
        "        self.tanh = nn.Tanh()\n",
        "\n",
        "        self.MLP = nn.Sequential(\n",
        "            nn.Linear(nhid2, nclass),\n",
        "            nn.LogSoftmax(dim=1)\n",
        "        )\n",
        "\n",
        "    def forward(self, x, sadj, fadj):\n",
        "        emb1 = self.SGCN1(x, sadj) # Special_GCN out1 -- sadj structure graph\n",
        "        com1 = self.CGCN(x, sadj)  # Common_GCN out1 -- sadj structure graph\n",
        "        com2 = self.CGCN(x, fadj)  # Common_GCN out2 -- fadj feature graph\n",
        "        # emb2 = self.SGCN2(x, fadj) # Special_GCN out2 -- fadj feature graph\n",
        "        Xcom = (com1 + com2) / 2\n",
        "        ##attention\n",
        "        emb = torch.stack([emb1, Xcom], dim=1)\n",
        "        emb, att = self.attention(emb)\n",
        "        output = self.MLP(emb)\n",
        "        return output, att, emb1, com1, com2, emb\n",
        "\n",
        "\n",
        "class FGCN(nn.Module):\n",
        "    def __init__(self, nfeat, nclass, nhid1, nhid2, n, dropout):\n",
        "        super(FGCN, self).__init__()\n",
        "\n",
        "        # self.SGCN1 = GCN(nfeat, nhid1, nhid2, dropout)\n",
        "        self.SGCN2 = GCN(nfeat, nhid1, nhid2, dropout)\n",
        "        self.CGCN = GCN(nfeat, nhid1, nhid2, dropout)\n",
        "\n",
        "        self.dropout = dropout\n",
        "        self.a = nn.Parameter(torch.zeros(size=(nhid2, 1)))\n",
        "        nn.init.xavier_uniform_(self.a.data, gain=1.414)\n",
        "        self.attention = Attention(nhid2)\n",
        "        self.tanh = nn.Tanh()\n",
        "\n",
        "        self.MLP = nn.Sequential(\n",
        "            nn.Linear(nhid2, nclass),\n",
        "            nn.LogSoftmax(dim=1)\n",
        "        )\n",
        "\n",
        "    def forward(self, x, sadj, fadj):\n",
        "        # emb1 = self.SGCN1(x, sadj) # Special_GCN out1 -- sadj structure graph\n",
        "        com1 = self.CGCN(x, sadj)  # Common_GCN out1 -- sadj structure graph\n",
        "        com2 = self.CGCN(x, fadj)  # Common_GCN out2 -- fadj feature graph\n",
        "        emb2 = self.SGCN2(x, fadj) # Special_GCN out2 -- fadj feature graph\n",
        "        Xcom = (com1 + com2) / 2\n",
        "        ##attention\n",
        "        emb = torch.stack([emb2, Xcom], dim=1)\n",
        "        emb, att = self.attention(emb)\n",
        "        print(att)\n",
        "        output = self.MLP(emb)\n",
        "        return output, att, emb2, com1, com2, emb\n",
        "\n",
        "class sfGCN(nn.Module):\n",
        "    def __init__(self, nfeat, nclass, nhid1, nhid2, n, dropout):\n",
        "        super(sfGCN, self).__init__()\n",
        "\n",
        "        self.SGCN1 = GCN(nfeat, nhid1, nhid2, dropout)\n",
        "        self.SGCN2 = GCN(nfeat, nhid1, nhid2, dropout)\n",
        "        # self.CGCN = GCN(nfeat, nhid1, nhid2, dropout)\n",
        "\n",
        "        self.dropout = dropout\n",
        "        self.a = nn.Parameter(torch.zeros(size=(nhid2, 1)))\n",
        "        nn.init.xavier_uniform_(self.a.data, gain=1.414)\n",
        "        self.attention = Attention(nhid2)\n",
        "        self.tanh = nn.Tanh()\n",
        "\n",
        "        self.MLP = nn.Sequential(\n",
        "            nn.Linear(nhid2, nclass),\n",
        "            nn.LogSoftmax(dim=1)\n",
        "        )\n",
        "\n",
        "    def forward(self, x, sadj, fadj):\n",
        "        emb1 = self.SGCN1(x, sadj) # Special_GCN out1 -- sadj structure graph\n",
        "        # com1 = self.CGCN(x, sadj)  # Common_GCN out1 -- sadj structure graph\n",
        "        # com2 = self.CGCN(x, fadj)  # Common_GCN out2 -- fadj feature graph\n",
        "        emb2 = self.SGCN2(x, fadj) # Special_GCN out2 -- fadj feature graph\n",
        "        # Xcom = (com1 + com2) / 2\n",
        "        ##attention\n",
        "        emb = torch.stack([emb1, emb2], dim=1)\n",
        "        emb, att = self.attention(emb)\n",
        "        # print(att)\n",
        "        output = self.MLP(emb)\n",
        "        return output, att, emb1, emb2, emb"
      ],
      "metadata": {
        "id": "H2UkchgTBq2S"
      },
      "execution_count": null,
      "outputs": []
    },
    {
      "cell_type": "code",
      "source": [
        "class ComGCN(nn.Module):\n",
        "    def __init__(self, nfeat, nclass, nhid1, nhid2, n, dropout):\n",
        "        super(FGCN, self).__init__()\n",
        "\n",
        "        # self.SGCN1 = GCN(nfeat, nhid1, nhid2, dropout)\n",
        "        # self.SGCN2 = GCN(nfeat, nhid1, nhid2, dropout)\n",
        "        self.CGCN = GCN(nfeat, nhid1, nhid2, dropout)\n",
        "\n",
        "        self.dropout = dropout\n",
        "        self.a = nn.Parameter(torch.zeros(size=(nhid2, 1)))\n",
        "        nn.init.xavier_uniform_(self.a.data, gain=1.414)\n",
        "        self.attention = Attention(nhid2)\n",
        "        self.tanh = nn.Tanh()\n",
        "\n",
        "        self.MLP = nn.Sequential(\n",
        "            nn.Linear(nhid2, nclass),\n",
        "            nn.LogSoftmax(dim=1)\n",
        "        )\n",
        "\n",
        "    def forward(self, x, sadj, fadj):\n",
        "        # emb1 = self.SGCN1(x, sadj) # Special_GCN out1 -- sadj structure graph\n",
        "        com1 = self.CGCN(x, sadj)  # Common_GCN out1 -- sadj structure graph\n",
        "        com2 = self.CGCN(x, fadj)  # Common_GCN out2 -- fadj feature graph\n",
        "        # emb2 = self.SGCN2(x, fadj) # Special_GCN out2 -- fadj feature graph\n",
        "        Xcom = (com1 + com2) / 2\n",
        "        ##attention\n",
        "        emb = torch.stack([emb2, Xcom], dim=1)\n",
        "        emb, att = self.attention(emb)\n",
        "        output = self.MLP(emb)\n",
        "        return output, att, emb2, com1, com2, emb"
      ],
      "metadata": {
        "id": "A63ZORMhOFFm"
      },
      "execution_count": null,
      "outputs": []
    },
    {
      "cell_type": "markdown",
      "source": [
        "# main"
      ],
      "metadata": {
        "id": "jFtkQjKcT-qK"
      }
    },
    {
      "cell_type": "code",
      "source": [
        "from __future__ import division\n",
        "from __future__ import print_function\n",
        "import torch\n",
        "import torch.nn.functional as F\n",
        "import torch.optim as optim\n",
        "import numpy as np\n",
        "import numpy\n",
        "from sklearn.metrics import f1_score\n",
        "import os\n",
        "import torch.nn as nn\n",
        "#AMGCN\n",
        "###################\n"
      ],
      "metadata": {
        "id": "U3y7ncnXVNl7"
      },
      "execution_count": null,
      "outputs": []
    },
    {
      "cell_type": "code",
      "source": [
        "# python main.py -d dataset -l labelrate\n",
        "# python main.py -d citeseer -l 20"
      ],
      "metadata": {
        "id": "HPSauAhBWYsg"
      },
      "execution_count": null,
      "outputs": []
    },
    {
      "cell_type": "code",
      "source": [
        "def train(model, epochs):\n",
        "    model.train()\n",
        "    optimizer.zero_grad()\n",
        "    output, att, emb1, com1, com2, emb2, emb= model(features, sadj, fadj)\n",
        "    loss_class =  F.nll_loss(output[idx_train], labels[idx_train])\n",
        "    loss_dep = (loss_dependence(emb1, com1, n) + loss_dependence(emb2, com2, n))/2\n",
        "    loss_com = common_loss(com1,com2)\n",
        "    loss = loss_class + beta * loss_dep + theta * loss_com\n",
        "    acc = accuracy(output[idx_train], labels[idx_train])\n",
        "    loss.backward()\n",
        "    optimizer.step()\n",
        "    acc_test, macro_f1, emb_test = main_test(model)\n",
        "    print('e:{}'.format(epochs),\n",
        "            'ltr: {:.4f}'.format(loss.item()),\n",
        "            'atr: {:.4f}'.format(acc.item()),\n",
        "            'ate: {:.4f}'.format(acc_test.item()),\n",
        "            'f1te:{:.4f}'.format(macro_f1.item()))\n",
        "    return loss.item(), acc_test.item(), macro_f1.item(), emb_test\n",
        "\n",
        "def main_test(model):\n",
        "    model.eval()\n",
        "    output, att, emb1, com1, com2, emb2, emb = model(features, sadj, fadj)\n",
        "    acc_test = accuracy(output[idx_test], labels[idx_test])\n",
        "    label_max = []\n",
        "    for idx in idx_test:\n",
        "        label_max.append(torch.argmax(output[idx]).item())\n",
        "    labelcpu = labels[idx_test].data.cpu()\n",
        "    macro_f1 = f1_score(labelcpu, label_max, average='macro')\n",
        "    return acc_test, macro_f1, emb\n",
        "\n",
        "def train_att(model, epochs):\n",
        "    model.train()\n",
        "    optimizer.zero_grad()\n",
        "    output, att, emb1, com1, com2, emb2, emb= model(features, sadj, fadj)\n",
        "    loss_class =  F.nll_loss(output[idx_train], labels[idx_train])\n",
        "    loss_dep = (loss_dependence(emb1, com1, n) + loss_dependence(emb2, com2, n))/2\n",
        "    loss_com = common_loss(com1,com2)\n",
        "    loss = loss_class + beta * loss_dep + theta * loss_com\n",
        "    acc = accuracy(output[idx_train], labels[idx_train])\n",
        "    loss.backward()\n",
        "    optimizer.step()\n",
        "    acc_test, macro_f1, emb_test = main_test(model)\n",
        "    print('e:{}'.format(epochs),\n",
        "            'ltr: {:.4f}'.format(loss.item()),\n",
        "            'atr: {:.4f}'.format(acc.item()),\n",
        "            'ate: {:.4f}'.format(acc_test.item()),\n",
        "            'f1te:{:.4f}'.format(macro_f1.item()))\n",
        "    return loss.item(), acc_test.item(), macro_f1.item(), emb_test, att"
      ],
      "metadata": {
        "id": "IrKHreiKcg9S"
      },
      "execution_count": null,
      "outputs": []
    },
    {
      "cell_type": "code",
      "source": [
        "def train_s(model, epochs):\n",
        "    model.train()\n",
        "    optimizer.zero_grad()\n",
        "    output, att, emb1, com1, com2, emb= model(features, sadj, fadj)\n",
        "    loss_class =  F.nll_loss(output[idx_train], labels[idx_train])\n",
        "    loss_dep = loss_dependence(emb1, com1, n)\n",
        "    loss_com = common_loss(com1,com2)\n",
        "    loss = loss_class + beta * loss_dep + theta * loss_com\n",
        "    acc = accuracy(output[idx_train], labels[idx_train])\n",
        "    loss.backward()\n",
        "    optimizer.step()\n",
        "    acc_test, macro_f1, emb_test = main_test_s(model)\n",
        "    print('e:{}'.format(epochs),\n",
        "            'ltr: {:.4f}'.format(loss.item()),\n",
        "            'atr: {:.4f}'.format(acc.item()),\n",
        "            'ate: {:.4f}'.format(acc_test.item()),\n",
        "            'f1te:{:.4f}'.format(macro_f1.item()))\n",
        "    return loss.item(), acc_test.item(), macro_f1.item(), emb_test\n",
        "\n",
        "\n",
        "def train_f(model, epochs):\n",
        "    model.train()\n",
        "    optimizer.zero_grad()\n",
        "    output, att, emb2, com1, com2, emb= model(features, sadj, fadj)\n",
        "    loss_class =  F.nll_loss(output[idx_train], labels[idx_train])\n",
        "    loss_dep = loss_dependence(emb2, com2, n)\n",
        "    loss_com = common_loss(com1,com2)\n",
        "    loss = loss_class + beta * loss_dep + theta * loss_com\n",
        "    acc = accuracy(output[idx_train], labels[idx_train])\n",
        "    loss.backward()\n",
        "    optimizer.step()\n",
        "    acc_test, macro_f1, emb_test = main_test_f(model)\n",
        "    print('e:{}'.format(epochs),\n",
        "            'ltr: {:.4f}'.format(loss.item()),\n",
        "            'atr: {:.4f}'.format(acc.item()),\n",
        "            'ate: {:.4f}'.format(acc_test.item()),\n",
        "            'f1te:{:.4f}'.format(macro_f1.item()))\n",
        "    return loss.item(), acc_test.item(), macro_f1.item(), emb_test\n",
        "\n",
        "def train_sf(model, epochs):\n",
        "    model.train()\n",
        "    optimizer.zero_grad()\n",
        "    output, att, emb1, emb2, emb= model(features, sadj, fadj)\n",
        "    loss_class =  F.nll_loss(output[idx_train], labels[idx_train])\n",
        "    # loss_dep = loss_dependence(emb1, com1, n)\n",
        "    # loss_com = common_loss(com1,com2)\n",
        "    loss = loss_class\n",
        "    acc = accuracy(output[idx_train], labels[idx_train])\n",
        "    loss.backward()\n",
        "    optimizer.step()\n",
        "    acc_test, macro_f1, emb_test = main_test_sf(model)\n",
        "    print('e:{}'.format(epochs),\n",
        "            'ltr: {:.4f}'.format(loss.item()),\n",
        "            'atr: {:.4f}'.format(acc.item()),\n",
        "            'ate: {:.4f}'.format(acc_test.item()),\n",
        "            'f1te:{:.4f}'.format(macro_f1.item()))\n",
        "    return loss.item(), acc_test.item(), macro_f1.item(), emb_test\n",
        "\n",
        "def main_test_s(model):\n",
        "    model.eval()\n",
        "    output, att, emb1, com1, com2, emb = model(features, sadj, fadj)\n",
        "    acc_test = accuracy(output[idx_test], labels[idx_test])\n",
        "    label_max = []\n",
        "    for idx in idx_test:\n",
        "        label_max.append(torch.argmax(output[idx]).item())\n",
        "    labelcpu = labels[idx_test].data.cpu()\n",
        "    macro_f1 = f1_score(labelcpu, label_max, average='macro')\n",
        "    return acc_test, macro_f1, emb\n",
        "\n",
        "\n",
        "def main_test_f(model):\n",
        "    model.eval()\n",
        "    output, att, emb2, com1, com2, emb = model(features, sadj, fadj)\n",
        "    acc_test = accuracy(output[idx_test], labels[idx_test])\n",
        "    label_max = []\n",
        "    for idx in idx_test:\n",
        "        label_max.append(torch.argmax(output[idx]).item())\n",
        "    labelcpu = labels[idx_test].data.cpu()\n",
        "    macro_f1 = f1_score(labelcpu, label_max, average='macro')\n",
        "    return acc_test, macro_f1, emb\n",
        "\n",
        "\n",
        "def main_test_sf(model):\n",
        "    model.eval()\n",
        "    output, att, emb1, emb2, emb = model(features, sadj, fadj)\n",
        "    acc_test = accuracy(output[idx_test], labels[idx_test])\n",
        "    label_max = []\n",
        "    for idx in idx_test:\n",
        "        label_max.append(torch.argmax(output[idx]).item())\n",
        "    labelcpu = labels[idx_test].data.cpu()\n",
        "    macro_f1 = f1_score(labelcpu, label_max, average='macro')\n",
        "    return acc_test, macro_f1, emb"
      ],
      "metadata": {
        "id": "-ZPHJzZaqQ8U"
      },
      "execution_count": null,
      "outputs": []
    },
    {
      "cell_type": "markdown",
      "source": [
        "# GCN"
      ],
      "metadata": {
        "id": "t5yvatf1zNRd"
      }
    },
    {
      "cell_type": "code",
      "source": [
        "\n",
        "class GCN(nn.Module):\n",
        "    def __init__(self, nfeat, nhid, out, dropout):\n",
        "        super(GCN, self).__init__()\n",
        "        self.gc1 = GraphConvolution(nfeat, nhid)\n",
        "        self.gc2 = GraphConvolution(nhid, out)\n",
        "        self.dropout = dropout\n",
        "\n",
        "    def forward(self, x, adj):\n",
        "        x = F.relu(self.gc1(x, adj))\n",
        "        x = F.dropout(x, self.dropout, training = self.training)\n",
        "        x = self.gc2(x, adj)\n",
        "        return x\n",
        "\n",
        "\n",
        "def train_gcn(model, epochs):\n",
        "    model.train()\n",
        "    optimizer.zero_grad()\n",
        "    output= model(features, sadj)\n",
        "    # loss_class =  F.cross_entropy(output[idx_train], labels[idx_train])\n",
        "    loss_class =  F.nll_loss(output[idx_train], labels[idx_train])\n",
        "\n",
        "    # loss_dep = (loss_dependence(emb1, com1, n) + loss_dependence(emb2, com2, n))/2\n",
        "    # loss_com = common_loss(com1,com2)\n",
        "    loss = loss_class\n",
        "    acc = accuracy(output[idx_train], labels[idx_train])\n",
        "    loss.backward()\n",
        "    optimizer.step()\n",
        "    acc_test, macro_f1 = main_test_gcn(model)\n",
        "    print('e:{}'.format(epochs),\n",
        "            'ltr: {:.4f}'.format(loss.item()),\n",
        "            'atr: {:.4f}'.format(acc.item()),\n",
        "            'ate: {:.4f}'.format(acc_test.item()),\n",
        "            'f1te:{:.4f}'.format(macro_f1.item()))\n",
        "    return loss.item(), acc_test.item(), macro_f1.item()\n",
        "\n",
        "def main_test_gcn(model):\n",
        "    model.eval()\n",
        "    output = model(features, sadj)\n",
        "    acc_test = accuracy(output[idx_test], labels[idx_test])\n",
        "    label_max = []\n",
        "    for idx in idx_test:\n",
        "        label_max.append(torch.argmax(output[idx]).item())\n",
        "    labelcpu = labels[idx_test].data.cpu()\n",
        "    macro_f1 = f1_score(labelcpu, label_max, average='macro')\n",
        "    return acc_test, macro_f1"
      ],
      "metadata": {
        "id": "yMJnsukEzNRd"
      },
      "execution_count": null,
      "outputs": []
    },
    {
      "cell_type": "markdown",
      "source": [
        "# AM-GCN"
      ],
      "metadata": {
        "id": "OigRjJWtJmRZ"
      }
    },
    {
      "cell_type": "markdown",
      "source": [
        "# Citeseer"
      ],
      "metadata": {
        "id": "8pmdTTMJsrRU"
      }
    },
    {
      "cell_type": "markdown",
      "source": [
        "# [L/C 20]"
      ],
      "metadata": {
        "id": "bv74I6Md9eoh"
      }
    },
    {
      "cell_type": "code",
      "source": [
        "cite_path = '/content/drive/MyDrive/Colab Notebooks/Oxford_ACS/graph_representation_learning/miniproject/citeseer/'"
      ],
      "metadata": {
        "id": "sQVdVLam6KdN"
      },
      "execution_count": null,
      "outputs": []
    },
    {
      "cell_type": "code",
      "source": [
        "# [L/C 20]\n",
        "epochs = 25\n",
        "lr = 0.0005\n",
        "weight_decay = 5e-3\n",
        "k = 7\n",
        "nhid1 = 768\n",
        "nhid2 = 256\n",
        "dropout = 0.5\n",
        "beta = 5e-10\n",
        "theta = 0.001\n",
        "no_cuda = False\n",
        "no_seed = False\n",
        "seed = 123\n",
        "\n",
        "# [Data_Setting]\n",
        "n = 3327\n",
        "fdim = 3703\n",
        "class_num = 6\n",
        "structgraph_path = cite_path + 'citeseer.edge'\n",
        "featuregraph_path = cite_path + 'knn/c'\n",
        "feature_path = cite_path + 'citeseer.feature'\n",
        "label_path = cite_path + 'citeseer.label'\n",
        "test_path = cite_path + 'test20.txt'\n",
        "train_path = cite_path + 'train20.txt'"
      ],
      "metadata": {
        "id": "EM6UB6Mn6KdO"
      },
      "execution_count": null,
      "outputs": []
    },
    {
      "cell_type": "code",
      "source": [
        "dataset = \"citeseer\"  # replace with your dataset name\n",
        "labelrate = 20"
      ],
      "metadata": {
        "id": "FbSwazZgWFXE"
      },
      "execution_count": null,
      "outputs": []
    },
    {
      "cell_type": "code",
      "source": [
        "sadj, fadj = load_graph(labelrate)\n",
        "features, labels, idx_train, idx_test = load_data()\n"
      ],
      "metadata": {
        "id": "MDjMXCcab9VD"
      },
      "execution_count": null,
      "outputs": []
    },
    {
      "cell_type": "code",
      "source": [
        "model = SFGCN(nfeat = fdim,\n",
        "            nhid1 = nhid1,\n",
        "            nhid2 = nhid2,\n",
        "            nclass = class_num,\n",
        "            n = n,\n",
        "            dropout = dropout)"
      ],
      "metadata": {
        "id": "_Z1VA4BocEm7"
      },
      "execution_count": null,
      "outputs": []
    },
    {
      "cell_type": "code",
      "source": [
        "\n",
        "cuda = torch.cuda.is_available()\n",
        "cuda"
      ],
      "metadata": {
        "colab": {
          "base_uri": "https://localhost:8080/"
        },
        "id": "KfN220uFV8r2",
        "outputId": "1cfdf41a-9e26-4ea5-d2f1-6dfbf605d17f"
      },
      "execution_count": null,
      "outputs": [
        {
          "output_type": "execute_result",
          "data": {
            "text/plain": [
              "True"
            ]
          },
          "metadata": {},
          "execution_count": 37
        }
      ]
    },
    {
      "cell_type": "code",
      "source": [
        "if cuda:\n",
        "    model.cuda()\n",
        "    features = features.cuda()\n",
        "    sadj = sadj.cuda()\n",
        "    fadj = fadj.cuda()\n",
        "    labels = labels.cuda()\n",
        "    idx_train = idx_train.cuda()\n",
        "    idx_test = idx_test.cuda()\n",
        "\n",
        "\n",
        "optimizer = optim.Adam(model.parameters(), lr=lr, weight_decay=weight_decay)\n",
        "\n"
      ],
      "metadata": {
        "id": "89rSihE9cHwk"
      },
      "execution_count": null,
      "outputs": []
    },
    {
      "cell_type": "code",
      "source": [
        "\n",
        "\n",
        "acc_max = 0\n",
        "f1_max = 0\n",
        "epoch_max = 0\n",
        "for epoch in range(epochs):\n",
        "    loss, acc_test, macro_f1, emb = train(model, epoch)\n",
        "    if acc_test >= acc_max:\n",
        "        acc_max = acc_test\n",
        "        f1_max = macro_f1\n",
        "        epoch_max = epoch\n",
        "print('epoch:{}'.format(epoch_max),\n",
        "        'acc_max: {:.4f}'.format(acc_max),\n",
        "        'f1_max: {:.4f}'.format(f1_max))\n"
      ],
      "metadata": {
        "id": "JS6GLQrDUqc6",
        "colab": {
          "base_uri": "https://localhost:8080/"
        },
        "outputId": "f077b7d3-38a4-400d-d02f-27535fc0c5d0"
      },
      "execution_count": null,
      "outputs": [
        {
          "output_type": "stream",
          "name": "stdout",
          "text": [
            "tensor([[[0.3466],\n",
            "         [0.3312],\n",
            "         [0.3222]],\n",
            "\n",
            "        [[0.3381],\n",
            "         [0.3349],\n",
            "         [0.3270]],\n",
            "\n",
            "        [[0.3443],\n",
            "         [0.3304],\n",
            "         [0.3253]],\n",
            "\n",
            "        ...,\n",
            "\n",
            "        [[0.3417],\n",
            "         [0.3270],\n",
            "         [0.3313]],\n",
            "\n",
            "        [[0.3380],\n",
            "         [0.3280],\n",
            "         [0.3340]],\n",
            "\n",
            "        [[0.3435],\n",
            "         [0.3276],\n",
            "         [0.3290]]], device='cuda:0', grad_fn=<SoftmaxBackward0>)\n",
            "tensor([[[0.3433],\n",
            "         [0.3334],\n",
            "         [0.3233]],\n",
            "\n",
            "        [[0.3385],\n",
            "         [0.3326],\n",
            "         [0.3289]],\n",
            "\n",
            "        [[0.3379],\n",
            "         [0.3323],\n",
            "         [0.3298]],\n",
            "\n",
            "        ...,\n",
            "\n",
            "        [[0.3387],\n",
            "         [0.3287],\n",
            "         [0.3326]],\n",
            "\n",
            "        [[0.3397],\n",
            "         [0.3304],\n",
            "         [0.3299]],\n",
            "\n",
            "        [[0.3396],\n",
            "         [0.3297],\n",
            "         [0.3307]]], device='cuda:0', grad_fn=<SoftmaxBackward0>)\n",
            "e:0 ltr: 1.7921 atr: 0.1583 ate: 0.1850 f1te:0.0571\n",
            "tensor([[[0.3451],\n",
            "         [0.3317],\n",
            "         [0.3232]],\n",
            "\n",
            "        [[0.3380],\n",
            "         [0.3346],\n",
            "         [0.3274]],\n",
            "\n",
            "        [[0.3277],\n",
            "         [0.3401],\n",
            "         [0.3322]],\n",
            "\n",
            "        ...,\n",
            "\n",
            "        [[0.3410],\n",
            "         [0.3263],\n",
            "         [0.3327]],\n",
            "\n",
            "        [[0.3354],\n",
            "         [0.3325],\n",
            "         [0.3321]],\n",
            "\n",
            "        [[0.3382],\n",
            "         [0.3290],\n",
            "         [0.3328]]], device='cuda:0', grad_fn=<SoftmaxBackward0>)\n",
            "tensor([[[0.3430],\n",
            "         [0.3330],\n",
            "         [0.3240]],\n",
            "\n",
            "        [[0.3386],\n",
            "         [0.3323],\n",
            "         [0.3291]],\n",
            "\n",
            "        [[0.3380],\n",
            "         [0.3321],\n",
            "         [0.3299]],\n",
            "\n",
            "        ...,\n",
            "\n",
            "        [[0.3388],\n",
            "         [0.3287],\n",
            "         [0.3325]],\n",
            "\n",
            "        [[0.3399],\n",
            "         [0.3300],\n",
            "         [0.3301]],\n",
            "\n",
            "        [[0.3394],\n",
            "         [0.3297],\n",
            "         [0.3310]]], device='cuda:0', grad_fn=<SoftmaxBackward0>)\n",
            "e:1 ltr: 1.7806 atr: 0.1667 ate: 0.2000 f1te:0.0822\n",
            "tensor([[[0.3450],\n",
            "         [0.3314],\n",
            "         [0.3236]],\n",
            "\n",
            "        [[0.3390],\n",
            "         [0.3310],\n",
            "         [0.3300]],\n",
            "\n",
            "        [[0.3321],\n",
            "         [0.3327],\n",
            "         [0.3352]],\n",
            "\n",
            "        ...,\n",
            "\n",
            "        [[0.3393],\n",
            "         [0.3296],\n",
            "         [0.3311]],\n",
            "\n",
            "        [[0.3426],\n",
            "         [0.3253],\n",
            "         [0.3320]],\n",
            "\n",
            "        [[0.3404],\n",
            "         [0.3283],\n",
            "         [0.3313]]], device='cuda:0', grad_fn=<SoftmaxBackward0>)\n",
            "tensor([[[0.3435],\n",
            "         [0.3323],\n",
            "         [0.3242]],\n",
            "\n",
            "        [[0.3392],\n",
            "         [0.3317],\n",
            "         [0.3291]],\n",
            "\n",
            "        [[0.3386],\n",
            "         [0.3316],\n",
            "         [0.3298]],\n",
            "\n",
            "        ...,\n",
            "\n",
            "        [[0.3395],\n",
            "         [0.3282],\n",
            "         [0.3323]],\n",
            "\n",
            "        [[0.3407],\n",
            "         [0.3292],\n",
            "         [0.3301]],\n",
            "\n",
            "        [[0.3397],\n",
            "         [0.3294],\n",
            "         [0.3309]]], device='cuda:0', grad_fn=<SoftmaxBackward0>)\n",
            "e:2 ltr: 1.7680 atr: 0.2167 ate: 0.2510 f1te:0.1561\n",
            "tensor([[[0.3429],\n",
            "         [0.3338],\n",
            "         [0.3234]],\n",
            "\n",
            "        [[0.3395],\n",
            "         [0.3317],\n",
            "         [0.3288]],\n",
            "\n",
            "        [[0.3435],\n",
            "         [0.3299],\n",
            "         [0.3266]],\n",
            "\n",
            "        ...,\n",
            "\n",
            "        [[0.3397],\n",
            "         [0.3276],\n",
            "         [0.3327]],\n",
            "\n",
            "        [[0.3507],\n",
            "         [0.3227],\n",
            "         [0.3266]],\n",
            "\n",
            "        [[0.3362],\n",
            "         [0.3302],\n",
            "         [0.3335]]], device='cuda:0', grad_fn=<SoftmaxBackward0>)\n",
            "tensor([[[0.3443],\n",
            "         [0.3312],\n",
            "         [0.3245]],\n",
            "\n",
            "        [[0.3402],\n",
            "         [0.3308],\n",
            "         [0.3290]],\n",
            "\n",
            "        [[0.3396],\n",
            "         [0.3307],\n",
            "         [0.3297]],\n",
            "\n",
            "        ...,\n",
            "\n",
            "        [[0.3405],\n",
            "         [0.3274],\n",
            "         [0.3321]],\n",
            "\n",
            "        [[0.3418],\n",
            "         [0.3282],\n",
            "         [0.3300]],\n",
            "\n",
            "        [[0.3403],\n",
            "         [0.3287],\n",
            "         [0.3309]]], device='cuda:0', grad_fn=<SoftmaxBackward0>)\n",
            "e:3 ltr: 1.7579 atr: 0.3833 ate: 0.3420 f1te:0.2696\n",
            "tensor([[[0.3409],\n",
            "         [0.3313],\n",
            "         [0.3277]],\n",
            "\n",
            "        [[0.3385],\n",
            "         [0.3325],\n",
            "         [0.3290]],\n",
            "\n",
            "        [[0.3449],\n",
            "         [0.3262],\n",
            "         [0.3289]],\n",
            "\n",
            "        ...,\n",
            "\n",
            "        [[0.3406],\n",
            "         [0.3250],\n",
            "         [0.3344]],\n",
            "\n",
            "        [[0.3502],\n",
            "         [0.3242],\n",
            "         [0.3256]],\n",
            "\n",
            "        [[0.3395],\n",
            "         [0.3284],\n",
            "         [0.3321]]], device='cuda:0', grad_fn=<SoftmaxBackward0>)\n",
            "tensor([[[0.3456],\n",
            "         [0.3298],\n",
            "         [0.3246]],\n",
            "\n",
            "        [[0.3415],\n",
            "         [0.3296],\n",
            "         [0.3289]],\n",
            "\n",
            "        [[0.3409],\n",
            "         [0.3296],\n",
            "         [0.3295]],\n",
            "\n",
            "        ...,\n",
            "\n",
            "        [[0.3420],\n",
            "         [0.3263],\n",
            "         [0.3317]],\n",
            "\n",
            "        [[0.3434],\n",
            "         [0.3269],\n",
            "         [0.3297]],\n",
            "\n",
            "        [[0.3413],\n",
            "         [0.3279],\n",
            "         [0.3308]]], device='cuda:0', grad_fn=<SoftmaxBackward0>)\n",
            "e:4 ltr: 1.7453 atr: 0.5417 ate: 0.4580 f1te:0.4083\n",
            "tensor([[[0.3433],\n",
            "         [0.3305],\n",
            "         [0.3261]],\n",
            "\n",
            "        [[0.3418],\n",
            "         [0.3284],\n",
            "         [0.3299]],\n",
            "\n",
            "        [[0.3374],\n",
            "         [0.3320],\n",
            "         [0.3306]],\n",
            "\n",
            "        ...,\n",
            "\n",
            "        [[0.3426],\n",
            "         [0.3257],\n",
            "         [0.3317]],\n",
            "\n",
            "        [[0.3421],\n",
            "         [0.3271],\n",
            "         [0.3309]],\n",
            "\n",
            "        [[0.3460],\n",
            "         [0.3260],\n",
            "         [0.3280]]], device='cuda:0', grad_fn=<SoftmaxBackward0>)\n",
            "tensor([[[0.3472],\n",
            "         [0.3282],\n",
            "         [0.3245]],\n",
            "\n",
            "        [[0.3432],\n",
            "         [0.3282],\n",
            "         [0.3286]],\n",
            "\n",
            "        [[0.3427],\n",
            "         [0.3282],\n",
            "         [0.3292]],\n",
            "\n",
            "        ...,\n",
            "\n",
            "        [[0.3438],\n",
            "         [0.3249],\n",
            "         [0.3313]],\n",
            "\n",
            "        [[0.3453],\n",
            "         [0.3253],\n",
            "         [0.3294]],\n",
            "\n",
            "        [[0.3427],\n",
            "         [0.3267],\n",
            "         [0.3306]]], device='cuda:0', grad_fn=<SoftmaxBackward0>)\n",
            "e:5 ltr: 1.7343 atr: 0.7000 ate: 0.5290 f1te:0.4908\n",
            "tensor([[[0.3444],\n",
            "         [0.3295],\n",
            "         [0.3261]],\n",
            "\n",
            "        [[0.3401],\n",
            "         [0.3300],\n",
            "         [0.3299]],\n",
            "\n",
            "        [[0.3443],\n",
            "         [0.3286],\n",
            "         [0.3270]],\n",
            "\n",
            "        ...,\n",
            "\n",
            "        [[0.3442],\n",
            "         [0.3251],\n",
            "         [0.3307]],\n",
            "\n",
            "        [[0.3402],\n",
            "         [0.3310],\n",
            "         [0.3288]],\n",
            "\n",
            "        [[0.3424],\n",
            "         [0.3269],\n",
            "         [0.3307]]], device='cuda:0', grad_fn=<SoftmaxBackward0>)\n",
            "tensor([[[0.3493],\n",
            "         [0.3263],\n",
            "         [0.3244]],\n",
            "\n",
            "        [[0.3453],\n",
            "         [0.3265],\n",
            "         [0.3282]],\n",
            "\n",
            "        [[0.3448],\n",
            "         [0.3264],\n",
            "         [0.3287]],\n",
            "\n",
            "        ...,\n",
            "\n",
            "        [[0.3460],\n",
            "         [0.3232],\n",
            "         [0.3308]],\n",
            "\n",
            "        [[0.3476],\n",
            "         [0.3235],\n",
            "         [0.3289]],\n",
            "\n",
            "        [[0.3444],\n",
            "         [0.3254],\n",
            "         [0.3302]]], device='cuda:0', grad_fn=<SoftmaxBackward0>)\n",
            "e:6 ltr: 1.7233 atr: 0.7917 ate: 0.6220 f1te:0.5882\n",
            "tensor([[[0.3487],\n",
            "         [0.3255],\n",
            "         [0.3258]],\n",
            "\n",
            "        [[0.3464],\n",
            "         [0.3261],\n",
            "         [0.3276]],\n",
            "\n",
            "        [[0.3489],\n",
            "         [0.3242],\n",
            "         [0.3269]],\n",
            "\n",
            "        ...,\n",
            "\n",
            "        [[0.3491],\n",
            "         [0.3201],\n",
            "         [0.3308]],\n",
            "\n",
            "        [[0.3426],\n",
            "         [0.3256],\n",
            "         [0.3319]],\n",
            "\n",
            "        [[0.3446],\n",
            "         [0.3261],\n",
            "         [0.3292]]], device='cuda:0', grad_fn=<SoftmaxBackward0>)\n",
            "tensor([[[0.3519],\n",
            "         [0.3241],\n",
            "         [0.3240]],\n",
            "\n",
            "        [[0.3479],\n",
            "         [0.3245],\n",
            "         [0.3277]],\n",
            "\n",
            "        [[0.3473],\n",
            "         [0.3245],\n",
            "         [0.3283]],\n",
            "\n",
            "        ...,\n",
            "\n",
            "        [[0.3486],\n",
            "         [0.3213],\n",
            "         [0.3302]],\n",
            "\n",
            "        [[0.3502],\n",
            "         [0.3214],\n",
            "         [0.3284]],\n",
            "\n",
            "        [[0.3465],\n",
            "         [0.3237],\n",
            "         [0.3298]]], device='cuda:0', grad_fn=<SoftmaxBackward0>)\n",
            "e:7 ltr: 1.7112 atr: 0.8500 ate: 0.6770 f1te:0.6398\n",
            "tensor([[[0.3478],\n",
            "         [0.3250],\n",
            "         [0.3272]],\n",
            "\n",
            "        [[0.3506],\n",
            "         [0.3233],\n",
            "         [0.3261]],\n",
            "\n",
            "        [[0.3494],\n",
            "         [0.3211],\n",
            "         [0.3294]],\n",
            "\n",
            "        ...,\n",
            "\n",
            "        [[0.3497],\n",
            "         [0.3196],\n",
            "         [0.3307]],\n",
            "\n",
            "        [[0.3498],\n",
            "         [0.3227],\n",
            "         [0.3276]],\n",
            "\n",
            "        [[0.3431],\n",
            "         [0.3247],\n",
            "         [0.3323]]], device='cuda:0', grad_fn=<SoftmaxBackward0>)\n",
            "tensor([[[0.3548],\n",
            "         [0.3217],\n",
            "         [0.3235]],\n",
            "\n",
            "        [[0.3508],\n",
            "         [0.3222],\n",
            "         [0.3270]],\n",
            "\n",
            "        [[0.3501],\n",
            "         [0.3222],\n",
            "         [0.3276]],\n",
            "\n",
            "        ...,\n",
            "\n",
            "        [[0.3516],\n",
            "         [0.3190],\n",
            "         [0.3294]],\n",
            "\n",
            "        [[0.3533],\n",
            "         [0.3191],\n",
            "         [0.3277]],\n",
            "\n",
            "        [[0.3491],\n",
            "         [0.3218],\n",
            "         [0.3292]]], device='cuda:0', grad_fn=<SoftmaxBackward0>)\n",
            "e:8 ltr: 1.6989 atr: 0.8750 ate: 0.6930 f1te:0.6551\n",
            "tensor([[[0.3600],\n",
            "         [0.3216],\n",
            "         [0.3184]],\n",
            "\n",
            "        [[0.3552],\n",
            "         [0.3211],\n",
            "         [0.3238]],\n",
            "\n",
            "        [[0.3463],\n",
            "         [0.3215],\n",
            "         [0.3322]],\n",
            "\n",
            "        ...,\n",
            "\n",
            "        [[0.3501],\n",
            "         [0.3214],\n",
            "         [0.3285]],\n",
            "\n",
            "        [[0.3566],\n",
            "         [0.3156],\n",
            "         [0.3278]],\n",
            "\n",
            "        [[0.3432],\n",
            "         [0.3246],\n",
            "         [0.3322]]], device='cuda:0', grad_fn=<SoftmaxBackward0>)\n",
            "tensor([[[0.3582],\n",
            "         [0.3189],\n",
            "         [0.3229]],\n",
            "\n",
            "        [[0.3541],\n",
            "         [0.3196],\n",
            "         [0.3262]],\n",
            "\n",
            "        [[0.3535],\n",
            "         [0.3197],\n",
            "         [0.3268]],\n",
            "\n",
            "        ...,\n",
            "\n",
            "        [[0.3551],\n",
            "         [0.3164],\n",
            "         [0.3286]],\n",
            "\n",
            "        [[0.3567],\n",
            "         [0.3165],\n",
            "         [0.3269]],\n",
            "\n",
            "        [[0.3519],\n",
            "         [0.3196],\n",
            "         [0.3285]]], device='cuda:0', grad_fn=<SoftmaxBackward0>)\n",
            "e:9 ltr: 1.6861 atr: 0.8750 ate: 0.7030 f1te:0.6661\n",
            "tensor([[[0.3559],\n",
            "         [0.3171],\n",
            "         [0.3269]],\n",
            "\n",
            "        [[0.3539],\n",
            "         [0.3199],\n",
            "         [0.3262]],\n",
            "\n",
            "        [[0.3529],\n",
            "         [0.3181],\n",
            "         [0.3290]],\n",
            "\n",
            "        ...,\n",
            "\n",
            "        [[0.3600],\n",
            "         [0.3140],\n",
            "         [0.3261]],\n",
            "\n",
            "        [[0.3544],\n",
            "         [0.3192],\n",
            "         [0.3264]],\n",
            "\n",
            "        [[0.3558],\n",
            "         [0.3183],\n",
            "         [0.3260]]], device='cuda:0', grad_fn=<SoftmaxBackward0>)\n",
            "tensor([[[0.3622],\n",
            "         [0.3158],\n",
            "         [0.3221]],\n",
            "\n",
            "        [[0.3580],\n",
            "         [0.3167],\n",
            "         [0.3253]],\n",
            "\n",
            "        [[0.3573],\n",
            "         [0.3168],\n",
            "         [0.3259]],\n",
            "\n",
            "        ...,\n",
            "\n",
            "        [[0.3591],\n",
            "         [0.3134],\n",
            "         [0.3275]],\n",
            "\n",
            "        [[0.3606],\n",
            "         [0.3135],\n",
            "         [0.3259]],\n",
            "\n",
            "        [[0.3553],\n",
            "         [0.3170],\n",
            "         [0.3276]]], device='cuda:0', grad_fn=<SoftmaxBackward0>)\n",
            "e:10 ltr: 1.6718 atr: 0.8833 ate: 0.7080 f1te:0.6701\n",
            "tensor([[[0.3609],\n",
            "         [0.3165],\n",
            "         [0.3226]],\n",
            "\n",
            "        [[0.3596],\n",
            "         [0.3159],\n",
            "         [0.3245]],\n",
            "\n",
            "        [[0.3546],\n",
            "         [0.3177],\n",
            "         [0.3277]],\n",
            "\n",
            "        ...,\n",
            "\n",
            "        [[0.3583],\n",
            "         [0.3137],\n",
            "         [0.3279]],\n",
            "\n",
            "        [[0.3644],\n",
            "         [0.3148],\n",
            "         [0.3208]],\n",
            "\n",
            "        [[0.3597],\n",
            "         [0.3155],\n",
            "         [0.3247]]], device='cuda:0', grad_fn=<SoftmaxBackward0>)\n",
            "tensor([[[0.3669],\n",
            "         [0.3122],\n",
            "         [0.3209]],\n",
            "\n",
            "        [[0.3625],\n",
            "         [0.3134],\n",
            "         [0.3241]],\n",
            "\n",
            "        [[0.3617],\n",
            "         [0.3135],\n",
            "         [0.3248]],\n",
            "\n",
            "        ...,\n",
            "\n",
            "        [[0.3637],\n",
            "         [0.3100],\n",
            "         [0.3263]],\n",
            "\n",
            "        [[0.3650],\n",
            "         [0.3102],\n",
            "         [0.3248]],\n",
            "\n",
            "        [[0.3593],\n",
            "         [0.3141],\n",
            "         [0.3266]]], device='cuda:0', grad_fn=<SoftmaxBackward0>)\n",
            "e:11 ltr: 1.6563 atr: 0.8750 ate: 0.6960 f1te:0.6564\n",
            "tensor([[[0.3697],\n",
            "         [0.3131],\n",
            "         [0.3172]],\n",
            "\n",
            "        [[0.3631],\n",
            "         [0.3131],\n",
            "         [0.3239]],\n",
            "\n",
            "        [[0.3597],\n",
            "         [0.3162],\n",
            "         [0.3242]],\n",
            "\n",
            "        ...,\n",
            "\n",
            "        [[0.3607],\n",
            "         [0.3116],\n",
            "         [0.3277]],\n",
            "\n",
            "        [[0.3636],\n",
            "         [0.3123],\n",
            "         [0.3241]],\n",
            "\n",
            "        [[0.3565],\n",
            "         [0.3150],\n",
            "         [0.3285]]], device='cuda:0', grad_fn=<SoftmaxBackward0>)\n",
            "tensor([[[0.3723],\n",
            "         [0.3082],\n",
            "         [0.3195]],\n",
            "\n",
            "        [[0.3677],\n",
            "         [0.3096],\n",
            "         [0.3227]],\n",
            "\n",
            "        [[0.3667],\n",
            "         [0.3098],\n",
            "         [0.3235]],\n",
            "\n",
            "        ...,\n",
            "\n",
            "        [[0.3691],\n",
            "         [0.3061],\n",
            "         [0.3248]],\n",
            "\n",
            "        [[0.3701],\n",
            "         [0.3065],\n",
            "         [0.3234]],\n",
            "\n",
            "        [[0.3639],\n",
            "         [0.3108],\n",
            "         [0.3252]]], device='cuda:0', grad_fn=<SoftmaxBackward0>)\n",
            "e:12 ltr: 1.6400 atr: 0.8833 ate: 0.6960 f1te:0.6560\n",
            "tensor([[[0.3755],\n",
            "         [0.3069],\n",
            "         [0.3176]],\n",
            "\n",
            "        [[0.3646],\n",
            "         [0.3118],\n",
            "         [0.3236]],\n",
            "\n",
            "        [[0.3676],\n",
            "         [0.3084],\n",
            "         [0.3240]],\n",
            "\n",
            "        ...,\n",
            "\n",
            "        [[0.3687],\n",
            "         [0.3065],\n",
            "         [0.3248]],\n",
            "\n",
            "        [[0.3698],\n",
            "         [0.3051],\n",
            "         [0.3251]],\n",
            "\n",
            "        [[0.3616],\n",
            "         [0.3127],\n",
            "         [0.3257]]], device='cuda:0', grad_fn=<SoftmaxBackward0>)\n",
            "tensor([[[0.3786],\n",
            "         [0.3036],\n",
            "         [0.3178]],\n",
            "\n",
            "        [[0.3736],\n",
            "         [0.3054],\n",
            "         [0.3210]],\n",
            "\n",
            "        [[0.3725],\n",
            "         [0.3056],\n",
            "         [0.3220]],\n",
            "\n",
            "        ...,\n",
            "\n",
            "        [[0.3752],\n",
            "         [0.3017],\n",
            "         [0.3230]],\n",
            "\n",
            "        [[0.3759],\n",
            "         [0.3023],\n",
            "         [0.3217]],\n",
            "\n",
            "        [[0.3692],\n",
            "         [0.3071],\n",
            "         [0.3237]]], device='cuda:0', grad_fn=<SoftmaxBackward0>)\n",
            "e:13 ltr: 1.6211 atr: 0.8833 ate: 0.6960 f1te:0.6556\n",
            "tensor([[[0.3781],\n",
            "         [0.3019],\n",
            "         [0.3200]],\n",
            "\n",
            "        [[0.3713],\n",
            "         [0.3051],\n",
            "         [0.3236]],\n",
            "\n",
            "        [[0.3720],\n",
            "         [0.3044],\n",
            "         [0.3236]],\n",
            "\n",
            "        ...,\n",
            "\n",
            "        [[0.3723],\n",
            "         [0.3020],\n",
            "         [0.3257]],\n",
            "\n",
            "        [[0.3812],\n",
            "         [0.3002],\n",
            "         [0.3185]],\n",
            "\n",
            "        [[0.3722],\n",
            "         [0.3069],\n",
            "         [0.3209]]], device='cuda:0', grad_fn=<SoftmaxBackward0>)\n",
            "tensor([[[0.3857],\n",
            "         [0.2984],\n",
            "         [0.3159]],\n",
            "\n",
            "        [[0.3804],\n",
            "         [0.3005],\n",
            "         [0.3191]],\n",
            "\n",
            "        [[0.3791],\n",
            "         [0.3007],\n",
            "         [0.3201]],\n",
            "\n",
            "        ...,\n",
            "\n",
            "        [[0.3824],\n",
            "         [0.2967],\n",
            "         [0.3210]],\n",
            "\n",
            "        [[0.3827],\n",
            "         [0.2975],\n",
            "         [0.3198]],\n",
            "\n",
            "        [[0.3753],\n",
            "         [0.3029],\n",
            "         [0.3218]]], device='cuda:0', grad_fn=<SoftmaxBackward0>)\n",
            "e:14 ltr: 1.6034 atr: 0.8833 ate: 0.6960 f1te:0.6538\n",
            "tensor([[[0.3845],\n",
            "         [0.2998],\n",
            "         [0.3157]],\n",
            "\n",
            "        [[0.3814],\n",
            "         [0.2996],\n",
            "         [0.3190]],\n",
            "\n",
            "        [[0.3756],\n",
            "         [0.3030],\n",
            "         [0.3214]],\n",
            "\n",
            "        ...,\n",
            "\n",
            "        [[0.3802],\n",
            "         [0.2964],\n",
            "         [0.3234]],\n",
            "\n",
            "        [[0.3764],\n",
            "         [0.2979],\n",
            "         [0.3256]],\n",
            "\n",
            "        [[0.3785],\n",
            "         [0.3013],\n",
            "         [0.3201]]], device='cuda:0', grad_fn=<SoftmaxBackward0>)\n",
            "tensor([[[0.3940],\n",
            "         [0.2925],\n",
            "         [0.3135]],\n",
            "\n",
            "        [[0.3883],\n",
            "         [0.2949],\n",
            "         [0.3168]],\n",
            "\n",
            "        [[0.3869],\n",
            "         [0.2952],\n",
            "         [0.3179]],\n",
            "\n",
            "        ...,\n",
            "\n",
            "        [[0.3906],\n",
            "         [0.2909],\n",
            "         [0.3185]],\n",
            "\n",
            "        [[0.3905],\n",
            "         [0.2920],\n",
            "         [0.3175]],\n",
            "\n",
            "        [[0.3823],\n",
            "         [0.2981],\n",
            "         [0.3196]]], device='cuda:0', grad_fn=<SoftmaxBackward0>)\n",
            "e:15 ltr: 1.5801 atr: 0.8833 ate: 0.6950 f1te:0.6537\n",
            "tensor([[[0.3986],\n",
            "         [0.2893],\n",
            "         [0.3121]],\n",
            "\n",
            "        [[0.3880],\n",
            "         [0.2965],\n",
            "         [0.3155]],\n",
            "\n",
            "        [[0.3829],\n",
            "         [0.2959],\n",
            "         [0.3213]],\n",
            "\n",
            "        ...,\n",
            "\n",
            "        [[0.3909],\n",
            "         [0.2894],\n",
            "         [0.3197]],\n",
            "\n",
            "        [[0.3823],\n",
            "         [0.2937],\n",
            "         [0.3240]],\n",
            "\n",
            "        [[0.3830],\n",
            "         [0.2977],\n",
            "         [0.3193]]], device='cuda:0', grad_fn=<SoftmaxBackward0>)\n",
            "tensor([[[0.4038],\n",
            "         [0.2857],\n",
            "         [0.3105]],\n",
            "\n",
            "        [[0.3976],\n",
            "         [0.2885],\n",
            "         [0.3139]],\n",
            "\n",
            "        [[0.3959],\n",
            "         [0.2888],\n",
            "         [0.3152]],\n",
            "\n",
            "        ...,\n",
            "\n",
            "        [[0.4004],\n",
            "         [0.2843],\n",
            "         [0.3153]],\n",
            "\n",
            "        [[0.3997],\n",
            "         [0.2857],\n",
            "         [0.3147]],\n",
            "\n",
            "        [[0.3906],\n",
            "         [0.2926],\n",
            "         [0.3168]]], device='cuda:0', grad_fn=<SoftmaxBackward0>)\n",
            "e:16 ltr: 1.5550 atr: 0.8667 ate: 0.6940 f1te:0.6536\n",
            "tensor([[[0.3983],\n",
            "         [0.2893],\n",
            "         [0.3124]],\n",
            "\n",
            "        [[0.3994],\n",
            "         [0.2887],\n",
            "         [0.3120]],\n",
            "\n",
            "        [[0.3918],\n",
            "         [0.2904],\n",
            "         [0.3178]],\n",
            "\n",
            "        ...,\n",
            "\n",
            "        [[0.4020],\n",
            "         [0.2839],\n",
            "         [0.3140]],\n",
            "\n",
            "        [[0.4039],\n",
            "         [0.2847],\n",
            "         [0.3114]],\n",
            "\n",
            "        [[0.3913],\n",
            "         [0.2904],\n",
            "         [0.3183]]], device='cuda:0', grad_fn=<SoftmaxBackward0>)\n",
            "tensor([[[0.4153],\n",
            "         [0.2779],\n",
            "         [0.3068]],\n",
            "\n",
            "        [[0.4087],\n",
            "         [0.2810],\n",
            "         [0.3103]],\n",
            "\n",
            "        [[0.4067],\n",
            "         [0.2815],\n",
            "         [0.3118]],\n",
            "\n",
            "        ...,\n",
            "\n",
            "        [[0.4119],\n",
            "         [0.2766],\n",
            "         [0.3115]],\n",
            "\n",
            "        [[0.4104],\n",
            "         [0.2784],\n",
            "         [0.3113]],\n",
            "\n",
            "        [[0.4002],\n",
            "         [0.2863],\n",
            "         [0.3134]]], device='cuda:0', grad_fn=<SoftmaxBackward0>)\n",
            "e:17 ltr: 1.5293 atr: 0.8583 ate: 0.6950 f1te:0.6538\n",
            "tensor([[[0.4054],\n",
            "         [0.2785],\n",
            "         [0.3160]],\n",
            "\n",
            "        [[0.4097],\n",
            "         [0.2801],\n",
            "         [0.3102]],\n",
            "\n",
            "        [[0.4078],\n",
            "         [0.2804],\n",
            "         [0.3119]],\n",
            "\n",
            "        ...,\n",
            "\n",
            "        [[0.4140],\n",
            "         [0.2759],\n",
            "         [0.3100]],\n",
            "\n",
            "        [[0.4064],\n",
            "         [0.2772],\n",
            "         [0.3164]],\n",
            "\n",
            "        [[0.3970],\n",
            "         [0.2887],\n",
            "         [0.3143]]], device='cuda:0', grad_fn=<SoftmaxBackward0>)\n",
            "tensor([[[0.4291],\n",
            "         [0.2687],\n",
            "         [0.3022]],\n",
            "\n",
            "        [[0.4218],\n",
            "         [0.2724],\n",
            "         [0.3059]],\n",
            "\n",
            "        [[0.4196],\n",
            "         [0.2729],\n",
            "         [0.3076]],\n",
            "\n",
            "        ...,\n",
            "\n",
            "        [[0.4258],\n",
            "         [0.2676],\n",
            "         [0.3067]],\n",
            "\n",
            "        [[0.4230],\n",
            "         [0.2699],\n",
            "         [0.3071]],\n",
            "\n",
            "        [[0.4118],\n",
            "         [0.2790],\n",
            "         [0.3092]]], device='cuda:0', grad_fn=<SoftmaxBackward0>)\n",
            "e:18 ltr: 1.4973 atr: 0.8583 ate: 0.6970 f1te:0.6577\n",
            "tensor([[[0.4276],\n",
            "         [0.2673],\n",
            "         [0.3051]],\n",
            "\n",
            "        [[0.4208],\n",
            "         [0.2731],\n",
            "         [0.3061]],\n",
            "\n",
            "        [[0.4166],\n",
            "         [0.2756],\n",
            "         [0.3078]],\n",
            "\n",
            "        ...,\n",
            "\n",
            "        [[0.4249],\n",
            "         [0.2693],\n",
            "         [0.3058]],\n",
            "\n",
            "        [[0.4266],\n",
            "         [0.2638],\n",
            "         [0.3096]],\n",
            "\n",
            "        [[0.4126],\n",
            "         [0.2792],\n",
            "         [0.3082]]], device='cuda:0', grad_fn=<SoftmaxBackward0>)\n",
            "tensor([[[0.4458],\n",
            "         [0.2580],\n",
            "         [0.2962]],\n",
            "\n",
            "        [[0.4376],\n",
            "         [0.2622],\n",
            "         [0.3002]],\n",
            "\n",
            "        [[0.4350],\n",
            "         [0.2629],\n",
            "         [0.3021]],\n",
            "\n",
            "        ...,\n",
            "\n",
            "        [[0.4426],\n",
            "         [0.2570],\n",
            "         [0.3005]],\n",
            "\n",
            "        [[0.4383],\n",
            "         [0.2600],\n",
            "         [0.3017]],\n",
            "\n",
            "        [[0.4257],\n",
            "         [0.2705],\n",
            "         [0.3038]]], device='cuda:0', grad_fn=<SoftmaxBackward0>)\n",
            "e:19 ltr: 1.4609 atr: 0.8500 ate: 0.6980 f1te:0.6604\n",
            "tensor([[[0.4491],\n",
            "         [0.2555],\n",
            "         [0.2954]],\n",
            "\n",
            "        [[0.4379],\n",
            "         [0.2616],\n",
            "         [0.3005]],\n",
            "\n",
            "        [[0.4282],\n",
            "         [0.2638],\n",
            "         [0.3080]],\n",
            "\n",
            "        ...,\n",
            "\n",
            "        [[0.4350],\n",
            "         [0.2592],\n",
            "         [0.3058]],\n",
            "\n",
            "        [[0.4344],\n",
            "         [0.2604],\n",
            "         [0.3052]],\n",
            "\n",
            "        [[0.4258],\n",
            "         [0.2697],\n",
            "         [0.3045]]], device='cuda:0', grad_fn=<SoftmaxBackward0>)\n",
            "tensor([[[0.4659],\n",
            "         [0.2455],\n",
            "         [0.2886]],\n",
            "\n",
            "        [[0.4567],\n",
            "         [0.2503],\n",
            "         [0.2930]],\n",
            "\n",
            "        [[0.4536],\n",
            "         [0.2512],\n",
            "         [0.2952]],\n",
            "\n",
            "        ...,\n",
            "\n",
            "        [[0.4628],\n",
            "         [0.2446],\n",
            "         [0.2927]],\n",
            "\n",
            "        [[0.4567],\n",
            "         [0.2484],\n",
            "         [0.2949]],\n",
            "\n",
            "        [[0.4425],\n",
            "         [0.2605],\n",
            "         [0.2970]]], device='cuda:0', grad_fn=<SoftmaxBackward0>)\n",
            "e:20 ltr: 1.4248 atr: 0.8750 ate: 0.6970 f1te:0.6596\n",
            "tensor([[[0.4690],\n",
            "         [0.2437],\n",
            "         [0.2873]],\n",
            "\n",
            "        [[0.4575],\n",
            "         [0.2514],\n",
            "         [0.2911]],\n",
            "\n",
            "        [[0.4551],\n",
            "         [0.2506],\n",
            "         [0.2942]],\n",
            "\n",
            "        ...,\n",
            "\n",
            "        [[0.4642],\n",
            "         [0.2442],\n",
            "         [0.2916]],\n",
            "\n",
            "        [[0.4545],\n",
            "         [0.2485],\n",
            "         [0.2969]],\n",
            "\n",
            "        [[0.4368],\n",
            "         [0.2648],\n",
            "         [0.2983]]], device='cuda:0', grad_fn=<SoftmaxBackward0>)\n",
            "tensor([[[0.4900],\n",
            "         [0.2310],\n",
            "         [0.2790]],\n",
            "\n",
            "        [[0.4796],\n",
            "         [0.2365],\n",
            "         [0.2839]],\n",
            "\n",
            "        [[0.4758],\n",
            "         [0.2376],\n",
            "         [0.2866]],\n",
            "\n",
            "        ...,\n",
            "\n",
            "        [[0.4870],\n",
            "         [0.2302],\n",
            "         [0.2828]],\n",
            "\n",
            "        [[0.4787],\n",
            "         [0.2349],\n",
            "         [0.2864]],\n",
            "\n",
            "        [[0.4625],\n",
            "         [0.2489],\n",
            "         [0.2886]]], device='cuda:0', grad_fn=<SoftmaxBackward0>)\n",
            "e:21 ltr: 1.3848 atr: 0.8833 ate: 0.7020 f1te:0.6655\n",
            "tensor([[[0.4936],\n",
            "         [0.2302],\n",
            "         [0.2762]],\n",
            "\n",
            "        [[0.4858],\n",
            "         [0.2327],\n",
            "         [0.2814]],\n",
            "\n",
            "        [[0.4641],\n",
            "         [0.2404],\n",
            "         [0.2955]],\n",
            "\n",
            "        ...,\n",
            "\n",
            "        [[0.4905],\n",
            "         [0.2286],\n",
            "         [0.2809]],\n",
            "\n",
            "        [[0.4780],\n",
            "         [0.2382],\n",
            "         [0.2838]],\n",
            "\n",
            "        [[0.4586],\n",
            "         [0.2488],\n",
            "         [0.2926]]], device='cuda:0', grad_fn=<SoftmaxBackward0>)\n",
            "tensor([[[0.5190],\n",
            "         [0.2143],\n",
            "         [0.2667]],\n",
            "\n",
            "        [[0.5073],\n",
            "         [0.2204],\n",
            "         [0.2723]],\n",
            "\n",
            "        [[0.5028],\n",
            "         [0.2218],\n",
            "         [0.2754]],\n",
            "\n",
            "        ...,\n",
            "\n",
            "        [[0.5163],\n",
            "         [0.2135],\n",
            "         [0.2702]],\n",
            "\n",
            "        [[0.5053],\n",
            "         [0.2192],\n",
            "         [0.2755]],\n",
            "\n",
            "        [[0.4869],\n",
            "         [0.2353],\n",
            "         [0.2778]]], device='cuda:0', grad_fn=<SoftmaxBackward0>)\n",
            "e:22 ltr: 1.3283 atr: 0.8833 ate: 0.6990 f1te:0.6629\n",
            "tensor([[[0.5227],\n",
            "         [0.2121],\n",
            "         [0.2652]],\n",
            "\n",
            "        [[0.5085],\n",
            "         [0.2203],\n",
            "         [0.2712]],\n",
            "\n",
            "        [[0.5066],\n",
            "         [0.2173],\n",
            "         [0.2760]],\n",
            "\n",
            "        ...,\n",
            "\n",
            "        [[0.5166],\n",
            "         [0.2127],\n",
            "         [0.2706]],\n",
            "\n",
            "        [[0.5042],\n",
            "         [0.2226],\n",
            "         [0.2732]],\n",
            "\n",
            "        [[0.4912],\n",
            "         [0.2345],\n",
            "         [0.2743]]], device='cuda:0', grad_fn=<SoftmaxBackward0>)\n",
            "tensor([[[0.5536],\n",
            "         [0.1952],\n",
            "         [0.2511]],\n",
            "\n",
            "        [[0.5406],\n",
            "         [0.2020],\n",
            "         [0.2574]],\n",
            "\n",
            "        [[0.5355],\n",
            "         [0.2036],\n",
            "         [0.2609]],\n",
            "\n",
            "        ...,\n",
            "\n",
            "        [[0.5513],\n",
            "         [0.1944],\n",
            "         [0.2543]],\n",
            "\n",
            "        [[0.5374],\n",
            "         [0.2012],\n",
            "         [0.2615]],\n",
            "\n",
            "        [[0.5161],\n",
            "         [0.2197],\n",
            "         [0.2643]]], device='cuda:0', grad_fn=<SoftmaxBackward0>)\n",
            "e:23 ltr: 1.2761 atr: 0.8833 ate: 0.6950 f1te:0.6603\n",
            "tensor([[[0.5636],\n",
            "         [0.1897],\n",
            "         [0.2467]],\n",
            "\n",
            "        [[0.5445],\n",
            "         [0.1998],\n",
            "         [0.2556]],\n",
            "\n",
            "        [[0.5301],\n",
            "         [0.2040],\n",
            "         [0.2659]],\n",
            "\n",
            "        ...,\n",
            "\n",
            "        [[0.5543],\n",
            "         [0.1934],\n",
            "         [0.2523]],\n",
            "\n",
            "        [[0.5419],\n",
            "         [0.2011],\n",
            "         [0.2570]],\n",
            "\n",
            "        [[0.5249],\n",
            "         [0.2152],\n",
            "         [0.2600]]], device='cuda:0', grad_fn=<SoftmaxBackward0>)\n",
            "tensor([[[0.5942],\n",
            "         [0.1739],\n",
            "         [0.2319]],\n",
            "\n",
            "        [[0.5798],\n",
            "         [0.1813],\n",
            "         [0.2389]],\n",
            "\n",
            "        [[0.5742],\n",
            "         [0.1831],\n",
            "         [0.2427]],\n",
            "\n",
            "        ...,\n",
            "\n",
            "        [[0.5925],\n",
            "         [0.1731],\n",
            "         [0.2345]],\n",
            "\n",
            "        [[0.5753],\n",
            "         [0.1809],\n",
            "         [0.2438]],\n",
            "\n",
            "        [[0.5507],\n",
            "         [0.2018],\n",
            "         [0.2475]]], device='cuda:0', grad_fn=<SoftmaxBackward0>)\n",
            "e:24 ltr: 1.2122 atr: 0.8833 ate: 0.6880 f1te:0.6543\n",
            "epoch:10 acc_max: 0.7080 f1_max: 0.6701\n"
          ]
        }
      ]
    },
    {
      "cell_type": "code",
      "source": [],
      "metadata": {
        "id": "wmBvJ2VM1Tcf"
      },
      "execution_count": null,
      "outputs": []
    },
    {
      "cell_type": "markdown",
      "source": [
        "# Structural only"
      ],
      "metadata": {
        "id": "XmEXcS5y1T62"
      }
    },
    {
      "cell_type": "code",
      "source": [],
      "metadata": {
        "id": "5ufj3mE91T63"
      },
      "execution_count": null,
      "outputs": []
    },
    {
      "cell_type": "code",
      "source": [
        "model = SGCN(nfeat = fdim,\n",
        "            nhid1 = nhid1,\n",
        "            nhid2 = nhid2,\n",
        "            nclass = class_num,\n",
        "            n = n,\n",
        "            dropout = dropout)"
      ],
      "metadata": {
        "id": "SRJrKvtI1T63"
      },
      "execution_count": null,
      "outputs": []
    },
    {
      "cell_type": "code",
      "source": [
        "\n",
        "cuda = torch.cuda.is_available()\n",
        "cuda"
      ],
      "metadata": {
        "colab": {
          "base_uri": "https://localhost:8080/"
        },
        "outputId": "5c964029-258b-4e3d-a34c-50e9db219d84",
        "id": "OY02KS3r1T63"
      },
      "execution_count": null,
      "outputs": [
        {
          "output_type": "execute_result",
          "data": {
            "text/plain": [
              "True"
            ]
          },
          "metadata": {},
          "execution_count": 35
        }
      ]
    },
    {
      "cell_type": "code",
      "source": [
        "if cuda:\n",
        "    model.cuda()\n",
        "    features = features.cuda()\n",
        "    sadj = sadj.cuda()\n",
        "    fadj = fadj.cuda()\n",
        "    labels = labels.cuda()\n",
        "    idx_train = idx_train.cuda()\n",
        "    idx_test = idx_test.cuda()\n",
        "\n",
        "\n",
        "optimizer = optim.Adam(model.parameters(), lr=lr, weight_decay=weight_decay)\n",
        "\n"
      ],
      "metadata": {
        "id": "g9YTzLp91T64"
      },
      "execution_count": null,
      "outputs": []
    },
    {
      "cell_type": "code",
      "source": [
        "\n",
        "\n",
        "acc_max = 0\n",
        "f1_max = 0\n",
        "epoch_max = 0\n",
        "for epoch in range(epochs):\n",
        "    loss, acc_test, macro_f1, emb = train_s(model, epoch)\n",
        "    if acc_test >= acc_max:\n",
        "        acc_max = acc_test\n",
        "        f1_max = macro_f1\n",
        "        epoch_max = epoch\n",
        "print('epoch:{}'.format(epoch_max),\n",
        "        'acc_max: {:.4f}'.format(acc_max),\n",
        "        'f1_max: {:.4f}'.format(f1_max))\n"
      ],
      "metadata": {
        "colab": {
          "base_uri": "https://localhost:8080/"
        },
        "outputId": "1897a12a-16e2-4478-f60c-25a31c39fbe2",
        "id": "1pUbhFN91T64"
      },
      "execution_count": null,
      "outputs": [
        {
          "output_type": "stream",
          "name": "stdout",
          "text": [
            "e:0 ltr: 1.7739 atr: 0.3250 ate: 0.3660 f1te:0.2302\n",
            "e:1 ltr: 1.7561 atr: 0.4667 ate: 0.4650 f1te:0.3372\n",
            "e:2 ltr: 1.7393 atr: 0.6167 ate: 0.5490 f1te:0.4502\n",
            "e:3 ltr: 1.7222 atr: 0.7583 ate: 0.6160 f1te:0.5417\n",
            "e:4 ltr: 1.7036 atr: 0.8583 ate: 0.6730 f1te:0.6168\n",
            "e:5 ltr: 1.6851 atr: 0.9000 ate: 0.7080 f1te:0.6567\n",
            "e:6 ltr: 1.6662 atr: 0.9167 ate: 0.7260 f1te:0.6764\n",
            "e:7 ltr: 1.6466 atr: 0.9083 ate: 0.7310 f1te:0.6861\n",
            "e:8 ltr: 1.6237 atr: 0.9167 ate: 0.7300 f1te:0.6870\n",
            "e:9 ltr: 1.5971 atr: 0.9250 ate: 0.7350 f1te:0.6933\n",
            "e:10 ltr: 1.5761 atr: 0.9083 ate: 0.7310 f1te:0.6899\n",
            "e:11 ltr: 1.5460 atr: 0.9083 ate: 0.7290 f1te:0.6878\n",
            "e:12 ltr: 1.5120 atr: 0.9167 ate: 0.7290 f1te:0.6891\n",
            "e:13 ltr: 1.4767 atr: 0.9250 ate: 0.7290 f1te:0.6892\n",
            "e:14 ltr: 1.4385 atr: 0.9167 ate: 0.7290 f1te:0.6897\n",
            "e:15 ltr: 1.3998 atr: 0.9083 ate: 0.7270 f1te:0.6865\n",
            "e:16 ltr: 1.3527 atr: 0.9167 ate: 0.7280 f1te:0.6876\n",
            "e:17 ltr: 1.2996 atr: 0.9167 ate: 0.7280 f1te:0.6875\n",
            "e:18 ltr: 1.2485 atr: 0.9083 ate: 0.7250 f1te:0.6851\n",
            "e:19 ltr: 1.1849 atr: 0.9167 ate: 0.7210 f1te:0.6813\n",
            "e:20 ltr: 1.1265 atr: 0.9083 ate: 0.7200 f1te:0.6825\n",
            "e:21 ltr: 1.0587 atr: 0.9250 ate: 0.7180 f1te:0.6809\n",
            "e:22 ltr: 0.9952 atr: 0.9333 ate: 0.7140 f1te:0.6775\n",
            "e:23 ltr: 0.9300 atr: 0.9333 ate: 0.7130 f1te:0.6789\n",
            "e:24 ltr: 0.8533 atr: 0.9500 ate: 0.7110 f1te:0.6771\n",
            "epoch:9 acc_max: 0.7350 f1_max: 0.6933\n"
          ]
        }
      ]
    },
    {
      "cell_type": "code",
      "source": [
        "\n"
      ],
      "metadata": {
        "id": "m5S-84Rw1T64"
      },
      "execution_count": null,
      "outputs": []
    },
    {
      "cell_type": "markdown",
      "source": [
        "# Feature only"
      ],
      "metadata": {
        "id": "FTkA6lEd1T64"
      }
    },
    {
      "cell_type": "code",
      "source": [
        "model = FGCN(nfeat = fdim,\n",
        "            nhid1 = nhid1,\n",
        "            nhid2 = nhid2,\n",
        "            nclass = class_num,\n",
        "            n = n,\n",
        "            dropout = dropout)"
      ],
      "metadata": {
        "id": "UAazEOX71T64"
      },
      "execution_count": null,
      "outputs": []
    },
    {
      "cell_type": "code",
      "source": [
        "\n",
        "cuda = torch.cuda.is_available()\n",
        "cuda"
      ],
      "metadata": {
        "colab": {
          "base_uri": "https://localhost:8080/"
        },
        "outputId": "4ee974a0-d490-4eb5-de9b-d6c8ec22c821",
        "id": "iqP7AgTS1T65"
      },
      "execution_count": null,
      "outputs": [
        {
          "output_type": "execute_result",
          "data": {
            "text/plain": [
              "True"
            ]
          },
          "metadata": {},
          "execution_count": 30
        }
      ]
    },
    {
      "cell_type": "code",
      "source": [
        "if cuda:\n",
        "    model.cuda()\n",
        "    features = features.cuda()\n",
        "    sadj = sadj.cuda()\n",
        "    fadj = fadj.cuda()\n",
        "    labels = labels.cuda()\n",
        "    idx_train = idx_train.cuda()\n",
        "    idx_test = idx_test.cuda()\n",
        "\n",
        "\n",
        "optimizer = optim.Adam(model.parameters(), lr=lr, weight_decay=weight_decay)\n",
        "\n"
      ],
      "metadata": {
        "id": "-m-CuT521T65"
      },
      "execution_count": null,
      "outputs": []
    },
    {
      "cell_type": "code",
      "source": [
        "\n",
        "\n",
        "acc_max = 0\n",
        "f1_max = 0\n",
        "epoch_max = 0\n",
        "for epoch in range(epochs):\n",
        "    loss, acc_test, macro_f1, emb = train_f(model, epoch)\n",
        "    if acc_test >= acc_max:\n",
        "        acc_max = acc_test\n",
        "        f1_max = macro_f1\n",
        "        epoch_max = epoch\n",
        "print('epoch:{}'.format(epoch_max),\n",
        "        'acc_max: {:.4f}'.format(acc_max),\n",
        "        'f1_max: {:.4f}'.format(f1_max))\n"
      ],
      "metadata": {
        "id": "ZM9KY30Z1T65"
      },
      "execution_count": null,
      "outputs": []
    },
    {
      "cell_type": "markdown",
      "source": [
        "# S, F"
      ],
      "metadata": {
        "id": "32JYp13eTwrO"
      }
    },
    {
      "cell_type": "code",
      "source": [
        "model = sfGCN(nfeat = fdim,\n",
        "            nhid1 = nhid1,\n",
        "            nhid2 = nhid2,\n",
        "            nclass = class_num,\n",
        "            n = n,\n",
        "            dropout = dropout)"
      ],
      "metadata": {
        "id": "zOd68_MxTvGa"
      },
      "execution_count": null,
      "outputs": []
    },
    {
      "cell_type": "code",
      "source": [
        "\n",
        "cuda = torch.cuda.is_available()\n",
        "cuda"
      ],
      "metadata": {
        "colab": {
          "base_uri": "https://localhost:8080/"
        },
        "outputId": "331a7bfa-fa5c-4e0f-d1f1-cdb94c9bed2e",
        "id": "S0RyyXl-TvGa"
      },
      "execution_count": null,
      "outputs": [
        {
          "output_type": "execute_result",
          "data": {
            "text/plain": [
              "True"
            ]
          },
          "metadata": {},
          "execution_count": 56
        }
      ]
    },
    {
      "cell_type": "code",
      "source": [
        "if cuda:\n",
        "    model.cuda()\n",
        "    features = features.cuda()\n",
        "    sadj = sadj.cuda()\n",
        "    fadj = fadj.cuda()\n",
        "    labels = labels.cuda()\n",
        "    idx_train = idx_train.cuda()\n",
        "    idx_test = idx_test.cuda()\n",
        "\n",
        "\n",
        "optimizer = optim.Adam(model.parameters(), lr=lr, weight_decay=weight_decay)\n",
        "\n"
      ],
      "metadata": {
        "id": "GMRrq978TvGb"
      },
      "execution_count": null,
      "outputs": []
    },
    {
      "cell_type": "code",
      "source": [
        "\n",
        "\n",
        "acc_max = 0\n",
        "f1_max = 0\n",
        "epoch_max = 0\n",
        "for epoch in range(epochs):\n",
        "    loss, acc_test, macro_f1, emb = train_sf(model, epoch)\n",
        "    if acc_test >= acc_max:\n",
        "        acc_max = acc_test\n",
        "        f1_max = macro_f1\n",
        "        epoch_max = epoch\n",
        "print('epoch:{}'.format(epoch_max),\n",
        "        'acc_max: {:.4f}'.format(acc_max),\n",
        "        'f1_max: {:.4f}'.format(f1_max))\n"
      ],
      "metadata": {
        "colab": {
          "base_uri": "https://localhost:8080/"
        },
        "outputId": "48b9a71e-85ff-40e6-a070-0d305849e92d",
        "id": "2PNsPZRuTvGb"
      },
      "execution_count": null,
      "outputs": [
        {
          "output_type": "stream",
          "name": "stdout",
          "text": [
            "e:0 ltr: 1.7901 atr: 0.1500 ate: 0.2530 f1te:0.1004\n",
            "e:1 ltr: 1.7740 atr: 0.2000 ate: 0.2810 f1te:0.1349\n",
            "e:2 ltr: 1.7564 atr: 0.3083 ate: 0.3710 f1te:0.2771\n",
            "e:3 ltr: 1.7408 atr: 0.5667 ate: 0.4910 f1te:0.4381\n",
            "e:4 ltr: 1.7261 atr: 0.7500 ate: 0.5830 f1te:0.5413\n",
            "e:5 ltr: 1.7087 atr: 0.8750 ate: 0.6400 f1te:0.5964\n",
            "e:6 ltr: 1.6918 atr: 0.8583 ate: 0.6760 f1te:0.6316\n",
            "e:7 ltr: 1.6749 atr: 0.8917 ate: 0.6970 f1te:0.6520\n",
            "e:8 ltr: 1.6549 atr: 0.8750 ate: 0.7020 f1te:0.6582\n",
            "e:9 ltr: 1.6336 atr: 0.8917 ate: 0.7070 f1te:0.6652\n",
            "e:10 ltr: 1.6103 atr: 0.8750 ate: 0.7030 f1te:0.6635\n",
            "e:11 ltr: 1.5881 atr: 0.8750 ate: 0.7110 f1te:0.6722\n",
            "e:12 ltr: 1.5565 atr: 0.8833 ate: 0.7140 f1te:0.6753\n",
            "e:13 ltr: 1.5272 atr: 0.8833 ate: 0.7150 f1te:0.6761\n",
            "e:14 ltr: 1.4938 atr: 0.8833 ate: 0.7170 f1te:0.6780\n",
            "e:15 ltr: 1.4544 atr: 0.9000 ate: 0.7150 f1te:0.6748\n",
            "e:16 ltr: 1.4092 atr: 0.9000 ate: 0.7160 f1te:0.6759\n",
            "e:17 ltr: 1.3700 atr: 0.9000 ate: 0.7150 f1te:0.6749\n",
            "e:18 ltr: 1.3123 atr: 0.9083 ate: 0.7220 f1te:0.6813\n",
            "e:19 ltr: 1.2543 atr: 0.9000 ate: 0.7180 f1te:0.6764\n",
            "e:20 ltr: 1.1918 atr: 0.9083 ate: 0.7160 f1te:0.6758\n",
            "e:21 ltr: 1.1211 atr: 0.9250 ate: 0.7140 f1te:0.6741\n",
            "e:22 ltr: 1.0460 atr: 0.9083 ate: 0.7120 f1te:0.6724\n",
            "e:23 ltr: 0.9679 atr: 0.9083 ate: 0.7170 f1te:0.6784\n",
            "e:24 ltr: 0.8888 atr: 0.9333 ate: 0.7160 f1te:0.6777\n",
            "epoch:18 acc_max: 0.7220 f1_max: 0.6813\n"
          ]
        }
      ]
    },
    {
      "cell_type": "markdown",
      "source": [
        "# [L/C 40]"
      ],
      "metadata": {
        "id": "0_A8VG-f-IMJ"
      }
    },
    {
      "cell_type": "code",
      "source": [
        "\n",
        "epochs = 25\n",
        "lr = 0.0005\n",
        "weight_decay = 5e-3\n",
        "k = 7\n",
        "nhid1 = 768\n",
        "nhid2 = 128\n",
        "dropout = 0.5\n",
        "beta = 5e-8\n",
        "theta = 0.001\n",
        "no_cuda = False\n",
        "no_seed = False\n",
        "seed = 123\n",
        "\n",
        "n = 3327\n",
        "fdim = 3703\n",
        "class_num = 6\n",
        "structgraph_path = cite_path + 'citeseer.edge'\n",
        "featuregraph_path = cite_path + 'knn/c'\n",
        "feature_path = cite_path + 'citeseer.feature'\n",
        "label_path = cite_path + 'citeseer.label'\n",
        "test_path = cite_path + 'test40.txt'\n",
        "train_path = cite_path + 'train40.txt'\n"
      ],
      "metadata": {
        "id": "1XiZBmSU9PsK"
      },
      "execution_count": null,
      "outputs": []
    },
    {
      "cell_type": "code",
      "source": [
        "dataset = \"citeseer\"  # replace with your dataset name\n",
        "labelrate = 40"
      ],
      "metadata": {
        "id": "wRbTMS04-nMo"
      },
      "execution_count": null,
      "outputs": []
    },
    {
      "cell_type": "markdown",
      "source": [
        "# S, F"
      ],
      "metadata": {
        "id": "OxpNk84pV5jN"
      }
    },
    {
      "cell_type": "code",
      "source": [
        "model = sfGCN(nfeat = fdim,\n",
        "            nhid1 = nhid1,\n",
        "            nhid2 = nhid2,\n",
        "            nclass = class_num,\n",
        "            n = n,\n",
        "            dropout = dropout)"
      ],
      "metadata": {
        "id": "esfNL_neV5jZ"
      },
      "execution_count": null,
      "outputs": []
    },
    {
      "cell_type": "code",
      "source": [
        "\n",
        "cuda = torch.cuda.is_available()\n",
        "cuda"
      ],
      "metadata": {
        "colab": {
          "base_uri": "https://localhost:8080/"
        },
        "outputId": "5f200b1c-e230-4d31-e65c-81f74b22424e",
        "id": "xx11079YV5jZ"
      },
      "execution_count": null,
      "outputs": [
        {
          "output_type": "execute_result",
          "data": {
            "text/plain": [
              "True"
            ]
          },
          "metadata": {},
          "execution_count": 62
        }
      ]
    },
    {
      "cell_type": "code",
      "source": [
        "if cuda:\n",
        "    model.cuda()\n",
        "    features = features.cuda()\n",
        "    sadj = sadj.cuda()\n",
        "    fadj = fadj.cuda()\n",
        "    labels = labels.cuda()\n",
        "    idx_train = idx_train.cuda()\n",
        "    idx_test = idx_test.cuda()\n",
        "\n",
        "\n",
        "optimizer = optim.Adam(model.parameters(), lr=lr, weight_decay=weight_decay)\n",
        "\n"
      ],
      "metadata": {
        "id": "JesvOB3EV5ja"
      },
      "execution_count": null,
      "outputs": []
    },
    {
      "cell_type": "code",
      "source": [
        "\n",
        "\n",
        "acc_max = 0\n",
        "f1_max = 0\n",
        "epoch_max = 0\n",
        "for epoch in range(epochs):\n",
        "    loss, acc_test, macro_f1, emb = train_sf(model, epoch)\n",
        "    if acc_test >= acc_max:\n",
        "        acc_max = acc_test\n",
        "        f1_max = macro_f1\n",
        "        epoch_max = epoch\n",
        "print('epoch:{}'.format(epoch_max),\n",
        "        'acc_max: {:.4f}'.format(acc_max),\n",
        "        'f1_max: {:.4f}'.format(f1_max))\n"
      ],
      "metadata": {
        "colab": {
          "base_uri": "https://localhost:8080/"
        },
        "outputId": "5de2fd0f-c46a-4882-f56b-061196619c73",
        "id": "r_2q4_j-V5ja"
      },
      "execution_count": null,
      "outputs": [
        {
          "output_type": "stream",
          "name": "stdout",
          "text": [
            "e:0 ltr: 1.7966 atr: 0.1667 ate: 0.2460 f1te:0.1289\n",
            "e:1 ltr: 1.7702 atr: 0.3083 ate: 0.2970 f1te:0.1883\n",
            "e:2 ltr: 1.7479 atr: 0.5083 ate: 0.3860 f1te:0.3049\n",
            "e:3 ltr: 1.7235 atr: 0.6417 ate: 0.4910 f1te:0.4262\n",
            "e:4 ltr: 1.6995 atr: 0.8000 ate: 0.5780 f1te:0.5279\n",
            "e:5 ltr: 1.6762 atr: 0.8750 ate: 0.6440 f1te:0.6046\n",
            "e:6 ltr: 1.6524 atr: 0.9083 ate: 0.6660 f1te:0.6298\n",
            "e:7 ltr: 1.6316 atr: 0.9000 ate: 0.6780 f1te:0.6431\n",
            "e:8 ltr: 1.6009 atr: 0.9333 ate: 0.6870 f1te:0.6553\n",
            "e:9 ltr: 1.5748 atr: 0.9250 ate: 0.6960 f1te:0.6632\n",
            "e:10 ltr: 1.5503 atr: 0.9333 ate: 0.7030 f1te:0.6712\n",
            "e:11 ltr: 1.5189 atr: 0.9417 ate: 0.7080 f1te:0.6762\n",
            "e:12 ltr: 1.4848 atr: 0.9500 ate: 0.7110 f1te:0.6795\n",
            "e:13 ltr: 1.4513 atr: 0.9333 ate: 0.7130 f1te:0.6805\n",
            "e:14 ltr: 1.4125 atr: 0.9333 ate: 0.7160 f1te:0.6835\n",
            "e:15 ltr: 1.3732 atr: 0.9417 ate: 0.7160 f1te:0.6818\n",
            "e:16 ltr: 1.3338 atr: 0.9417 ate: 0.7150 f1te:0.6804\n",
            "e:17 ltr: 1.2838 atr: 0.9500 ate: 0.7120 f1te:0.6766\n",
            "e:18 ltr: 1.2331 atr: 0.9417 ate: 0.7130 f1te:0.6778\n",
            "e:19 ltr: 1.1701 atr: 0.9500 ate: 0.7120 f1te:0.6768\n",
            "e:20 ltr: 1.1164 atr: 0.9500 ate: 0.7160 f1te:0.6797\n",
            "e:21 ltr: 1.0581 atr: 0.9333 ate: 0.7130 f1te:0.6772\n",
            "e:22 ltr: 0.9915 atr: 0.9583 ate: 0.7110 f1te:0.6733\n",
            "e:23 ltr: 0.9208 atr: 0.9500 ate: 0.7140 f1te:0.6765\n",
            "e:24 ltr: 0.8374 atr: 0.9500 ate: 0.7130 f1te:0.6756\n",
            "epoch:20 acc_max: 0.7160 f1_max: 0.6797\n"
          ]
        }
      ]
    },
    {
      "cell_type": "markdown",
      "source": [
        "#All"
      ],
      "metadata": {
        "id": "O0f_Z-6TV8T8"
      }
    },
    {
      "cell_type": "code",
      "source": [
        "sadj, fadj = load_graph(labelrate)\n",
        "features, labels, idx_train, idx_test = load_data()\n"
      ],
      "metadata": {
        "id": "5-wfjgae-nM0"
      },
      "execution_count": null,
      "outputs": []
    },
    {
      "cell_type": "code",
      "source": [
        "model = SFGCN(nfeat = fdim,\n",
        "            nhid1 = nhid1,\n",
        "            nhid2 = nhid2,\n",
        "            nclass = class_num,\n",
        "            n = n,\n",
        "            dropout = dropout)"
      ],
      "metadata": {
        "id": "ykmvV-rd-nM0"
      },
      "execution_count": null,
      "outputs": []
    },
    {
      "cell_type": "code",
      "source": [
        "\n",
        "cuda = torch.cuda.is_available()\n",
        "cuda"
      ],
      "metadata": {
        "colab": {
          "base_uri": "https://localhost:8080/"
        },
        "outputId": "9dea9a29-53ac-40c7-bd57-b6d894430608",
        "id": "Khx96FEo-nM0"
      },
      "execution_count": null,
      "outputs": [
        {
          "output_type": "execute_result",
          "data": {
            "text/plain": [
              "True"
            ]
          },
          "metadata": {},
          "execution_count": 22
        }
      ]
    },
    {
      "cell_type": "code",
      "source": [
        "if cuda:\n",
        "    model.cuda()\n",
        "    features = features.cuda()\n",
        "    sadj = sadj.cuda()\n",
        "    fadj = fadj.cuda()\n",
        "    labels = labels.cuda()\n",
        "    idx_train = idx_train.cuda()\n",
        "    idx_test = idx_test.cuda()\n",
        "\n",
        "\n",
        "optimizer = optim.Adam(model.parameters(), lr=lr, weight_decay=weight_decay)\n",
        "\n"
      ],
      "metadata": {
        "id": "aD1dtDxT-nM1"
      },
      "execution_count": null,
      "outputs": []
    },
    {
      "cell_type": "code",
      "source": [
        "acc_max = 0\n",
        "f1_max = 0\n",
        "epoch_max = 0\n",
        "for epoch in range(epochs):\n",
        "    loss, acc_test, macro_f1, emb = train(model, epoch)\n",
        "    if acc_test >= acc_max:\n",
        "        acc_max = acc_test\n",
        "        f1_max = macro_f1\n",
        "        epoch_max = epoch\n",
        "print('epoch:{}'.format(epoch_max),\n",
        "        'acc_max: {:.4f}'.format(acc_max),\n",
        "        'f1_max: {:.4f}'.format(f1_max))"
      ],
      "metadata": {
        "colab": {
          "base_uri": "https://localhost:8080/"
        },
        "outputId": "068925ee-21da-417b-9506-f157ece9ca18",
        "id": "iU54O-xl-nM1"
      },
      "execution_count": null,
      "outputs": [
        {
          "output_type": "stream",
          "name": "stdout",
          "text": [
            "e:0 ltr: 1.7936 atr: 0.1917 ate: 0.1990 f1te:0.1031\n",
            "e:1 ltr: 1.7788 atr: 0.2625 ate: 0.2270 f1te:0.1336\n",
            "e:2 ltr: 1.7655 atr: 0.3750 ate: 0.2940 f1te:0.2298\n",
            "e:3 ltr: 1.7502 atr: 0.4500 ate: 0.3960 f1te:0.3462\n",
            "e:4 ltr: 1.7365 atr: 0.5583 ate: 0.5000 f1te:0.4600\n",
            "e:5 ltr: 1.7221 atr: 0.6792 ate: 0.5750 f1te:0.5364\n",
            "e:6 ltr: 1.7095 atr: 0.7167 ate: 0.6150 f1te:0.5701\n",
            "e:7 ltr: 1.6960 atr: 0.7750 ate: 0.6360 f1te:0.5924\n",
            "e:8 ltr: 1.6824 atr: 0.8083 ate: 0.6550 f1te:0.6144\n",
            "e:9 ltr: 1.6684 atr: 0.8292 ate: 0.6800 f1te:0.6438\n",
            "e:10 ltr: 1.6530 atr: 0.8583 ate: 0.6930 f1te:0.6560\n",
            "e:11 ltr: 1.6388 atr: 0.8583 ate: 0.7130 f1te:0.6771\n",
            "e:12 ltr: 1.6219 atr: 0.8875 ate: 0.7170 f1te:0.6809\n",
            "e:13 ltr: 1.6069 atr: 0.8667 ate: 0.7210 f1te:0.6847\n",
            "e:14 ltr: 1.5916 atr: 0.8667 ate: 0.7270 f1te:0.6892\n",
            "e:15 ltr: 1.5757 atr: 0.8625 ate: 0.7330 f1te:0.6936\n",
            "e:16 ltr: 1.5586 atr: 0.8833 ate: 0.7370 f1te:0.6974\n",
            "e:17 ltr: 1.5417 atr: 0.8792 ate: 0.7400 f1te:0.7011\n",
            "e:18 ltr: 1.5238 atr: 0.8708 ate: 0.7430 f1te:0.7031\n",
            "e:19 ltr: 1.5037 atr: 0.8667 ate: 0.7440 f1te:0.7040\n",
            "e:20 ltr: 1.4887 atr: 0.8792 ate: 0.7440 f1te:0.7047\n",
            "e:21 ltr: 1.4684 atr: 0.8750 ate: 0.7420 f1te:0.7016\n",
            "e:22 ltr: 1.4497 atr: 0.8917 ate: 0.7400 f1te:0.6997\n",
            "e:23 ltr: 1.4296 atr: 0.8917 ate: 0.7430 f1te:0.7012\n",
            "e:24 ltr: 1.4059 atr: 0.8958 ate: 0.7430 f1te:0.7010\n",
            "epoch:20 acc_max: 0.7440 f1_max: 0.7047\n"
          ]
        }
      ]
    },
    {
      "cell_type": "code",
      "source": [],
      "metadata": {
        "id": "JQ0LdK3T1YMH"
      },
      "execution_count": null,
      "outputs": []
    },
    {
      "cell_type": "markdown",
      "source": [
        "# Structural only"
      ],
      "metadata": {
        "id": "r2HE5qB81Y5r"
      }
    },
    {
      "cell_type": "code",
      "source": [],
      "metadata": {
        "id": "AfUV4G4W1Y5r"
      },
      "execution_count": null,
      "outputs": []
    },
    {
      "cell_type": "code",
      "source": [
        "model = SGCN(nfeat = fdim,\n",
        "            nhid1 = nhid1,\n",
        "            nhid2 = nhid2,\n",
        "            nclass = class_num,\n",
        "            n = n,\n",
        "            dropout = dropout)"
      ],
      "metadata": {
        "id": "Nd-u1b841Y5s"
      },
      "execution_count": null,
      "outputs": []
    },
    {
      "cell_type": "code",
      "source": [
        "\n",
        "cuda = torch.cuda.is_available()\n",
        "cuda"
      ],
      "metadata": {
        "colab": {
          "base_uri": "https://localhost:8080/"
        },
        "outputId": "c417cf33-85bd-432e-cd6e-86f825cf3454",
        "id": "CyfpmZP21Y5s"
      },
      "execution_count": null,
      "outputs": [
        {
          "output_type": "execute_result",
          "data": {
            "text/plain": [
              "True"
            ]
          },
          "metadata": {},
          "execution_count": 34
        }
      ]
    },
    {
      "cell_type": "code",
      "source": [
        "if cuda:\n",
        "    model.cuda()\n",
        "    features = features.cuda()\n",
        "    sadj = sadj.cuda()\n",
        "    fadj = fadj.cuda()\n",
        "    labels = labels.cuda()\n",
        "    idx_train = idx_train.cuda()\n",
        "    idx_test = idx_test.cuda()\n",
        "\n",
        "\n",
        "optimizer = optim.Adam(model.parameters(), lr=lr, weight_decay=weight_decay)\n",
        "\n"
      ],
      "metadata": {
        "id": "Zf4afefN1Y5s"
      },
      "execution_count": null,
      "outputs": []
    },
    {
      "cell_type": "code",
      "source": [
        "\n",
        "\n",
        "acc_max = 0\n",
        "f1_max = 0\n",
        "epoch_max = 0\n",
        "for epoch in range(epochs):\n",
        "    loss, acc_test, macro_f1, emb = train_s(model, epoch)\n",
        "    if acc_test >= acc_max:\n",
        "        acc_max = acc_test\n",
        "        f1_max = macro_f1\n",
        "        epoch_max = epoch\n",
        "print('epoch:{}'.format(epoch_max),\n",
        "        'acc_max: {:.4f}'.format(acc_max),\n",
        "        'f1_max: {:.4f}'.format(f1_max))\n"
      ],
      "metadata": {
        "colab": {
          "base_uri": "https://localhost:8080/"
        },
        "outputId": "ff743a97-590a-4075-a8c4-fbf2fc219824",
        "id": "5AHeiWp31Y5s"
      },
      "execution_count": null,
      "outputs": [
        {
          "output_type": "stream",
          "name": "stdout",
          "text": [
            "e:0 ltr: 1.7924 atr: 0.1833 ate: 0.3070 f1te:0.2171\n",
            "e:1 ltr: 1.7730 atr: 0.3292 ate: 0.3970 f1te:0.2990\n",
            "e:2 ltr: 1.7556 atr: 0.4792 ate: 0.4500 f1te:0.3429\n",
            "e:3 ltr: 1.7339 atr: 0.5958 ate: 0.4870 f1te:0.3913\n",
            "e:4 ltr: 1.7142 atr: 0.6708 ate: 0.5530 f1te:0.4825\n",
            "e:5 ltr: 1.6967 atr: 0.7667 ate: 0.6200 f1te:0.5766\n",
            "e:6 ltr: 1.6773 atr: 0.8083 ate: 0.6700 f1te:0.6364\n",
            "e:7 ltr: 1.6552 atr: 0.8667 ate: 0.6910 f1te:0.6554\n",
            "e:8 ltr: 1.6361 atr: 0.8792 ate: 0.7060 f1te:0.6705\n",
            "e:9 ltr: 1.6165 atr: 0.9042 ate: 0.7160 f1te:0.6800\n",
            "e:10 ltr: 1.5960 atr: 0.9083 ate: 0.7240 f1te:0.6864\n",
            "e:11 ltr: 1.5734 atr: 0.9042 ate: 0.7300 f1te:0.6924\n",
            "e:12 ltr: 1.5521 atr: 0.9042 ate: 0.7330 f1te:0.6952\n",
            "e:13 ltr: 1.5306 atr: 0.9083 ate: 0.7340 f1te:0.6973\n",
            "e:14 ltr: 1.5091 atr: 0.9083 ate: 0.7320 f1te:0.6943\n",
            "e:15 ltr: 1.4855 atr: 0.9083 ate: 0.7320 f1te:0.6930\n",
            "e:16 ltr: 1.4651 atr: 0.9125 ate: 0.7330 f1te:0.6939\n",
            "e:17 ltr: 1.4400 atr: 0.9042 ate: 0.7370 f1te:0.6989\n",
            "e:18 ltr: 1.4169 atr: 0.9083 ate: 0.7320 f1te:0.6944\n",
            "e:19 ltr: 1.3961 atr: 0.9167 ate: 0.7320 f1te:0.6944\n",
            "e:20 ltr: 1.3714 atr: 0.9167 ate: 0.7340 f1te:0.6976\n",
            "e:21 ltr: 1.3487 atr: 0.9208 ate: 0.7320 f1te:0.6947\n",
            "e:22 ltr: 1.3185 atr: 0.9333 ate: 0.7320 f1te:0.6950\n",
            "e:23 ltr: 1.2929 atr: 0.9292 ate: 0.7270 f1te:0.6906\n",
            "e:24 ltr: 1.2550 atr: 0.9333 ate: 0.7300 f1te:0.6937\n",
            "epoch:17 acc_max: 0.7370 f1_max: 0.6989\n"
          ]
        }
      ]
    },
    {
      "cell_type": "code",
      "source": [
        "\n"
      ],
      "metadata": {
        "id": "28N32YTs1Y5t"
      },
      "execution_count": null,
      "outputs": []
    },
    {
      "cell_type": "markdown",
      "source": [
        "# Feature only"
      ],
      "metadata": {
        "id": "49BzZb_-1Y5t"
      }
    },
    {
      "cell_type": "code",
      "source": [
        "model = FGCN(nfeat = fdim,\n",
        "            nhid1 = nhid1,\n",
        "            nhid2 = nhid2,\n",
        "            nclass = class_num,\n",
        "            n = n,\n",
        "            dropout = dropout)"
      ],
      "metadata": {
        "id": "lIutaanN1Y5t"
      },
      "execution_count": null,
      "outputs": []
    },
    {
      "cell_type": "code",
      "source": [
        "\n",
        "cuda = torch.cuda.is_available()\n",
        "cuda"
      ],
      "metadata": {
        "colab": {
          "base_uri": "https://localhost:8080/"
        },
        "outputId": "7a6d2d24-65f8-4a7e-8fce-1461bc9fda8c",
        "id": "ajnSWkwR1Y5t"
      },
      "execution_count": null,
      "outputs": [
        {
          "output_type": "execute_result",
          "data": {
            "text/plain": [
              "True"
            ]
          },
          "metadata": {},
          "execution_count": 38
        }
      ]
    },
    {
      "cell_type": "code",
      "source": [
        "if cuda:\n",
        "    model.cuda()\n",
        "    features = features.cuda()\n",
        "    sadj = sadj.cuda()\n",
        "    fadj = fadj.cuda()\n",
        "    labels = labels.cuda()\n",
        "    idx_train = idx_train.cuda()\n",
        "    idx_test = idx_test.cuda()\n",
        "\n",
        "\n",
        "optimizer = optim.Adam(model.parameters(), lr=lr, weight_decay=weight_decay)\n",
        "\n"
      ],
      "metadata": {
        "id": "oIvvh4AY1Y5t"
      },
      "execution_count": null,
      "outputs": []
    },
    {
      "cell_type": "code",
      "source": [
        "\n",
        "\n",
        "acc_max = 0\n",
        "f1_max = 0\n",
        "epoch_max = 0\n",
        "for epoch in range(epochs):\n",
        "    loss, acc_test, macro_f1, emb = train_f(model, epoch)\n",
        "    if acc_test >= acc_max:\n",
        "        acc_max = acc_test\n",
        "        f1_max = macro_f1\n",
        "        epoch_max = epoch\n",
        "print('epoch:{}'.format(epoch_max),\n",
        "        'acc_max: {:.4f}'.format(acc_max),\n",
        "        'f1_max: {:.4f}'.format(f1_max))\n"
      ],
      "metadata": {
        "colab": {
          "base_uri": "https://localhost:8080/"
        },
        "outputId": "95532620-e90e-409d-c43a-0441164ab158",
        "id": "s7CZMzga1Y5t"
      },
      "execution_count": null,
      "outputs": [
        {
          "output_type": "stream",
          "name": "stdout",
          "text": [
            "e:0 ltr: 1.7937 atr: 0.1667 ate: 0.1840 f1te:0.0556\n",
            "e:1 ltr: 1.7776 atr: 0.1875 ate: 0.2070 f1te:0.0959\n",
            "e:2 ltr: 1.7608 atr: 0.2333 ate: 0.2700 f1te:0.1783\n",
            "e:3 ltr: 1.7459 atr: 0.3375 ate: 0.4160 f1te:0.3582\n",
            "e:4 ltr: 1.7320 atr: 0.4958 ate: 0.5870 f1te:0.5323\n",
            "e:5 ltr: 1.7154 atr: 0.6750 ate: 0.6800 f1te:0.6321\n",
            "e:6 ltr: 1.7010 atr: 0.7083 ate: 0.7150 f1te:0.6626\n",
            "e:7 ltr: 1.6838 atr: 0.7625 ate: 0.7170 f1te:0.6656\n",
            "e:8 ltr: 1.6669 atr: 0.7750 ate: 0.7210 f1te:0.6706\n",
            "e:9 ltr: 1.6513 atr: 0.7958 ate: 0.7240 f1te:0.6747\n",
            "e:10 ltr: 1.6334 atr: 0.7875 ate: 0.7200 f1te:0.6718\n",
            "e:11 ltr: 1.6173 atr: 0.8042 ate: 0.7240 f1te:0.6753\n",
            "e:12 ltr: 1.6000 atr: 0.7958 ate: 0.7250 f1te:0.6762\n",
            "e:13 ltr: 1.5804 atr: 0.7917 ate: 0.7270 f1te:0.6780\n",
            "e:14 ltr: 1.5630 atr: 0.7833 ate: 0.7280 f1te:0.6790\n",
            "e:15 ltr: 1.5442 atr: 0.8000 ate: 0.7280 f1te:0.6805\n",
            "e:16 ltr: 1.5258 atr: 0.8083 ate: 0.7290 f1te:0.6815\n",
            "e:17 ltr: 1.5087 atr: 0.8042 ate: 0.7280 f1te:0.6806\n",
            "e:18 ltr: 1.4906 atr: 0.8083 ate: 0.7290 f1te:0.6816\n",
            "e:19 ltr: 1.4733 atr: 0.8167 ate: 0.7300 f1te:0.6825\n",
            "e:20 ltr: 1.4548 atr: 0.8250 ate: 0.7300 f1te:0.6824\n",
            "e:21 ltr: 1.4366 atr: 0.8292 ate: 0.7290 f1te:0.6815\n",
            "e:22 ltr: 1.4190 atr: 0.8500 ate: 0.7270 f1te:0.6795\n",
            "e:23 ltr: 1.3973 atr: 0.8542 ate: 0.7260 f1te:0.6784\n",
            "e:24 ltr: 1.3762 atr: 0.8667 ate: 0.7250 f1te:0.6793\n",
            "epoch:20 acc_max: 0.7300 f1_max: 0.6824\n"
          ]
        }
      ]
    },
    {
      "cell_type": "markdown",
      "source": [
        "# [L/C 60]"
      ],
      "metadata": {
        "id": "Fyei4yqM-11M"
      }
    },
    {
      "cell_type": "code",
      "source": [
        "\n",
        "epochs = 25\n",
        "lr = 0.0005\n",
        "weight_decay = 5e-3\n",
        "k = 7\n",
        "nhid1 = 768\n",
        "nhid2 = 128\n",
        "dropout = 0.5\n",
        "beta = 5e-8\n",
        "theta = 0.001\n",
        "no_cuda = False\n",
        "no_seed = False\n",
        "seed = 123\n",
        "\n",
        "\n",
        "n = 3327\n",
        "fdim = 3703\n",
        "class_num = 6\n",
        "structgraph_path = cite_path + 'citeseer.edge'\n",
        "featuregraph_path = cite_path + 'knn/c'\n",
        "feature_path = cite_path + 'citeseer.feature'\n",
        "label_path = cite_path + 'citeseer.label'\n",
        "test_path = cite_path + 'test60.txt'\n",
        "train_path = cite_path + 'train60.txt'\n"
      ],
      "metadata": {
        "id": "Qu1imDp5-4Iq"
      },
      "execution_count": null,
      "outputs": []
    },
    {
      "cell_type": "code",
      "source": [
        "dataset = \"citeseer\"  # replace with your dataset name\n",
        "labelrate = 60"
      ],
      "metadata": {
        "id": "vZiIv4jk_GXr"
      },
      "execution_count": null,
      "outputs": []
    },
    {
      "cell_type": "code",
      "source": [
        "sadj, fadj = load_graph(labelrate)\n",
        "features, labels, idx_train, idx_test = load_data()\n"
      ],
      "metadata": {
        "id": "QUeHvd9X_GYF"
      },
      "execution_count": null,
      "outputs": []
    },
    {
      "cell_type": "markdown",
      "source": [
        "# S, F"
      ],
      "metadata": {
        "id": "hv7d2f7lWPZC"
      }
    },
    {
      "cell_type": "code",
      "source": [
        "model = sfGCN(nfeat = fdim,\n",
        "            nhid1 = nhid1,\n",
        "            nhid2 = nhid2,\n",
        "            nclass = class_num,\n",
        "            n = n,\n",
        "            dropout = dropout)"
      ],
      "metadata": {
        "id": "-yZCm3EcWPZC"
      },
      "execution_count": null,
      "outputs": []
    },
    {
      "cell_type": "code",
      "source": [
        "\n",
        "cuda = torch.cuda.is_available()\n",
        "cuda"
      ],
      "metadata": {
        "colab": {
          "base_uri": "https://localhost:8080/"
        },
        "outputId": "83b65984-b298-4ed6-ff23-e5970353a503",
        "id": "V3c2qNSuWPZC"
      },
      "execution_count": null,
      "outputs": [
        {
          "output_type": "execute_result",
          "data": {
            "text/plain": [
              "True"
            ]
          },
          "metadata": {},
          "execution_count": 69
        }
      ]
    },
    {
      "cell_type": "code",
      "source": [
        "if cuda:\n",
        "    model.cuda()\n",
        "    features = features.cuda()\n",
        "    sadj = sadj.cuda()\n",
        "    fadj = fadj.cuda()\n",
        "    labels = labels.cuda()\n",
        "    idx_train = idx_train.cuda()\n",
        "    idx_test = idx_test.cuda()\n",
        "\n",
        "\n",
        "optimizer = optim.Adam(model.parameters(), lr=lr, weight_decay=weight_decay)\n",
        "\n"
      ],
      "metadata": {
        "id": "49pnb0XbWPZD"
      },
      "execution_count": null,
      "outputs": []
    },
    {
      "cell_type": "code",
      "source": [
        "\n",
        "\n",
        "acc_max = 0\n",
        "f1_max = 0\n",
        "epoch_max = 0\n",
        "for epoch in range(epochs):\n",
        "    loss, acc_test, macro_f1, emb = train_sf(model, epoch)\n",
        "    if acc_test >= acc_max:\n",
        "        acc_max = acc_test\n",
        "        f1_max = macro_f1\n",
        "        epoch_max = epoch\n",
        "print('epoch:{}'.format(epoch_max),\n",
        "        'acc_max: {:.4f}'.format(acc_max),\n",
        "        'f1_max: {:.4f}'.format(f1_max))\n"
      ],
      "metadata": {
        "colab": {
          "base_uri": "https://localhost:8080/"
        },
        "outputId": "4504716e-1f8f-402d-9c9d-a0e8b4c7353e",
        "id": "m8IWmBQ-WPZD"
      },
      "execution_count": null,
      "outputs": [
        {
          "output_type": "stream",
          "name": "stdout",
          "text": [
            "e:0 ltr: 1.7951 atr: 0.1472 ate: 0.1400 f1te:0.0672\n",
            "e:1 ltr: 1.7775 atr: 0.1972 ate: 0.1730 f1te:0.0872\n",
            "e:2 ltr: 1.7607 atr: 0.2611 ate: 0.2540 f1te:0.1946\n",
            "e:3 ltr: 1.7458 atr: 0.3944 ate: 0.3860 f1te:0.3513\n",
            "e:4 ltr: 1.7286 atr: 0.5556 ate: 0.5300 f1te:0.5070\n",
            "e:5 ltr: 1.7116 atr: 0.6778 ate: 0.6140 f1te:0.5920\n",
            "e:6 ltr: 1.6947 atr: 0.7417 ate: 0.6690 f1te:0.6421\n",
            "e:7 ltr: 1.6783 atr: 0.7972 ate: 0.7050 f1te:0.6743\n",
            "e:8 ltr: 1.6606 atr: 0.8278 ate: 0.7260 f1te:0.6928\n",
            "e:9 ltr: 1.6410 atr: 0.8250 ate: 0.7380 f1te:0.7031\n",
            "e:10 ltr: 1.6205 atr: 0.8528 ate: 0.7440 f1te:0.7106\n",
            "e:11 ltr: 1.6006 atr: 0.8639 ate: 0.7440 f1te:0.7069\n",
            "e:12 ltr: 1.5797 atr: 0.8556 ate: 0.7480 f1te:0.7076\n",
            "e:13 ltr: 1.5519 atr: 0.8694 ate: 0.7500 f1te:0.7093\n",
            "e:14 ltr: 1.5253 atr: 0.8639 ate: 0.7490 f1te:0.7082\n",
            "e:15 ltr: 1.4954 atr: 0.8694 ate: 0.7490 f1te:0.7068\n",
            "e:16 ltr: 1.4651 atr: 0.8750 ate: 0.7520 f1te:0.7111\n",
            "e:17 ltr: 1.4294 atr: 0.8806 ate: 0.7510 f1te:0.7101\n",
            "e:18 ltr: 1.3953 atr: 0.8722 ate: 0.7510 f1te:0.7097\n",
            "e:19 ltr: 1.3532 atr: 0.8722 ate: 0.7510 f1te:0.7097\n",
            "e:20 ltr: 1.3118 atr: 0.8667 ate: 0.7500 f1te:0.7091\n",
            "e:21 ltr: 1.2654 atr: 0.8778 ate: 0.7480 f1te:0.7071\n",
            "e:22 ltr: 1.2121 atr: 0.8806 ate: 0.7490 f1te:0.7080\n",
            "e:23 ltr: 1.1639 atr: 0.8778 ate: 0.7480 f1te:0.7072\n",
            "e:24 ltr: 1.0970 atr: 0.8694 ate: 0.7480 f1te:0.7069\n",
            "epoch:16 acc_max: 0.7520 f1_max: 0.7111\n"
          ]
        }
      ]
    },
    {
      "cell_type": "markdown",
      "source": [
        "# All"
      ],
      "metadata": {
        "id": "TI8_TSIPWR1B"
      }
    },
    {
      "cell_type": "code",
      "source": [
        "model = SFGCN(nfeat = fdim,\n",
        "            nhid1 = nhid1,\n",
        "            nhid2 = nhid2,\n",
        "            nclass = class_num,\n",
        "            n = n,\n",
        "            dropout = dropout)"
      ],
      "metadata": {
        "id": "aob25x0L_GYF"
      },
      "execution_count": null,
      "outputs": []
    },
    {
      "cell_type": "code",
      "source": [
        "\n",
        "cuda = torch.cuda.is_available()\n",
        "cuda"
      ],
      "metadata": {
        "colab": {
          "base_uri": "https://localhost:8080/"
        },
        "outputId": "a7e77276-8e63-4f7c-a05c-0dd60de81887",
        "id": "tevpzOZ-_GYF"
      },
      "execution_count": null,
      "outputs": [
        {
          "output_type": "execute_result",
          "data": {
            "text/plain": [
              "True"
            ]
          },
          "metadata": {},
          "execution_count": 29
        }
      ]
    },
    {
      "cell_type": "code",
      "source": [
        "if cuda:\n",
        "    model.cuda()\n",
        "    features = features.cuda()\n",
        "    sadj = sadj.cuda()\n",
        "    fadj = fadj.cuda()\n",
        "    labels = labels.cuda()\n",
        "    idx_train = idx_train.cuda()\n",
        "    idx_test = idx_test.cuda()\n",
        "\n",
        "\n",
        "optimizer = optim.Adam(model.parameters(), lr=lr, weight_decay=weight_decay)\n",
        "\n"
      ],
      "metadata": {
        "id": "8MzEPSFB_GYG"
      },
      "execution_count": null,
      "outputs": []
    },
    {
      "cell_type": "code",
      "source": [
        "acc_max = 0\n",
        "f1_max = 0\n",
        "epoch_max = 0\n",
        "for epoch in range(epochs):\n",
        "    loss, acc_test, macro_f1, emb = train(model, epoch)\n",
        "    if acc_test >= acc_max:\n",
        "        acc_max = acc_test\n",
        "        f1_max = macro_f1\n",
        "        epoch_max = epoch\n",
        "print('epoch:{}'.format(epoch_max),\n",
        "        'acc_max: {:.4f}'.format(acc_max),\n",
        "        'f1_max: {:.4f}'.format(f1_max))\n"
      ],
      "metadata": {
        "colab": {
          "base_uri": "https://localhost:8080/"
        },
        "outputId": "88be9091-5c84-4351-e58d-331890006e69",
        "id": "RJ999ECs_GYG"
      },
      "execution_count": null,
      "outputs": [
        {
          "output_type": "stream",
          "name": "stdout",
          "text": [
            "e:0 ltr: 1.7945 atr: 0.1611 ate: 0.2030 f1te:0.0985\n",
            "e:1 ltr: 1.7804 atr: 0.2278 ate: 0.2790 f1te:0.1867\n",
            "e:2 ltr: 1.7664 atr: 0.3583 ate: 0.3420 f1te:0.2627\n",
            "e:3 ltr: 1.7541 atr: 0.4444 ate: 0.4010 f1te:0.3341\n",
            "e:4 ltr: 1.7405 atr: 0.5333 ate: 0.4880 f1te:0.4455\n",
            "e:5 ltr: 1.7278 atr: 0.6500 ate: 0.5870 f1te:0.5546\n",
            "e:6 ltr: 1.7145 atr: 0.7306 ate: 0.6510 f1te:0.6176\n",
            "e:7 ltr: 1.7021 atr: 0.7833 ate: 0.7000 f1te:0.6627\n",
            "e:8 ltr: 1.6880 atr: 0.7833 ate: 0.7310 f1te:0.6913\n",
            "e:9 ltr: 1.6751 atr: 0.8056 ate: 0.7450 f1te:0.7019\n",
            "e:10 ltr: 1.6624 atr: 0.8111 ate: 0.7500 f1te:0.7025\n",
            "e:11 ltr: 1.6490 atr: 0.8083 ate: 0.7560 f1te:0.7062\n",
            "e:12 ltr: 1.6345 atr: 0.8222 ate: 0.7590 f1te:0.7086\n",
            "e:13 ltr: 1.6191 atr: 0.8167 ate: 0.7570 f1te:0.7030\n",
            "e:14 ltr: 1.6051 atr: 0.8250 ate: 0.7610 f1te:0.7070\n",
            "e:15 ltr: 1.5885 atr: 0.8167 ate: 0.7610 f1te:0.7053\n",
            "e:16 ltr: 1.5735 atr: 0.8167 ate: 0.7630 f1te:0.7072\n",
            "e:17 ltr: 1.5577 atr: 0.8306 ate: 0.7630 f1te:0.7093\n",
            "e:18 ltr: 1.5426 atr: 0.8333 ate: 0.7630 f1te:0.7092\n",
            "e:19 ltr: 1.5264 atr: 0.8361 ate: 0.7620 f1te:0.7081\n",
            "e:20 ltr: 1.5117 atr: 0.8278 ate: 0.7610 f1te:0.7073\n",
            "e:21 ltr: 1.4914 atr: 0.8306 ate: 0.7600 f1te:0.7066\n",
            "e:22 ltr: 1.4740 atr: 0.8472 ate: 0.7580 f1te:0.7030\n",
            "e:23 ltr: 1.4571 atr: 0.8417 ate: 0.7570 f1te:0.7020\n",
            "e:24 ltr: 1.4328 atr: 0.8444 ate: 0.7610 f1te:0.7095\n",
            "epoch:18 acc_max: 0.7630 f1_max: 0.7092\n"
          ]
        }
      ]
    },
    {
      "cell_type": "code",
      "source": [],
      "metadata": {
        "id": "b74NcuAiJbU0"
      },
      "execution_count": null,
      "outputs": []
    },
    {
      "cell_type": "markdown",
      "source": [
        "# Structural only"
      ],
      "metadata": {
        "id": "Lt8Bp_A31nwb"
      }
    },
    {
      "cell_type": "code",
      "source": [],
      "metadata": {
        "id": "COy3mj781nwm"
      },
      "execution_count": null,
      "outputs": []
    },
    {
      "cell_type": "code",
      "source": [
        "model = SGCN(nfeat = fdim,\n",
        "            nhid1 = nhid1,\n",
        "            nhid2 = nhid2,\n",
        "            nclass = class_num,\n",
        "            n = n,\n",
        "            dropout = dropout)"
      ],
      "metadata": {
        "id": "Oe98xROh1nwm"
      },
      "execution_count": null,
      "outputs": []
    },
    {
      "cell_type": "code",
      "source": [
        "\n",
        "cuda = torch.cuda.is_available()\n",
        "cuda"
      ],
      "metadata": {
        "colab": {
          "base_uri": "https://localhost:8080/"
        },
        "outputId": "04aee40d-e7c5-4809-c70b-a352f4e556ea",
        "id": "sO89wiXr1nwm"
      },
      "execution_count": null,
      "outputs": [
        {
          "output_type": "execute_result",
          "data": {
            "text/plain": [
              "True"
            ]
          },
          "metadata": {},
          "execution_count": 45
        }
      ]
    },
    {
      "cell_type": "code",
      "source": [
        "if cuda:\n",
        "    model.cuda()\n",
        "    features = features.cuda()\n",
        "    sadj = sadj.cuda()\n",
        "    fadj = fadj.cuda()\n",
        "    labels = labels.cuda()\n",
        "    idx_train = idx_train.cuda()\n",
        "    idx_test = idx_test.cuda()\n",
        "\n",
        "\n",
        "optimizer = optim.Adam(model.parameters(), lr=lr, weight_decay=weight_decay)\n",
        "\n"
      ],
      "metadata": {
        "id": "Sady_ny_1nwn"
      },
      "execution_count": null,
      "outputs": []
    },
    {
      "cell_type": "code",
      "source": [
        "\n",
        "\n",
        "acc_max = 0\n",
        "f1_max = 0\n",
        "epoch_max = 0\n",
        "for epoch in range(epochs):\n",
        "    loss, acc_test, macro_f1, emb = train_s(model, epoch)\n",
        "    if acc_test >= acc_max:\n",
        "        acc_max = acc_test\n",
        "        f1_max = macro_f1\n",
        "        epoch_max = epoch\n",
        "print('epoch:{}'.format(epoch_max),\n",
        "        'acc_max: {:.4f}'.format(acc_max),\n",
        "        'f1_max: {:.4f}'.format(f1_max))"
      ],
      "metadata": {
        "colab": {
          "base_uri": "https://localhost:8080/"
        },
        "outputId": "bdbd92fd-efbb-45dc-9c04-a2ba2579fbb1",
        "id": "j_3ObwdO1nwn"
      },
      "execution_count": null,
      "outputs": [
        {
          "output_type": "stream",
          "name": "stdout",
          "text": [
            "e:0 ltr: 1.7923 atr: 0.1611 ate: 0.2830 f1te:0.1824\n",
            "e:1 ltr: 1.7747 atr: 0.3083 ate: 0.3910 f1te:0.2953\n",
            "e:2 ltr: 1.7565 atr: 0.4583 ate: 0.4900 f1te:0.4244\n",
            "e:3 ltr: 1.7390 atr: 0.6000 ate: 0.5980 f1te:0.5615\n",
            "e:4 ltr: 1.7209 atr: 0.7611 ate: 0.6680 f1te:0.6365\n",
            "e:5 ltr: 1.7021 atr: 0.8333 ate: 0.7020 f1te:0.6710\n",
            "e:6 ltr: 1.6849 atr: 0.8556 ate: 0.7320 f1te:0.6996\n",
            "e:7 ltr: 1.6667 atr: 0.8528 ate: 0.7380 f1te:0.7066\n",
            "e:8 ltr: 1.6489 atr: 0.8750 ate: 0.7390 f1te:0.7075\n",
            "e:9 ltr: 1.6311 atr: 0.8833 ate: 0.7420 f1te:0.7107\n",
            "e:10 ltr: 1.6121 atr: 0.8806 ate: 0.7460 f1te:0.7147\n",
            "e:11 ltr: 1.5932 atr: 0.8806 ate: 0.7450 f1te:0.7118\n",
            "e:12 ltr: 1.5733 atr: 0.8806 ate: 0.7470 f1te:0.7137\n",
            "e:13 ltr: 1.5544 atr: 0.8806 ate: 0.7480 f1te:0.7146\n",
            "e:14 ltr: 1.5336 atr: 0.8889 ate: 0.7490 f1te:0.7158\n",
            "e:15 ltr: 1.5162 atr: 0.8944 ate: 0.7490 f1te:0.7160\n",
            "e:16 ltr: 1.4983 atr: 0.8917 ate: 0.7490 f1te:0.7160\n",
            "e:17 ltr: 1.4828 atr: 0.8861 ate: 0.7460 f1te:0.7123\n",
            "e:18 ltr: 1.4633 atr: 0.8944 ate: 0.7460 f1te:0.7124\n",
            "e:19 ltr: 1.4473 atr: 0.9000 ate: 0.7440 f1te:0.7115\n",
            "e:20 ltr: 1.4277 atr: 0.9000 ate: 0.7490 f1te:0.7170\n",
            "e:21 ltr: 1.4091 atr: 0.9056 ate: 0.7490 f1te:0.7172\n",
            "e:22 ltr: 1.3881 atr: 0.9028 ate: 0.7440 f1te:0.7116\n",
            "e:23 ltr: 1.3659 atr: 0.9083 ate: 0.7460 f1te:0.7134\n",
            "e:24 ltr: 1.3437 atr: 0.9056 ate: 0.7440 f1te:0.7114\n",
            "epoch:21 acc_max: 0.7490 f1_max: 0.7172\n"
          ]
        }
      ]
    },
    {
      "cell_type": "code",
      "source": [
        "\n"
      ],
      "metadata": {
        "id": "tKWFEKBG1nwn"
      },
      "execution_count": null,
      "outputs": []
    },
    {
      "cell_type": "markdown",
      "source": [
        "# Feature only"
      ],
      "metadata": {
        "id": "02jp4xj71nwo"
      }
    },
    {
      "cell_type": "code",
      "source": [
        "model = FGCN(nfeat = fdim,\n",
        "            nhid1 = nhid1,\n",
        "            nhid2 = nhid2,\n",
        "            nclass = class_num,\n",
        "            n = n,\n",
        "            dropout = dropout)"
      ],
      "metadata": {
        "id": "wdtp3eKk1nwo"
      },
      "execution_count": null,
      "outputs": []
    },
    {
      "cell_type": "code",
      "source": [
        "\n",
        "cuda = torch.cuda.is_available()\n",
        "cuda"
      ],
      "metadata": {
        "colab": {
          "base_uri": "https://localhost:8080/"
        },
        "outputId": "a188fb8e-1aa4-444d-fb0b-fbc526b471e6",
        "id": "EjESj5zm1nwo"
      },
      "execution_count": null,
      "outputs": [
        {
          "output_type": "execute_result",
          "data": {
            "text/plain": [
              "True"
            ]
          },
          "metadata": {},
          "execution_count": 49
        }
      ]
    },
    {
      "cell_type": "code",
      "source": [
        "if cuda:\n",
        "    model.cuda()\n",
        "    features = features.cuda()\n",
        "    sadj = sadj.cuda()\n",
        "    fadj = fadj.cuda()\n",
        "    labels = labels.cuda()\n",
        "    idx_train = idx_train.cuda()\n",
        "    idx_test = idx_test.cuda()\n",
        "\n",
        "\n",
        "optimizer = optim.Adam(model.parameters(), lr=lr, weight_decay=weight_decay)\n",
        "\n"
      ],
      "metadata": {
        "id": "tEx4qXhA1nwo"
      },
      "execution_count": null,
      "outputs": []
    },
    {
      "cell_type": "code",
      "source": [
        "\n",
        "\n",
        "acc_max = 0\n",
        "f1_max = 0\n",
        "epoch_max = 0\n",
        "for epoch in range(epochs):\n",
        "    loss, acc_test, macro_f1, emb = train_f(model, epoch)\n",
        "    if acc_test >= acc_max:\n",
        "        acc_max = acc_test\n",
        "        f1_max = macro_f1\n",
        "        epoch_max = epoch\n",
        "print('epoch:{}'.format(epoch_max),\n",
        "        'acc_max: {:.4f}'.format(acc_max),\n",
        "        'f1_max: {:.4f}'.format(f1_max))\n"
      ],
      "metadata": {
        "colab": {
          "base_uri": "https://localhost:8080/"
        },
        "outputId": "7a1a17af-ecd9-431e-bc59-8ac363447d31",
        "id": "U8jhM1_R1nwp"
      },
      "execution_count": null,
      "outputs": [
        {
          "output_type": "stream",
          "name": "stdout",
          "text": [
            "e:0 ltr: 1.7930 atr: 0.1694 ate: 0.3240 f1te:0.2329\n",
            "e:1 ltr: 1.7792 atr: 0.3361 ate: 0.5210 f1te:0.4330\n",
            "e:2 ltr: 1.7647 atr: 0.5306 ate: 0.6280 f1te:0.5385\n",
            "e:3 ltr: 1.7508 atr: 0.6083 ate: 0.6900 f1te:0.6005\n",
            "e:4 ltr: 1.7388 atr: 0.6639 ate: 0.7100 f1te:0.6203\n",
            "e:5 ltr: 1.7254 atr: 0.6694 ate: 0.7180 f1te:0.6442\n",
            "e:6 ltr: 1.7112 atr: 0.7167 ate: 0.7220 f1te:0.6508\n",
            "e:7 ltr: 1.6968 atr: 0.7167 ate: 0.7260 f1te:0.6668\n",
            "e:8 ltr: 1.6837 atr: 0.7278 ate: 0.7280 f1te:0.6782\n",
            "e:9 ltr: 1.6694 atr: 0.7528 ate: 0.7340 f1te:0.6864\n",
            "e:10 ltr: 1.6539 atr: 0.7611 ate: 0.7340 f1te:0.6875\n",
            "e:11 ltr: 1.6382 atr: 0.7528 ate: 0.7320 f1te:0.6886\n",
            "e:12 ltr: 1.6223 atr: 0.7694 ate: 0.7310 f1te:0.6903\n",
            "e:13 ltr: 1.6072 atr: 0.7750 ate: 0.7340 f1te:0.6942\n",
            "e:14 ltr: 1.5916 atr: 0.7861 ate: 0.7300 f1te:0.6901\n",
            "e:15 ltr: 1.5767 atr: 0.7917 ate: 0.7300 f1te:0.6913\n",
            "e:16 ltr: 1.5614 atr: 0.7889 ate: 0.7290 f1te:0.6900\n",
            "e:17 ltr: 1.5448 atr: 0.7944 ate: 0.7270 f1te:0.6882\n",
            "e:18 ltr: 1.5302 atr: 0.8028 ate: 0.7260 f1te:0.6883\n",
            "e:19 ltr: 1.5176 atr: 0.8028 ate: 0.7290 f1te:0.6924\n",
            "e:20 ltr: 1.5018 atr: 0.8028 ate: 0.7300 f1te:0.6933\n",
            "e:21 ltr: 1.4867 atr: 0.8056 ate: 0.7330 f1te:0.6975\n",
            "e:22 ltr: 1.4696 atr: 0.8194 ate: 0.7340 f1te:0.6989\n",
            "e:23 ltr: 1.4542 atr: 0.8250 ate: 0.7350 f1te:0.7001\n",
            "e:24 ltr: 1.4332 atr: 0.8278 ate: 0.7320 f1te:0.6972\n",
            "epoch:23 acc_max: 0.7350 f1_max: 0.7001\n"
          ]
        }
      ]
    },
    {
      "cell_type": "markdown",
      "source": [
        "# gcn_citeseer"
      ],
      "metadata": {
        "id": "jKWCiozhzX4c"
      }
    },
    {
      "cell_type": "code",
      "source": [
        "sadj = load_graph_gcn(labelrate)\n",
        "features, labels, idx_train, idx_test = load_data()\n"
      ],
      "metadata": {
        "id": "D4B5ZnnbLLvo"
      },
      "execution_count": null,
      "outputs": []
    },
    {
      "cell_type": "code",
      "source": [
        "# def __init__(self, nfeat, nhid, out, dropout):\n",
        "model_gcn = GCN(nfeat = fdim,\n",
        "            nhid = nhid1,\n",
        "            out = class_num,\n",
        "            dropout = dropout)"
      ],
      "metadata": {
        "id": "SJHKspo9LLvp"
      },
      "execution_count": null,
      "outputs": []
    },
    {
      "cell_type": "code",
      "source": [
        "\n",
        "cuda = torch.cuda.is_available()\n",
        "cuda"
      ],
      "metadata": {
        "colab": {
          "base_uri": "https://localhost:8080/"
        },
        "outputId": "16d482f4-826f-4f01-ede1-f8813642d9eb",
        "id": "5PORD-GCLLvp"
      },
      "execution_count": null,
      "outputs": [
        {
          "output_type": "execute_result",
          "data": {
            "text/plain": [
              "True"
            ]
          },
          "metadata": {},
          "execution_count": 39
        }
      ]
    },
    {
      "cell_type": "code",
      "source": [
        "if cuda:\n",
        "    model_gcn.cuda()\n",
        "    features = features.cuda()\n",
        "    sadj = sadj.cuda()\n",
        "    labels = labels.cuda()\n",
        "    idx_train = idx_train.cuda()\n",
        "    idx_test = idx_test.cuda()\n",
        "\n",
        "\n",
        "optimizer = optim.Adam(model_gcn.parameters(), lr=lr, weight_decay=weight_decay)\n",
        "\n"
      ],
      "metadata": {
        "id": "_2fAgCQGLLvp"
      },
      "execution_count": null,
      "outputs": []
    },
    {
      "cell_type": "code",
      "source": [
        "\n",
        "\n",
        "acc_max = 0\n",
        "f1_max = 0\n",
        "epoch_max = 0\n",
        "for epoch in range(epochs):\n",
        "    loss, acc_test, macro_f1 = train_gcn(model_gcn, epoch)\n",
        "    if acc_test >= acc_max:\n",
        "        acc_max = acc_test\n",
        "        f1_max = macro_f1\n",
        "        epoch_max = epoch\n",
        "print('epoch:{}'.format(epoch_max),\n",
        "        'acc_max: {:.4f}'.format(acc_max),\n",
        "        'f1_max: {:.4f}'.format(f1_max))\n"
      ],
      "metadata": {
        "colab": {
          "base_uri": "https://localhost:8080/"
        },
        "outputId": "8a157352-fe8d-40e0-9e1e-02277bb0f4d8",
        "id": "KaWcIX4bLLvq"
      },
      "execution_count": null,
      "outputs": [
        {
          "output_type": "stream",
          "name": "stdout",
          "text": [
            "e:0 ltr: 0.2115 atr: 0.1167 ate: 0.1940 f1te:0.1331\n",
            "e:1 ltr: -0.5001 atr: 0.4250 ate: 0.3090 f1te:0.2675\n",
            "e:2 ltr: -1.1766 atr: 0.6667 ate: 0.3960 f1te:0.3554\n",
            "e:3 ltr: -1.8600 atr: 0.7917 ate: 0.4510 f1te:0.4179\n",
            "e:4 ltr: -2.5092 atr: 0.9083 ate: 0.4880 f1te:0.4582\n",
            "e:5 ltr: -3.1785 atr: 0.9083 ate: 0.5140 f1te:0.4821\n",
            "e:6 ltr: -3.8712 atr: 0.9333 ate: 0.5250 f1te:0.4944\n",
            "e:7 ltr: -4.5254 atr: 0.9500 ate: 0.5420 f1te:0.5129\n",
            "e:8 ltr: -5.2731 atr: 0.9500 ate: 0.5550 f1te:0.5238\n",
            "e:9 ltr: -6.0224 atr: 0.9667 ate: 0.5770 f1te:0.5458\n",
            "e:10 ltr: -6.6599 atr: 0.9583 ate: 0.5810 f1te:0.5507\n",
            "e:11 ltr: -7.4028 atr: 0.9667 ate: 0.5880 f1te:0.5581\n",
            "e:12 ltr: -8.2759 atr: 0.9500 ate: 0.5950 f1te:0.5648\n",
            "e:13 ltr: -9.0401 atr: 0.9417 ate: 0.6010 f1te:0.5706\n",
            "e:14 ltr: -9.9056 atr: 0.9583 ate: 0.6060 f1te:0.5748\n",
            "e:15 ltr: -10.7265 atr: 0.9667 ate: 0.6080 f1te:0.5766\n",
            "e:16 ltr: -11.4547 atr: 0.9417 ate: 0.6140 f1te:0.5818\n",
            "e:17 ltr: -12.4914 atr: 0.9583 ate: 0.6160 f1te:0.5842\n",
            "e:18 ltr: -13.2940 atr: 0.9667 ate: 0.6180 f1te:0.5863\n",
            "e:19 ltr: -14.1789 atr: 0.9500 ate: 0.6210 f1te:0.5887\n",
            "e:20 ltr: -15.1826 atr: 0.9750 ate: 0.6230 f1te:0.5917\n",
            "e:21 ltr: -16.1205 atr: 0.9667 ate: 0.6250 f1te:0.5931\n",
            "e:22 ltr: -16.9590 atr: 0.9500 ate: 0.6280 f1te:0.5973\n",
            "e:23 ltr: -17.8993 atr: 0.9417 ate: 0.6280 f1te:0.5974\n",
            "e:24 ltr: -18.8436 atr: 0.9333 ate: 0.6320 f1te:0.6012\n",
            "epoch:24 acc_max: 0.6320 f1_max: 0.6012\n"
          ]
        }
      ]
    },
    {
      "cell_type": "code",
      "source": [],
      "metadata": {
        "id": "DZKMTBv3Sm-j"
      },
      "execution_count": null,
      "outputs": []
    },
    {
      "cell_type": "code",
      "source": [
        "\n",
        "epochs = 25\n",
        "lr = 0.0005\n",
        "weight_decay = 5e-3\n",
        "k = 7\n",
        "nhid1 = 768\n",
        "nhid2 = 128\n",
        "dropout = 0.5\n",
        "beta = 5e-8\n",
        "theta = 0.001\n",
        "no_cuda = False\n",
        "no_seed = False\n",
        "seed = 123\n",
        "\n",
        "n = 3327\n",
        "fdim = 3703\n",
        "class_num = 6\n",
        "structgraph_path = cite_path + 'citeseer.edge'\n",
        "featuregraph_path = cite_path + 'knn/c'\n",
        "feature_path = cite_path + 'citeseer.feature'\n",
        "label_path = cite_path + 'citeseer.label'\n",
        "test_path = cite_path + 'test40.txt'\n",
        "train_path = cite_path + 'train40.txt'\n"
      ],
      "metadata": {
        "id": "2a9RadINSnTW"
      },
      "execution_count": null,
      "outputs": []
    },
    {
      "cell_type": "code",
      "source": [
        "dataset = \"citeseer\"  # replace with your dataset name\n",
        "labelrate = 40"
      ],
      "metadata": {
        "id": "2tdlR4_PSnTX"
      },
      "execution_count": null,
      "outputs": []
    },
    {
      "cell_type": "code",
      "source": [
        "sadj, fadj = load_graph(labelrate)\n",
        "features, labels, idx_train, idx_test = load_data()\n"
      ],
      "metadata": {
        "id": "AoQCEc4YSnTX"
      },
      "execution_count": null,
      "outputs": []
    },
    {
      "cell_type": "code",
      "source": [
        "# def __init__(self, nfeat, nhid, out, dropout):\n",
        "model_gcn = GCN(nfeat = fdim,\n",
        "            nhid = nhid1,\n",
        "            out = class_num,\n",
        "            dropout = dropout)"
      ],
      "metadata": {
        "id": "_MvnR8ykRwkS"
      },
      "execution_count": null,
      "outputs": []
    },
    {
      "cell_type": "code",
      "source": [
        "\n",
        "cuda = torch.cuda.is_available()\n",
        "cuda"
      ],
      "metadata": {
        "colab": {
          "base_uri": "https://localhost:8080/"
        },
        "outputId": "120293fb-6801-44e0-ee36-7ab30e957ff1",
        "id": "BBtVRpKkRwkS"
      },
      "execution_count": null,
      "outputs": [
        {
          "output_type": "execute_result",
          "data": {
            "text/plain": [
              "True"
            ]
          },
          "metadata": {},
          "execution_count": 46
        }
      ]
    },
    {
      "cell_type": "code",
      "source": [
        "if cuda:\n",
        "    model_gcn.cuda()\n",
        "    features = features.cuda()\n",
        "    sadj = sadj.cuda()\n",
        "    labels = labels.cuda()\n",
        "    idx_train = idx_train.cuda()\n",
        "    idx_test = idx_test.cuda()\n",
        "\n",
        "\n",
        "optimizer = optim.Adam(model_gcn.parameters(), lr=lr, weight_decay=weight_decay)\n",
        "\n"
      ],
      "metadata": {
        "id": "LHuk04v_RwkT"
      },
      "execution_count": null,
      "outputs": []
    },
    {
      "cell_type": "code",
      "source": [
        "# 40\n",
        "\n",
        "acc_max = 0\n",
        "f1_max = 0\n",
        "epoch_max = 0\n",
        "for epoch in range(epochs):\n",
        "    loss, acc_test, macro_f1 = train_gcn(model_gcn, epoch)\n",
        "    if acc_test >= acc_max:\n",
        "        acc_max = acc_test\n",
        "        f1_max = macro_f1\n",
        "        epoch_max = epoch\n",
        "print('epoch:{}'.format(epoch_max),\n",
        "        'acc_max: {:.4f}'.format(acc_max),\n",
        "        'f1_max: {:.4f}'.format(f1_max))\n"
      ],
      "metadata": {
        "colab": {
          "base_uri": "https://localhost:8080/"
        },
        "outputId": "0f1ec0d6-06ea-4325-cf2f-9271a17dc18e",
        "id": "OFoddHtQRbfr"
      },
      "execution_count": null,
      "outputs": [
        {
          "output_type": "stream",
          "name": "stdout",
          "text": [
            "e:0 ltr: -0.0328 atr: 0.1792 ate: 0.3060 f1te:0.2309\n",
            "e:1 ltr: -0.7136 atr: 0.4208 ate: 0.4300 f1te:0.3553\n",
            "e:2 ltr: -1.3697 atr: 0.6500 ate: 0.5060 f1te:0.4428\n",
            "e:3 ltr: -1.9234 atr: 0.7458 ate: 0.5510 f1te:0.4931\n",
            "e:4 ltr: -2.5914 atr: 0.8042 ate: 0.5980 f1te:0.5435\n",
            "e:5 ltr: -3.2093 atr: 0.8500 ate: 0.6120 f1te:0.5589\n",
            "e:6 ltr: -3.8903 atr: 0.8625 ate: 0.6230 f1te:0.5703\n",
            "e:7 ltr: -4.5550 atr: 0.8667 ate: 0.6320 f1te:0.5795\n",
            "e:8 ltr: -5.1954 atr: 0.8792 ate: 0.6380 f1te:0.5918\n",
            "e:9 ltr: -5.8859 atr: 0.8875 ate: 0.6400 f1te:0.6001\n",
            "e:10 ltr: -6.5837 atr: 0.8792 ate: 0.6460 f1te:0.6075\n",
            "e:11 ltr: -7.3206 atr: 0.9042 ate: 0.6520 f1te:0.6152\n",
            "e:12 ltr: -8.1150 atr: 0.8917 ate: 0.6580 f1te:0.6209\n",
            "e:13 ltr: -8.8326 atr: 0.8833 ate: 0.6590 f1te:0.6217\n",
            "e:14 ltr: -9.6899 atr: 0.8917 ate: 0.6630 f1te:0.6251\n",
            "e:15 ltr: -10.4686 atr: 0.9042 ate: 0.6650 f1te:0.6266\n",
            "e:16 ltr: -11.3027 atr: 0.8917 ate: 0.6690 f1te:0.6304\n",
            "e:17 ltr: -12.1101 atr: 0.9000 ate: 0.6670 f1te:0.6285\n",
            "e:18 ltr: -12.9706 atr: 0.8958 ate: 0.6690 f1te:0.6322\n",
            "e:19 ltr: -13.7819 atr: 0.9000 ate: 0.6700 f1te:0.6329\n",
            "e:20 ltr: -14.6810 atr: 0.9000 ate: 0.6700 f1te:0.6327\n",
            "e:21 ltr: -15.5979 atr: 0.8958 ate: 0.6730 f1te:0.6353\n",
            "e:22 ltr: -16.5177 atr: 0.9042 ate: 0.6740 f1te:0.6360\n",
            "e:23 ltr: -17.3908 atr: 0.8958 ate: 0.6750 f1te:0.6370\n",
            "e:24 ltr: -18.2951 atr: 0.8875 ate: 0.6750 f1te:0.6369\n",
            "epoch:24 acc_max: 0.6750 f1_max: 0.6369\n"
          ]
        }
      ]
    },
    {
      "cell_type": "code",
      "source": [
        "# 60\n",
        "epochs = 25\n",
        "lr = 0.0005\n",
        "weight_decay = 5e-3\n",
        "k = 7\n",
        "nhid1 = 768\n",
        "nhid2 = 128\n",
        "dropout = 0.5\n",
        "beta = 5e-8\n",
        "theta = 0.001\n",
        "no_cuda = False\n",
        "no_seed = False\n",
        "seed = 123\n",
        "\n",
        "\n",
        "n = 3327\n",
        "fdim = 3703\n",
        "class_num = 6\n",
        "structgraph_path = cite_path + 'citeseer.edge'\n",
        "featuregraph_path = cite_path + 'knn/c'\n",
        "feature_path = cite_path + 'citeseer.feature'\n",
        "label_path = cite_path + 'citeseer.label'\n",
        "test_path = cite_path + 'test60.txt'\n",
        "train_path = cite_path + 'train60.txt'\n"
      ],
      "metadata": {
        "id": "7cI1wGLNS6Ac"
      },
      "execution_count": null,
      "outputs": []
    },
    {
      "cell_type": "code",
      "source": [
        "dataset = \"citeseer\"  # replace with your dataset name\n",
        "labelrate = 60"
      ],
      "metadata": {
        "id": "eG00S-KuS6An"
      },
      "execution_count": null,
      "outputs": []
    },
    {
      "cell_type": "code",
      "source": [
        "sadj, fadj = load_graph(labelrate)\n",
        "features, labels, idx_train, idx_test = load_data()\n"
      ],
      "metadata": {
        "id": "pqB765jtS6An"
      },
      "execution_count": null,
      "outputs": []
    },
    {
      "cell_type": "code",
      "source": [
        "# def __init__(self, nfeat, nhid, out, dropout):\n",
        "model_gcn = GCN(nfeat = fdim,\n",
        "            nhid = nhid1,\n",
        "            out = class_num,\n",
        "            dropout = dropout)"
      ],
      "metadata": {
        "id": "d0z4uzcTS-KU"
      },
      "execution_count": null,
      "outputs": []
    },
    {
      "cell_type": "code",
      "source": [
        "\n",
        "cuda = torch.cuda.is_available()\n",
        "cuda"
      ],
      "metadata": {
        "colab": {
          "base_uri": "https://localhost:8080/"
        },
        "outputId": "265e5a3f-e572-4e6d-be4f-5deef619108c",
        "id": "n-NIXhEGS-Kg"
      },
      "execution_count": null,
      "outputs": [
        {
          "output_type": "execute_result",
          "data": {
            "text/plain": [
              "True"
            ]
          },
          "metadata": {},
          "execution_count": 53
        }
      ]
    },
    {
      "cell_type": "code",
      "source": [
        "if cuda:\n",
        "    model_gcn.cuda()\n",
        "    features = features.cuda()\n",
        "    sadj = sadj.cuda()\n",
        "    labels = labels.cuda()\n",
        "    idx_train = idx_train.cuda()\n",
        "    idx_test = idx_test.cuda()\n",
        "\n",
        "\n",
        "optimizer = optim.Adam(model_gcn.parameters(), lr=lr, weight_decay=weight_decay)\n",
        "\n"
      ],
      "metadata": {
        "id": "oY-yACZtS-Kh"
      },
      "execution_count": null,
      "outputs": []
    },
    {
      "cell_type": "code",
      "source": [
        "\n",
        "acc_max = 0\n",
        "f1_max = 0\n",
        "epoch_max = 0\n",
        "for epoch in range(epochs):\n",
        "    loss, acc_test, macro_f1 = train_gcn(model_gcn, epoch)\n",
        "    if acc_test >= acc_max:\n",
        "        acc_max = acc_test\n",
        "        f1_max = macro_f1\n",
        "        epoch_max = epoch\n",
        "print('epoch:{}'.format(epoch_max),\n",
        "        'acc_max: {:.4f}'.format(acc_max),\n",
        "        'f1_max: {:.4f}'.format(f1_max))\n"
      ],
      "metadata": {
        "colab": {
          "base_uri": "https://localhost:8080/"
        },
        "outputId": "93d89f1d-331f-49d6-e921-a89896fe1c2e",
        "id": "c-d572pzS-Kh"
      },
      "execution_count": null,
      "outputs": [
        {
          "output_type": "stream",
          "name": "stdout",
          "text": [
            "e:0 ltr: 0.0855 atr: 0.2083 ate: 0.3400 f1te:0.2476\n",
            "e:1 ltr: -0.5230 atr: 0.3722 ate: 0.4640 f1te:0.4103\n",
            "e:2 ltr: -1.1826 atr: 0.6000 ate: 0.5480 f1te:0.5109\n",
            "e:3 ltr: -1.7760 atr: 0.7306 ate: 0.5990 f1te:0.5733\n",
            "e:4 ltr: -2.4223 atr: 0.7944 ate: 0.6470 f1te:0.6247\n",
            "e:5 ltr: -3.0592 atr: 0.8417 ate: 0.6630 f1te:0.6384\n",
            "e:6 ltr: -3.6651 atr: 0.8722 ate: 0.6670 f1te:0.6413\n",
            "e:7 ltr: -4.3340 atr: 0.8722 ate: 0.6780 f1te:0.6513\n",
            "e:8 ltr: -5.0157 atr: 0.8806 ate: 0.6800 f1te:0.6531\n",
            "e:9 ltr: -5.7039 atr: 0.9000 ate: 0.6840 f1te:0.6571\n",
            "e:10 ltr: -6.4069 atr: 0.8917 ate: 0.6990 f1te:0.6710\n",
            "e:11 ltr: -7.1667 atr: 0.9056 ate: 0.7080 f1te:0.6794\n",
            "e:12 ltr: -7.8959 atr: 0.9167 ate: 0.7100 f1te:0.6815\n",
            "e:13 ltr: -8.6619 atr: 0.9139 ate: 0.7100 f1te:0.6812\n",
            "e:14 ltr: -9.4230 atr: 0.9000 ate: 0.7110 f1te:0.6808\n",
            "e:15 ltr: -10.2613 atr: 0.9111 ate: 0.7130 f1te:0.6832\n",
            "e:16 ltr: -11.1118 atr: 0.9056 ate: 0.7140 f1te:0.6840\n",
            "e:17 ltr: -11.8794 atr: 0.9083 ate: 0.7140 f1te:0.6842\n",
            "e:18 ltr: -12.7497 atr: 0.9000 ate: 0.7110 f1te:0.6808\n",
            "e:19 ltr: -13.7092 atr: 0.9056 ate: 0.7110 f1te:0.6805\n",
            "e:20 ltr: -14.5626 atr: 0.9083 ate: 0.7140 f1te:0.6840\n",
            "e:21 ltr: -15.4482 atr: 0.9083 ate: 0.7140 f1te:0.6840\n",
            "e:22 ltr: -16.2444 atr: 0.9139 ate: 0.7160 f1te:0.6858\n",
            "e:23 ltr: -17.2556 atr: 0.9111 ate: 0.7190 f1te:0.6886\n",
            "e:24 ltr: -18.2792 atr: 0.9167 ate: 0.7210 f1te:0.6906\n",
            "epoch:24 acc_max: 0.7210 f1_max: 0.6906\n"
          ]
        }
      ]
    },
    {
      "cell_type": "code",
      "source": [],
      "metadata": {
        "id": "1tObN1wEszsS"
      },
      "execution_count": null,
      "outputs": []
    },
    {
      "cell_type": "markdown",
      "source": [
        "# Flickr"
      ],
      "metadata": {
        "id": "SuRJUj4Os1R4"
      }
    },
    {
      "cell_type": "code",
      "source": [
        "flickr_path = '/content/drive/MyDrive/Colab Notebooks/Oxford_ACS/graph_representation_learning/miniproject/flickr/'"
      ],
      "metadata": {
        "id": "K_wLzSgTwFX0"
      },
      "execution_count": null,
      "outputs": []
    },
    {
      "cell_type": "markdown",
      "source": [
        "# 20"
      ],
      "metadata": {
        "id": "cYzkkSdLHtTw"
      }
    },
    {
      "cell_type": "code",
      "source": [
        "dataset = 'flickr'\n",
        "labelrate = 20\n",
        "data_path = flickr_path"
      ],
      "metadata": {
        "id": "wfbFVmlPwtQM"
      },
      "execution_count": null,
      "outputs": []
    },
    {
      "cell_type": "code",
      "source": [
        "# 20\n",
        "epochs = 60\n",
        "lr = 0.0003\n",
        "weight_decay = 5e-4\n",
        "k = 5\n",
        "nhid1 = 512\n",
        "nhid2 = 128\n",
        "dropout = 0.5\n",
        "beta = 1e-10\n",
        "theta = 0.01\n",
        "no_cuda = False\n",
        "no_seed = False\n",
        "seed = 123\n",
        "\n",
        "\n",
        "n = 7575\n",
        "fdim = 12047\n",
        "class_num = 9\n",
        "structgraph_path = data_path + dataset + '.edge'\n",
        "featuregraph_path = data_path + 'knn/c'\n",
        "feature_path = data_path + dataset + '.feature'\n",
        "label_path = data_path + dataset + '.label'\n",
        "test_path = data_path + 'test' + str(labelrate) + '.txt'\n",
        "train_path = data_path + 'train' + str(labelrate) + '.txt'\n"
      ],
      "metadata": {
        "id": "dzs1OZiWs0qB"
      },
      "execution_count": null,
      "outputs": []
    },
    {
      "cell_type": "code",
      "source": [],
      "metadata": {
        "id": "9H0Zmtg3szo7"
      },
      "execution_count": null,
      "outputs": []
    },
    {
      "cell_type": "code",
      "source": [
        "sadj, fadj = load_graph(labelrate)\n",
        "features, labels, idx_train, idx_test = load_data()\n"
      ],
      "metadata": {
        "id": "--viL048ys49"
      },
      "execution_count": null,
      "outputs": []
    },
    {
      "cell_type": "markdown",
      "source": [
        "# S, F"
      ],
      "metadata": {
        "id": "Y-0JfAEHWmxD"
      }
    },
    {
      "cell_type": "code",
      "source": [
        "model = sfGCN(nfeat = fdim,\n",
        "            nhid1 = nhid1,\n",
        "            nhid2 = nhid2,\n",
        "            nclass = class_num,\n",
        "            n = n,\n",
        "            dropout = dropout)"
      ],
      "metadata": {
        "id": "0RKt_O5GWmxP"
      },
      "execution_count": null,
      "outputs": []
    },
    {
      "cell_type": "code",
      "source": [
        "\n",
        "cuda = torch.cuda.is_available()\n",
        "cuda"
      ],
      "metadata": {
        "colab": {
          "base_uri": "https://localhost:8080/"
        },
        "outputId": "e9be69a8-9e58-4075-8775-107e412251cd",
        "id": "_mkqT5jNWmxP"
      },
      "execution_count": null,
      "outputs": [
        {
          "output_type": "execute_result",
          "data": {
            "text/plain": [
              "True"
            ]
          },
          "metadata": {},
          "execution_count": 77
        }
      ]
    },
    {
      "cell_type": "code",
      "source": [
        "if cuda:\n",
        "    model.cuda()\n",
        "    features = features.cuda()\n",
        "    sadj = sadj.cuda()\n",
        "    fadj = fadj.cuda()\n",
        "    labels = labels.cuda()\n",
        "    idx_train = idx_train.cuda()\n",
        "    idx_test = idx_test.cuda()\n",
        "\n",
        "\n",
        "optimizer = optim.Adam(model.parameters(), lr=lr, weight_decay=weight_decay)\n",
        "\n"
      ],
      "metadata": {
        "id": "COzKt6u_WmxP"
      },
      "execution_count": null,
      "outputs": []
    },
    {
      "cell_type": "code",
      "source": [
        "\n",
        "\n",
        "acc_max = 0\n",
        "f1_max = 0\n",
        "epoch_max = 0\n",
        "for epoch in range(epochs):\n",
        "    loss, acc_test, macro_f1, emb = train_sf(model, epoch)\n",
        "    if acc_test >= acc_max:\n",
        "        acc_max = acc_test\n",
        "        f1_max = macro_f1\n",
        "        epoch_max = epoch\n",
        "print('epoch:{}'.format(epoch_max),\n",
        "        'acc_max: {:.4f}'.format(acc_max),\n",
        "        'f1_max: {:.4f}'.format(f1_max))\n"
      ],
      "metadata": {
        "colab": {
          "base_uri": "https://localhost:8080/"
        },
        "outputId": "0e2006b4-ff28-4ebc-90e1-58f579215784",
        "id": "h7vqM_I2WmxP"
      },
      "execution_count": null,
      "outputs": [
        {
          "output_type": "stream",
          "name": "stdout",
          "text": [
            "e:0 ltr: 2.1971 atr: 0.1111 ate: 0.1180 f1te:0.0302\n",
            "e:1 ltr: 2.1853 atr: 0.1389 ate: 0.1280 f1te:0.0481\n",
            "e:2 ltr: 2.1746 atr: 0.1778 ate: 0.1560 f1te:0.0925\n",
            "e:3 ltr: 2.1619 atr: 0.2667 ate: 0.1870 f1te:0.1349\n",
            "e:4 ltr: 2.1489 atr: 0.3667 ate: 0.2230 f1te:0.1842\n",
            "e:5 ltr: 2.1378 atr: 0.4556 ate: 0.2750 f1te:0.2447\n",
            "e:6 ltr: 2.1253 atr: 0.5389 ate: 0.3350 f1te:0.3120\n",
            "e:7 ltr: 2.1106 atr: 0.6278 ate: 0.3790 f1te:0.3576\n",
            "e:8 ltr: 2.0968 atr: 0.6944 ate: 0.4170 f1te:0.3972\n",
            "e:9 ltr: 2.0818 atr: 0.7444 ate: 0.4690 f1te:0.4469\n",
            "e:10 ltr: 2.0666 atr: 0.8000 ate: 0.5000 f1te:0.4755\n",
            "e:11 ltr: 2.0490 atr: 0.8444 ate: 0.5340 f1te:0.5081\n",
            "e:12 ltr: 2.0299 atr: 0.8722 ate: 0.5700 f1te:0.5396\n",
            "e:13 ltr: 2.0118 atr: 0.9056 ate: 0.5930 f1te:0.5584\n",
            "e:14 ltr: 1.9887 atr: 0.9167 ate: 0.6170 f1te:0.5799\n",
            "e:15 ltr: 1.9643 atr: 0.9444 ate: 0.6260 f1te:0.5890\n",
            "e:16 ltr: 1.9432 atr: 0.9389 ate: 0.6400 f1te:0.6028\n",
            "e:17 ltr: 1.9123 atr: 0.9667 ate: 0.6530 f1te:0.6187\n",
            "e:18 ltr: 1.8852 atr: 0.9722 ate: 0.6680 f1te:0.6378\n",
            "e:19 ltr: 1.8543 atr: 0.9667 ate: 0.6780 f1te:0.6497\n",
            "e:20 ltr: 1.8228 atr: 0.9722 ate: 0.6890 f1te:0.6599\n",
            "e:21 ltr: 1.7845 atr: 0.9889 ate: 0.6880 f1te:0.6582\n",
            "e:22 ltr: 1.7479 atr: 0.9833 ate: 0.6940 f1te:0.6623\n",
            "e:23 ltr: 1.7046 atr: 0.9778 ate: 0.6950 f1te:0.6627\n",
            "e:24 ltr: 1.6598 atr: 0.9833 ate: 0.7000 f1te:0.6690\n",
            "e:25 ltr: 1.6151 atr: 0.9833 ate: 0.7030 f1te:0.6708\n",
            "e:26 ltr: 1.5685 atr: 0.9889 ate: 0.7020 f1te:0.6676\n",
            "e:27 ltr: 1.5160 atr: 0.9778 ate: 0.7020 f1te:0.6663\n",
            "e:28 ltr: 1.4649 atr: 0.9889 ate: 0.6960 f1te:0.6585\n",
            "e:29 ltr: 1.4154 atr: 0.9722 ate: 0.6940 f1te:0.6554\n",
            "e:30 ltr: 1.3581 atr: 0.9722 ate: 0.6920 f1te:0.6534\n",
            "e:31 ltr: 1.3092 atr: 0.9778 ate: 0.6870 f1te:0.6481\n",
            "e:32 ltr: 1.2612 atr: 0.9778 ate: 0.6890 f1te:0.6512\n",
            "e:33 ltr: 1.2099 atr: 0.9722 ate: 0.6870 f1te:0.6490\n",
            "e:34 ltr: 1.1638 atr: 0.9778 ate: 0.6880 f1te:0.6499\n",
            "e:35 ltr: 1.1141 atr: 0.9722 ate: 0.6890 f1te:0.6519\n",
            "e:36 ltr: 1.0629 atr: 0.9778 ate: 0.6900 f1te:0.6532\n",
            "e:37 ltr: 1.0251 atr: 0.9778 ate: 0.6890 f1te:0.6539\n",
            "e:38 ltr: 0.9742 atr: 0.9778 ate: 0.6900 f1te:0.6559\n",
            "e:39 ltr: 0.9323 atr: 0.9722 ate: 0.6950 f1te:0.6633\n",
            "e:40 ltr: 0.8925 atr: 0.9833 ate: 0.6990 f1te:0.6692\n",
            "e:41 ltr: 0.8524 atr: 0.9833 ate: 0.7010 f1te:0.6734\n",
            "e:42 ltr: 0.8099 atr: 0.9833 ate: 0.7080 f1te:0.6849\n",
            "e:43 ltr: 0.7694 atr: 0.9889 ate: 0.7130 f1te:0.6919\n",
            "e:44 ltr: 0.7391 atr: 0.9889 ate: 0.7190 f1te:0.7006\n",
            "e:45 ltr: 0.7027 atr: 0.9944 ate: 0.7250 f1te:0.7099\n",
            "e:46 ltr: 0.6659 atr: 0.9944 ate: 0.7330 f1te:0.7198\n",
            "e:47 ltr: 0.6391 atr: 0.9944 ate: 0.7370 f1te:0.7254\n",
            "e:48 ltr: 0.6110 atr: 0.9944 ate: 0.7360 f1te:0.7253\n",
            "e:49 ltr: 0.5728 atr: 0.9944 ate: 0.7400 f1te:0.7308\n",
            "e:50 ltr: 0.5433 atr: 1.0000 ate: 0.7390 f1te:0.7324\n",
            "e:51 ltr: 0.5160 atr: 0.9944 ate: 0.7460 f1te:0.7416\n",
            "e:52 ltr: 0.4963 atr: 1.0000 ate: 0.7470 f1te:0.7441\n",
            "e:53 ltr: 0.4665 atr: 1.0000 ate: 0.7500 f1te:0.7478\n",
            "e:54 ltr: 0.4408 atr: 1.0000 ate: 0.7520 f1te:0.7510\n",
            "e:55 ltr: 0.4115 atr: 1.0000 ate: 0.7490 f1te:0.7494\n",
            "e:56 ltr: 0.3945 atr: 1.0000 ate: 0.7530 f1te:0.7542\n",
            "e:57 ltr: 0.3691 atr: 1.0000 ate: 0.7530 f1te:0.7554\n",
            "e:58 ltr: 0.3472 atr: 1.0000 ate: 0.7520 f1te:0.7553\n",
            "e:59 ltr: 0.3293 atr: 1.0000 ate: 0.7500 f1te:0.7544\n",
            "epoch:57 acc_max: 0.7530 f1_max: 0.7554\n"
          ]
        }
      ]
    },
    {
      "cell_type": "markdown",
      "source": [
        "# All"
      ],
      "metadata": {
        "id": "O7Cppu5yWoYi"
      }
    },
    {
      "cell_type": "code",
      "source": [
        "model = SFGCN(nfeat = fdim,\n",
        "            nhid1 = nhid1,\n",
        "            nhid2 = nhid2,\n",
        "            nclass = class_num,\n",
        "            n = n,\n",
        "            dropout = dropout)"
      ],
      "metadata": {
        "id": "uuwJZqssys4-"
      },
      "execution_count": null,
      "outputs": []
    },
    {
      "cell_type": "code",
      "source": [
        "\n",
        "cuda = torch.cuda.is_available()\n",
        "cuda"
      ],
      "metadata": {
        "colab": {
          "base_uri": "https://localhost:8080/"
        },
        "outputId": "2149ac2c-02d3-4ff8-ac0a-e3396eed79b2",
        "id": "Yy-cuHLcys4-"
      },
      "execution_count": null,
      "outputs": [
        {
          "output_type": "execute_result",
          "data": {
            "text/plain": [
              "True"
            ]
          },
          "metadata": {},
          "execution_count": 21
        }
      ]
    },
    {
      "cell_type": "code",
      "source": [
        "if cuda:\n",
        "    model.cuda()\n",
        "    features = features.cuda()\n",
        "    sadj = sadj.cuda()\n",
        "    fadj = fadj.cuda()\n",
        "    labels = labels.cuda()\n",
        "    idx_train = idx_train.cuda()\n",
        "    idx_test = idx_test.cuda()\n",
        "\n",
        "\n",
        "optimizer = optim.Adam(model.parameters(), lr=lr, weight_decay=weight_decay)\n",
        "\n"
      ],
      "metadata": {
        "id": "wgxkJNINys4-"
      },
      "execution_count": null,
      "outputs": []
    },
    {
      "cell_type": "code",
      "source": [
        "\n",
        "acc_tests = []\n",
        "macro_f1s = []\n",
        "\n",
        "acc_max = 0\n",
        "f1_max = 0\n",
        "epoch_max = 0\n",
        "for epoch in range(epochs):\n",
        "    loss, acc_test, macro_f1, emb = train(model, epoch)\n",
        "    acc_tests.append(acc_test)\n",
        "    macro_f1s.append(macro_f1)\n",
        "    if acc_test >= acc_max:\n",
        "        acc_max = acc_test\n",
        "        f1_max = macro_f1\n",
        "        epoch_max = epoch\n",
        "print('epoch:{}'.format(epoch_max),\n",
        "        'acc_max: {:.4f}'.format(acc_max),\n",
        "        'f1_max: {:.4f}'.format(f1_max))\n"
      ],
      "metadata": {
        "colab": {
          "base_uri": "https://localhost:8080/"
        },
        "outputId": "cc96485d-0577-4c3d-851a-ee95859b8c0c",
        "id": "iGCEfeVkys4-"
      },
      "execution_count": null,
      "outputs": [
        {
          "output_type": "stream",
          "name": "stdout",
          "text": [
            "e:0 ltr: 2.1969 atr: 0.1389 ate: 0.1650 f1te:0.1026\n",
            "e:1 ltr: 2.1888 atr: 0.1667 ate: 0.2010 f1te:0.1393\n",
            "e:2 ltr: 2.1800 atr: 0.3111 ate: 0.2450 f1te:0.1992\n",
            "e:3 ltr: 2.1706 atr: 0.4667 ate: 0.2960 f1te:0.2581\n",
            "e:4 ltr: 2.1610 atr: 0.5778 ate: 0.3560 f1te:0.3169\n",
            "e:5 ltr: 2.1518 atr: 0.6778 ate: 0.3940 f1te:0.3540\n",
            "e:6 ltr: 2.1421 atr: 0.7389 ate: 0.4210 f1te:0.3814\n",
            "e:7 ltr: 2.1329 atr: 0.7444 ate: 0.4460 f1te:0.4017\n",
            "e:8 ltr: 2.1225 atr: 0.7833 ate: 0.4660 f1te:0.4163\n",
            "e:9 ltr: 2.1125 atr: 0.8056 ate: 0.4850 f1te:0.4346\n",
            "e:10 ltr: 2.1015 atr: 0.8389 ate: 0.5020 f1te:0.4534\n",
            "e:11 ltr: 2.0897 atr: 0.8778 ate: 0.5120 f1te:0.4631\n",
            "e:12 ltr: 2.0779 atr: 0.8889 ate: 0.5240 f1te:0.4731\n",
            "e:13 ltr: 2.0636 atr: 0.9111 ate: 0.5360 f1te:0.4906\n",
            "e:14 ltr: 2.0500 atr: 0.9111 ate: 0.5540 f1te:0.5116\n",
            "e:15 ltr: 2.0368 atr: 0.9333 ate: 0.5630 f1te:0.5220\n",
            "e:16 ltr: 2.0222 atr: 0.9333 ate: 0.5790 f1te:0.5392\n",
            "e:17 ltr: 2.0055 atr: 0.9444 ate: 0.5880 f1te:0.5505\n",
            "e:18 ltr: 1.9872 atr: 0.9556 ate: 0.6000 f1te:0.5629\n",
            "e:19 ltr: 1.9695 atr: 0.9722 ate: 0.6100 f1te:0.5730\n",
            "e:20 ltr: 1.9484 atr: 0.9667 ate: 0.6230 f1te:0.5855\n",
            "e:21 ltr: 1.9272 atr: 0.9833 ate: 0.6350 f1te:0.5982\n",
            "e:22 ltr: 1.9064 atr: 0.9722 ate: 0.6520 f1te:0.6169\n",
            "e:23 ltr: 1.8820 atr: 0.9944 ate: 0.6600 f1te:0.6257\n",
            "e:24 ltr: 1.8563 atr: 0.9722 ate: 0.6620 f1te:0.6261\n",
            "e:25 ltr: 1.8271 atr: 0.9833 ate: 0.6690 f1te:0.6336\n",
            "e:26 ltr: 1.7993 atr: 0.9833 ate: 0.6820 f1te:0.6494\n",
            "e:27 ltr: 1.7685 atr: 0.9889 ate: 0.6880 f1te:0.6582\n",
            "e:28 ltr: 1.7329 atr: 0.9778 ate: 0.6980 f1te:0.6715\n",
            "e:29 ltr: 1.6982 atr: 0.9889 ate: 0.7050 f1te:0.6806\n",
            "e:30 ltr: 1.6582 atr: 0.9889 ate: 0.7080 f1te:0.6856\n",
            "e:31 ltr: 1.6121 atr: 0.9889 ate: 0.7090 f1te:0.6876\n",
            "e:32 ltr: 1.5684 atr: 0.9889 ate: 0.7060 f1te:0.6853\n",
            "e:33 ltr: 1.5308 atr: 0.9889 ate: 0.7080 f1te:0.6886\n",
            "e:34 ltr: 1.4811 atr: 0.9889 ate: 0.7130 f1te:0.6950\n",
            "e:35 ltr: 1.4303 atr: 0.9889 ate: 0.7150 f1te:0.6977\n",
            "e:36 ltr: 1.3778 atr: 0.9889 ate: 0.7210 f1te:0.7052\n",
            "e:37 ltr: 1.3297 atr: 0.9889 ate: 0.7210 f1te:0.7054\n",
            "e:38 ltr: 1.2819 atr: 0.9833 ate: 0.7200 f1te:0.7045\n",
            "e:39 ltr: 1.2277 atr: 0.9889 ate: 0.7260 f1te:0.7123\n",
            "e:40 ltr: 1.1742 atr: 0.9833 ate: 0.7290 f1te:0.7154\n",
            "e:41 ltr: 1.1309 atr: 0.9833 ate: 0.7340 f1te:0.7209\n",
            "e:42 ltr: 1.0764 atr: 0.9889 ate: 0.7350 f1te:0.7218\n",
            "e:43 ltr: 1.0345 atr: 0.9889 ate: 0.7410 f1te:0.7281\n",
            "e:44 ltr: 0.9841 atr: 0.9889 ate: 0.7370 f1te:0.7239\n",
            "e:45 ltr: 0.9367 atr: 0.9944 ate: 0.7370 f1te:0.7239\n",
            "e:46 ltr: 0.8942 atr: 0.9889 ate: 0.7390 f1te:0.7260\n",
            "e:47 ltr: 0.8518 atr: 0.9944 ate: 0.7450 f1te:0.7328\n",
            "e:48 ltr: 0.8091 atr: 0.9944 ate: 0.7460 f1te:0.7340\n",
            "e:49 ltr: 0.7717 atr: 0.9944 ate: 0.7550 f1te:0.7444\n",
            "e:50 ltr: 0.7332 atr: 0.9944 ate: 0.7580 f1te:0.7478\n",
            "e:51 ltr: 0.6873 atr: 0.9944 ate: 0.7580 f1te:0.7492\n",
            "e:52 ltr: 0.6537 atr: 0.9944 ate: 0.7590 f1te:0.7518\n",
            "e:53 ltr: 0.6198 atr: 0.9944 ate: 0.7560 f1te:0.7499\n",
            "e:54 ltr: 0.5874 atr: 1.0000 ate: 0.7550 f1te:0.7498\n",
            "e:55 ltr: 0.5558 atr: 1.0000 ate: 0.7600 f1te:0.7558\n",
            "e:56 ltr: 0.5229 atr: 0.9944 ate: 0.7590 f1te:0.7558\n",
            "e:57 ltr: 0.4950 atr: 1.0000 ate: 0.7590 f1te:0.7569\n",
            "e:58 ltr: 0.4681 atr: 1.0000 ate: 0.7600 f1te:0.7586\n",
            "e:59 ltr: 0.4363 atr: 1.0000 ate: 0.7590 f1te:0.7581\n",
            "epoch:58 acc_max: 0.7600 f1_max: 0.7586\n"
          ]
        }
      ]
    },
    {
      "cell_type": "code",
      "source": [
        "\n",
        "# Plotting\n",
        "plt.figure(figsize=(6, 5))\n",
        "\n",
        "# Plot accuracy\n",
        "# plt.subplot(1, 2, 1)\n",
        "plt.plot(range(epochs), acc_tests, label='Accuracy', color='blue')\n",
        "plt.plot(range(epochs), macro_f1s, label='F1 Score', color='green')\n",
        "\n",
        "plt.xlabel('Epoch')\n",
        "plt.ylabel('Accuracy')\n",
        "plt.title(dataset + ' L/C ' + str(labelrate))\n",
        "plt.legend()\n",
        "\n",
        "plt.tight_layout()\n",
        "plt.show()"
      ],
      "metadata": {
        "colab": {
          "base_uri": "https://localhost:8080/",
          "height": 507
        },
        "id": "ftNQcw6E3eCa",
        "outputId": "6332c707-2aa9-4823-b8ca-61c3a88f1c72"
      },
      "execution_count": null,
      "outputs": [
        {
          "output_type": "display_data",
          "data": {
            "text/plain": [
              "<Figure size 600x500 with 1 Axes>"
            ],
            "image/png": "[encoded data removed]"
          },
          "metadata": {}
        }
      ]
    },
    {
      "cell_type": "markdown",
      "source": [
        "# Structural only"
      ],
      "metadata": {
        "id": "1kRefBUiys4_"
      }
    },
    {
      "cell_type": "code",
      "source": [
        "model = SGCN(nfeat = fdim,\n",
        "            nhid1 = nhid1,\n",
        "            nhid2 = nhid2,\n",
        "            nclass = class_num,\n",
        "            n = n,\n",
        "            dropout = dropout)"
      ],
      "metadata": {
        "id": "uLlQbgYnys4_"
      },
      "execution_count": null,
      "outputs": []
    },
    {
      "cell_type": "code",
      "source": [
        "\n",
        "cuda = torch.cuda.is_available()\n",
        "cuda"
      ],
      "metadata": {
        "colab": {
          "base_uri": "https://localhost:8080/"
        },
        "outputId": "a6f00c38-497f-4343-a019-16c395800bf6",
        "id": "iTEI9Wqmys4_"
      },
      "execution_count": null,
      "outputs": [
        {
          "output_type": "execute_result",
          "data": {
            "text/plain": [
              "True"
            ]
          },
          "metadata": {},
          "execution_count": 26
        }
      ]
    },
    {
      "cell_type": "code",
      "source": [
        "if cuda:\n",
        "    model.cuda()\n",
        "    features = features.cuda()\n",
        "    sadj = sadj.cuda()\n",
        "    fadj = fadj.cuda()\n",
        "    labels = labels.cuda()\n",
        "    idx_train = idx_train.cuda()\n",
        "    idx_test = idx_test.cuda()\n",
        "\n",
        "\n",
        "optimizer = optim.Adam(model.parameters(), lr=lr, weight_decay=weight_decay)\n",
        "\n"
      ],
      "metadata": {
        "id": "yl-fQZilys4_"
      },
      "execution_count": null,
      "outputs": []
    },
    {
      "cell_type": "code",
      "source": [
        "acc_tests = []\n",
        "macro_f1s = []\n",
        "\n",
        "acc_max = 0\n",
        "f1_max = 0\n",
        "epoch_max = 0\n",
        "for epoch in range(epochs):\n",
        "    loss, acc_test, macro_f1, emb = train_s(model, epoch)\n",
        "    acc_tests.append(acc_test)\n",
        "    macro_f1s.append(macro_f1)\n",
        "    if acc_test >= acc_max:\n",
        "        acc_max = acc_test\n",
        "        f1_max = macro_f1\n",
        "        epoch_max = epoch\n",
        "print('epoch:{}'.format(epoch_max),\n",
        "        'acc_max: {:.4f}'.format(acc_max),\n",
        "        'f1_max: {:.4f}'.format(f1_max))\n"
      ],
      "metadata": {
        "colab": {
          "base_uri": "https://localhost:8080/"
        },
        "outputId": "039279f0-5d77-4d6f-fe50-149fd314857b",
        "id": "uRfX_3_pys4_"
      },
      "execution_count": null,
      "outputs": [
        {
          "output_type": "stream",
          "name": "stdout",
          "text": [
            "e:0 ltr: 2.1986 atr: 0.1222 ate: 0.1110 f1te:0.0397\n",
            "e:1 ltr: 2.1939 atr: 0.1667 ate: 0.1350 f1te:0.0530\n",
            "e:2 ltr: 2.1885 atr: 0.1833 ate: 0.1570 f1te:0.0655\n",
            "e:3 ltr: 2.1838 atr: 0.1944 ate: 0.1640 f1te:0.0785\n",
            "e:4 ltr: 2.1787 atr: 0.2333 ate: 0.1710 f1te:0.0935\n",
            "e:5 ltr: 2.1737 atr: 0.2667 ate: 0.1970 f1te:0.1348\n",
            "e:6 ltr: 2.1680 atr: 0.3889 ate: 0.2190 f1te:0.1664\n",
            "e:7 ltr: 2.1626 atr: 0.4444 ate: 0.2490 f1te:0.1977\n",
            "e:8 ltr: 2.1574 atr: 0.4944 ate: 0.2690 f1te:0.2156\n",
            "e:9 ltr: 2.1519 atr: 0.6056 ate: 0.3010 f1te:0.2453\n",
            "e:10 ltr: 2.1446 atr: 0.6556 ate: 0.3240 f1te:0.2645\n",
            "e:11 ltr: 2.1379 atr: 0.7000 ate: 0.3510 f1te:0.2976\n",
            "e:12 ltr: 2.1304 atr: 0.7056 ate: 0.3670 f1te:0.3254\n",
            "e:13 ltr: 2.1238 atr: 0.7556 ate: 0.3720 f1te:0.3395\n",
            "e:14 ltr: 2.1169 atr: 0.7389 ate: 0.3720 f1te:0.3440\n",
            "e:15 ltr: 2.1069 atr: 0.7611 ate: 0.3680 f1te:0.3483\n",
            "e:16 ltr: 2.0984 atr: 0.7833 ate: 0.3700 f1te:0.3576\n",
            "e:17 ltr: 2.0888 atr: 0.7778 ate: 0.3730 f1te:0.3635\n",
            "e:18 ltr: 2.0767 atr: 0.7944 ate: 0.3740 f1te:0.3664\n",
            "e:19 ltr: 2.0655 atr: 0.8111 ate: 0.3760 f1te:0.3738\n",
            "e:20 ltr: 2.0527 atr: 0.7944 ate: 0.3680 f1te:0.3647\n",
            "e:21 ltr: 2.0394 atr: 0.8000 ate: 0.3660 f1te:0.3613\n",
            "e:22 ltr: 2.0250 atr: 0.7889 ate: 0.3650 f1te:0.3594\n",
            "e:23 ltr: 2.0077 atr: 0.8000 ate: 0.3650 f1te:0.3573\n",
            "e:24 ltr: 1.9939 atr: 0.8000 ate: 0.3710 f1te:0.3614\n",
            "e:25 ltr: 1.9697 atr: 0.7944 ate: 0.3730 f1te:0.3614\n",
            "e:26 ltr: 1.9492 atr: 0.8111 ate: 0.3750 f1te:0.3600\n",
            "e:27 ltr: 1.9318 atr: 0.7722 ate: 0.3790 f1te:0.3612\n",
            "e:28 ltr: 1.9061 atr: 0.7611 ate: 0.3820 f1te:0.3626\n",
            "e:29 ltr: 1.8841 atr: 0.7833 ate: 0.3870 f1te:0.3635\n",
            "e:30 ltr: 1.8544 atr: 0.7889 ate: 0.3930 f1te:0.3661\n",
            "e:31 ltr: 1.8270 atr: 0.7833 ate: 0.4080 f1te:0.3795\n",
            "e:32 ltr: 1.7949 atr: 0.7611 ate: 0.4200 f1te:0.3872\n",
            "e:33 ltr: 1.7635 atr: 0.7611 ate: 0.4320 f1te:0.3974\n",
            "e:34 ltr: 1.7279 atr: 0.7722 ate: 0.4530 f1te:0.4122\n",
            "e:35 ltr: 1.6927 atr: 0.7722 ate: 0.4730 f1te:0.4285\n",
            "e:36 ltr: 1.6588 atr: 0.7944 ate: 0.5010 f1te:0.4530\n",
            "e:37 ltr: 1.6205 atr: 0.7778 ate: 0.5280 f1te:0.4759\n",
            "e:38 ltr: 1.5803 atr: 0.8167 ate: 0.5580 f1te:0.5042\n",
            "e:39 ltr: 1.5397 atr: 0.8333 ate: 0.5730 f1te:0.5207\n",
            "e:40 ltr: 1.4982 atr: 0.8333 ate: 0.5990 f1te:0.5495\n",
            "e:41 ltr: 1.4626 atr: 0.8722 ate: 0.6130 f1te:0.5671\n",
            "e:42 ltr: 1.4195 atr: 0.8889 ate: 0.6300 f1te:0.5859\n",
            "e:43 ltr: 1.3769 atr: 0.8944 ate: 0.6510 f1te:0.6090\n",
            "e:44 ltr: 1.3375 atr: 0.9167 ate: 0.6860 f1te:0.6475\n",
            "e:45 ltr: 1.2961 atr: 0.9444 ate: 0.7090 f1te:0.6753\n",
            "e:46 ltr: 1.2506 atr: 0.9556 ate: 0.7220 f1te:0.6888\n",
            "e:47 ltr: 1.2101 atr: 0.9722 ate: 0.7390 f1te:0.7096\n",
            "e:48 ltr: 1.1712 atr: 0.9833 ate: 0.7480 f1te:0.7267\n",
            "e:49 ltr: 1.1219 atr: 0.9889 ate: 0.7620 f1te:0.7475\n",
            "e:50 ltr: 1.0837 atr: 0.9944 ate: 0.7650 f1te:0.7541\n",
            "e:51 ltr: 1.0487 atr: 1.0000 ate: 0.7680 f1te:0.7607\n",
            "e:52 ltr: 1.0085 atr: 0.9889 ate: 0.7720 f1te:0.7672\n",
            "e:53 ltr: 0.9683 atr: 1.0000 ate: 0.7750 f1te:0.7711\n",
            "e:54 ltr: 0.9283 atr: 1.0000 ate: 0.7690 f1te:0.7691\n",
            "e:55 ltr: 0.8926 atr: 1.0000 ate: 0.7660 f1te:0.7684\n",
            "e:56 ltr: 0.8560 atr: 1.0000 ate: 0.7650 f1te:0.7698\n",
            "e:57 ltr: 0.8195 atr: 1.0000 ate: 0.7640 f1te:0.7708\n",
            "e:58 ltr: 0.7854 atr: 1.0000 ate: 0.7580 f1te:0.7658\n",
            "e:59 ltr: 0.7583 atr: 1.0000 ate: 0.7560 f1te:0.7655\n",
            "epoch:53 acc_max: 0.7750 f1_max: 0.7711\n"
          ]
        }
      ]
    },
    {
      "cell_type": "code",
      "source": [
        "\n",
        "# Plotting\n",
        "plt.figure(figsize=(6, 5))\n",
        "\n",
        "# Plot accuracy\n",
        "# plt.subplot(1, 2, 1)\n",
        "plt.plot(range(epochs), acc_tests, label='Accuracy', color='blue')\n",
        "plt.plot(range(epochs), macro_f1s, label='F1 Score', color='green')\n",
        "\n",
        "plt.xlabel('Epoch')\n",
        "plt.ylabel('Accuracy')\n",
        "plt.title(dataset + ' L/C ' + str(labelrate) + 'w/o Feature')\n",
        "plt.legend()\n",
        "\n",
        "# # Plot F1 score\n",
        "# plt.subplot(1, 2, 2)\n",
        "# plt.plot(range(epochs), macro_f1s, label='Macro F1 Score', color='green')\n",
        "# plt.xlabel('Epoch')\n",
        "# plt.ylabel('Macro F1 Score')\n",
        "# plt.title('Macro F1 Score per Epoch')\n",
        "# plt.legend()\n",
        "\n",
        "plt.tight_layout()\n",
        "plt.show()"
      ],
      "metadata": {
        "colab": {
          "base_uri": "https://localhost:8080/",
          "height": 507
        },
        "id": "P6jkXLW6ys4_",
        "outputId": "576f0643-6806-4a92-bcf2-810f5e73db81"
      },
      "execution_count": null,
      "outputs": [
        {
          "output_type": "display_data",
          "data": {
            "text/plain": [
              "<Figure size 600x500 with 1 Axes>"
            ],
            "image/png": "[encoded data removed]"
          },
          "metadata": {}
        }
      ]
    },
    {
      "cell_type": "code",
      "source": [
        "model = FGCN(nfeat = fdim,\n",
        "            nhid1 = nhid1,\n",
        "            nhid2 = nhid2,\n",
        "            nclass = class_num,\n",
        "            n = n,\n",
        "            dropout = dropout)"
      ],
      "metadata": {
        "id": "93GMDWfAys5A"
      },
      "execution_count": null,
      "outputs": []
    },
    {
      "cell_type": "code",
      "source": [
        "\n",
        "cuda = torch.cuda.is_available()\n",
        "cuda"
      ],
      "metadata": {
        "colab": {
          "base_uri": "https://localhost:8080/"
        },
        "outputId": "e176f75a-cd74-4104-cee8-5a877d50c53f",
        "id": "ai8qEasXys5A"
      },
      "execution_count": null,
      "outputs": [
        {
          "output_type": "execute_result",
          "data": {
            "text/plain": [
              "True"
            ]
          },
          "metadata": {},
          "execution_count": 31
        }
      ]
    },
    {
      "cell_type": "code",
      "source": [
        "if cuda:\n",
        "    model.cuda()\n",
        "    features = features.cuda()\n",
        "    sadj = sadj.cuda()\n",
        "    fadj = fadj.cuda()\n",
        "    labels = labels.cuda()\n",
        "    idx_train = idx_train.cuda()\n",
        "    idx_test = idx_test.cuda()\n",
        "\n",
        "\n",
        "optimizer = optim.Adam(model.parameters(), lr=lr, weight_decay=weight_decay)\n",
        "\n"
      ],
      "metadata": {
        "id": "20GdIUsbys5A"
      },
      "execution_count": null,
      "outputs": []
    },
    {
      "cell_type": "code",
      "source": [
        "\n",
        "acc_tests = []\n",
        "macro_f1s = []\n",
        "\n",
        "acc_max = 0\n",
        "f1_max = 0\n",
        "epoch_max = 0\n",
        "for epoch in range(epochs):\n",
        "    loss, acc_test, macro_f1, emb = train_f(model, epoch)\n",
        "    acc_tests.append(acc_test)\n",
        "    macro_f1s.append(macro_f1)\n",
        "    if acc_test >= acc_max:\n",
        "        acc_max = acc_test\n",
        "        f1_max = macro_f1\n",
        "        epoch_max = epoch\n",
        "print('epoch:{}'.format(epoch_max),\n",
        "        'acc_max: {:.4f}'.format(acc_max),\n",
        "        'f1_max: {:.4f}'.format(f1_max))\n"
      ],
      "metadata": {
        "colab": {
          "base_uri": "https://localhost:8080/"
        },
        "outputId": "b74d532d-98f9-4055-9577-9ec1f387e644",
        "id": "i3dIYFpeys5A"
      },
      "execution_count": null,
      "outputs": [
        {
          "output_type": "stream",
          "name": "stdout",
          "text": [
            "e:0 ltr: 2.1994 atr: 0.1111 ate: 0.1150 f1te:0.0231\n",
            "e:1 ltr: 2.1841 atr: 0.1167 ate: 0.1190 f1te:0.0309\n",
            "e:2 ltr: 2.1681 atr: 0.1500 ate: 0.1360 f1te:0.0636\n",
            "e:3 ltr: 2.1516 atr: 0.2500 ate: 0.1640 f1te:0.1100\n",
            "e:4 ltr: 2.1373 atr: 0.3444 ate: 0.2130 f1te:0.1833\n",
            "e:5 ltr: 2.1227 atr: 0.4833 ate: 0.2790 f1te:0.2691\n",
            "e:6 ltr: 2.1063 atr: 0.6889 ate: 0.3540 f1te:0.3568\n",
            "e:7 ltr: 2.0897 atr: 0.7667 ate: 0.4510 f1te:0.4538\n",
            "e:8 ltr: 2.0724 atr: 0.8333 ate: 0.5040 f1te:0.5063\n",
            "e:9 ltr: 2.0546 atr: 0.8778 ate: 0.5630 f1te:0.5622\n",
            "e:10 ltr: 2.0367 atr: 0.8889 ate: 0.6040 f1te:0.5954\n",
            "e:11 ltr: 2.0183 atr: 0.9222 ate: 0.6300 f1te:0.6168\n",
            "e:12 ltr: 1.9989 atr: 0.9389 ate: 0.6490 f1te:0.6321\n",
            "e:13 ltr: 1.9793 atr: 0.9778 ate: 0.6670 f1te:0.6431\n",
            "e:14 ltr: 1.9585 atr: 0.9667 ate: 0.6780 f1te:0.6522\n",
            "e:15 ltr: 1.9362 atr: 0.9833 ate: 0.6930 f1te:0.6623\n",
            "e:16 ltr: 1.9137 atr: 0.9889 ate: 0.6930 f1te:0.6608\n",
            "e:17 ltr: 1.8887 atr: 0.9889 ate: 0.7020 f1te:0.6682\n",
            "e:18 ltr: 1.8617 atr: 0.9944 ate: 0.7060 f1te:0.6719\n",
            "e:19 ltr: 1.8339 atr: 0.9889 ate: 0.7110 f1te:0.6747\n",
            "e:20 ltr: 1.8070 atr: 0.9889 ate: 0.7090 f1te:0.6731\n",
            "e:21 ltr: 1.7752 atr: 0.9889 ate: 0.7070 f1te:0.6696\n",
            "e:22 ltr: 1.7462 atr: 0.9944 ate: 0.7030 f1te:0.6660\n",
            "e:23 ltr: 1.7109 atr: 0.9889 ate: 0.7010 f1te:0.6637\n",
            "e:24 ltr: 1.6751 atr: 0.9833 ate: 0.6990 f1te:0.6607\n",
            "e:25 ltr: 1.6396 atr: 0.9722 ate: 0.7000 f1te:0.6636\n",
            "e:26 ltr: 1.6026 atr: 0.9778 ate: 0.7000 f1te:0.6651\n",
            "e:27 ltr: 1.5668 atr: 0.9833 ate: 0.7000 f1te:0.6661\n",
            "e:28 ltr: 1.5174 atr: 0.9833 ate: 0.7030 f1te:0.6707\n",
            "e:29 ltr: 1.4756 atr: 0.9778 ate: 0.7030 f1te:0.6705\n",
            "e:30 ltr: 1.4296 atr: 0.9722 ate: 0.7040 f1te:0.6706\n",
            "e:31 ltr: 1.3875 atr: 0.9778 ate: 0.6980 f1te:0.6645\n",
            "e:32 ltr: 1.3450 atr: 0.9722 ate: 0.6960 f1te:0.6631\n",
            "e:33 ltr: 1.2926 atr: 0.9778 ate: 0.6960 f1te:0.6624\n",
            "e:34 ltr: 1.2483 atr: 0.9778 ate: 0.7000 f1te:0.6684\n",
            "e:35 ltr: 1.2025 atr: 0.9778 ate: 0.7080 f1te:0.6772\n",
            "e:36 ltr: 1.1567 atr: 0.9833 ate: 0.7080 f1te:0.6789\n",
            "e:37 ltr: 1.1073 atr: 0.9833 ate: 0.7100 f1te:0.6817\n",
            "e:38 ltr: 1.0608 atr: 0.9833 ate: 0.7150 f1te:0.6886\n",
            "e:39 ltr: 1.0116 atr: 0.9833 ate: 0.7180 f1te:0.6922\n",
            "e:40 ltr: 0.9729 atr: 0.9833 ate: 0.7230 f1te:0.6989\n",
            "e:41 ltr: 0.9263 atr: 0.9833 ate: 0.7270 f1te:0.7055\n",
            "e:42 ltr: 0.8836 atr: 0.9889 ate: 0.7320 f1te:0.7131\n",
            "e:43 ltr: 0.8436 atr: 0.9833 ate: 0.7380 f1te:0.7207\n",
            "e:44 ltr: 0.8030 atr: 0.9889 ate: 0.7420 f1te:0.7260\n",
            "e:45 ltr: 0.7634 atr: 0.9944 ate: 0.7440 f1te:0.7292\n",
            "e:46 ltr: 0.7303 atr: 1.0000 ate: 0.7450 f1te:0.7315\n",
            "e:47 ltr: 0.6924 atr: 0.9944 ate: 0.7490 f1te:0.7374\n",
            "e:48 ltr: 0.6550 atr: 0.9944 ate: 0.7500 f1te:0.7405\n",
            "e:49 ltr: 0.6192 atr: 1.0000 ate: 0.7550 f1te:0.7474\n",
            "e:50 ltr: 0.5907 atr: 1.0000 ate: 0.7580 f1te:0.7522\n",
            "e:51 ltr: 0.5559 atr: 1.0000 ate: 0.7590 f1te:0.7540\n",
            "e:52 ltr: 0.5254 atr: 1.0000 ate: 0.7590 f1te:0.7558\n",
            "e:53 ltr: 0.4968 atr: 1.0000 ate: 0.7590 f1te:0.7567\n",
            "e:54 ltr: 0.4731 atr: 1.0000 ate: 0.7610 f1te:0.7589\n",
            "e:55 ltr: 0.4405 atr: 1.0000 ate: 0.7580 f1te:0.7573\n",
            "e:56 ltr: 0.4193 atr: 1.0000 ate: 0.7590 f1te:0.7585\n",
            "e:57 ltr: 0.3935 atr: 1.0000 ate: 0.7610 f1te:0.7613\n",
            "e:58 ltr: 0.3712 atr: 1.0000 ate: 0.7590 f1te:0.7606\n",
            "e:59 ltr: 0.3462 atr: 1.0000 ate: 0.7600 f1te:0.7625\n",
            "epoch:57 acc_max: 0.7610 f1_max: 0.7613\n"
          ]
        }
      ]
    },
    {
      "cell_type": "code",
      "source": [
        "\n",
        "# Plotting\n",
        "plt.figure(figsize=(6, 5))\n",
        "\n",
        "# Plot accuracy\n",
        "# plt.subplot(1, 2, 1)\n",
        "plt.plot(range(epochs), acc_tests, label='Accuracy', color='blue')\n",
        "plt.plot(range(epochs), macro_f1s, label='F1 Score', color='green')\n",
        "\n",
        "plt.xlabel('Epoch')\n",
        "plt.ylabel('Accuracy')\n",
        "plt.title(dataset + ' L/C ' + str(labelrate))\n",
        "plt.legend()\n",
        "\n",
        "# # Plot F1 score\n",
        "# plt.subplot(1, 2, 2)\n",
        "# plt.plot(range(epochs), macro_f1s, label='Macro F1 Score', color='green')\n",
        "# plt.xlabel('Epoch')\n",
        "# plt.ylabel('Macro F1 Score')\n",
        "# plt.title('Macro F1 Score per Epoch')\n",
        "# plt.legend()\n",
        "\n",
        "plt.tight_layout()\n",
        "plt.show()"
      ],
      "metadata": {
        "colab": {
          "base_uri": "https://localhost:8080/",
          "height": 507
        },
        "id": "gciSLl2f1Q2u",
        "outputId": "b521b19b-6c64-4bd2-f8dd-f539cc6d4d52"
      },
      "execution_count": null,
      "outputs": [
        {
          "output_type": "display_data",
          "data": {
            "text/plain": [
              "<Figure size 600x500 with 1 Axes>"
            ],
            "image/png": "[encoded data removed]"
          },
          "metadata": {}
        }
      ]
    },
    {
      "cell_type": "markdown",
      "source": [
        "# 40"
      ],
      "metadata": {
        "id": "9QzEqWIJFvts"
      }
    },
    {
      "cell_type": "code",
      "source": [],
      "metadata": {
        "id": "k0zNDVw5Fu3R"
      },
      "execution_count": null,
      "outputs": []
    },
    {
      "cell_type": "code",
      "source": [
        "dataset = 'flickr'\n",
        "labelrate = 40\n",
        "data_path = flickr_path"
      ],
      "metadata": {
        "id": "pazrMs_EF67U"
      },
      "execution_count": null,
      "outputs": []
    },
    {
      "cell_type": "code",
      "source": [
        "# 40\n",
        "epochs = 40\n",
        "lr = 0.0005\n",
        "weight_decay = 1e-5\n",
        "k = 5\n",
        "nhid1 = 512\n",
        "nhid2 = 128\n",
        "dropout = 0.5\n",
        "beta = 1e-10\n",
        "theta = 0.01\n",
        "no_cuda = False\n",
        "no_seed = False\n",
        "seed = 123\n",
        "\n",
        "\n",
        "n = 7575\n",
        "fdim = 12047\n",
        "class_num = 9\n",
        "structgraph_path = data_path + dataset + '.edge'\n",
        "featuregraph_path = data_path + 'knn/c'\n",
        "feature_path = data_path + dataset + '.feature'\n",
        "label_path = data_path + dataset + '.label'\n",
        "test_path = data_path + 'test' + str(labelrate) + '.txt'\n",
        "train_path = data_path + 'train' + str(labelrate) + '.txt'\n"
      ],
      "metadata": {
        "id": "DHcfoZh4F67V"
      },
      "execution_count": null,
      "outputs": []
    },
    {
      "cell_type": "code",
      "source": [
        "sadj, fadj = load_graph(labelrate)\n",
        "features, labels, idx_train, idx_test = load_data()\n"
      ],
      "metadata": {
        "id": "fOR1VKtVF67V"
      },
      "execution_count": null,
      "outputs": []
    },
    {
      "cell_type": "markdown",
      "source": [
        "# S, F"
      ],
      "metadata": {
        "id": "vhQfR6giW0ob"
      }
    },
    {
      "cell_type": "code",
      "source": [
        "model = sfGCN(nfeat = fdim,\n",
        "            nhid1 = nhid1,\n",
        "            nhid2 = nhid2,\n",
        "            nclass = class_num,\n",
        "            n = n,\n",
        "            dropout = dropout)"
      ],
      "metadata": {
        "id": "XhxDA9lFW0oc"
      },
      "execution_count": null,
      "outputs": []
    },
    {
      "cell_type": "code",
      "source": [
        "\n",
        "cuda = torch.cuda.is_available()\n",
        "cuda"
      ],
      "metadata": {
        "colab": {
          "base_uri": "https://localhost:8080/"
        },
        "outputId": "02c11d82-c829-41f5-d8c6-46829e4d590a",
        "id": "HGveGIm_W0oc"
      },
      "execution_count": null,
      "outputs": [
        {
          "output_type": "execute_result",
          "data": {
            "text/plain": [
              "True"
            ]
          },
          "metadata": {},
          "execution_count": 84
        }
      ]
    },
    {
      "cell_type": "code",
      "source": [
        "if cuda:\n",
        "    model.cuda()\n",
        "    features = features.cuda()\n",
        "    sadj = sadj.cuda()\n",
        "    fadj = fadj.cuda()\n",
        "    labels = labels.cuda()\n",
        "    idx_train = idx_train.cuda()\n",
        "    idx_test = idx_test.cuda()\n",
        "\n",
        "\n",
        "optimizer = optim.Adam(model.parameters(), lr=lr, weight_decay=weight_decay)\n",
        "\n"
      ],
      "metadata": {
        "id": "IkrO1r14W0oc"
      },
      "execution_count": null,
      "outputs": []
    },
    {
      "cell_type": "code",
      "source": [
        "\n",
        "\n",
        "acc_max = 0\n",
        "f1_max = 0\n",
        "epoch_max = 0\n",
        "for epoch in range(epochs):\n",
        "    loss, acc_test, macro_f1, emb = train_sf(model, epoch)\n",
        "    if acc_test >= acc_max:\n",
        "        acc_max = acc_test\n",
        "        f1_max = macro_f1\n",
        "        epoch_max = epoch\n",
        "print('epoch:{}'.format(epoch_max),\n",
        "        'acc_max: {:.4f}'.format(acc_max),\n",
        "        'f1_max: {:.4f}'.format(f1_max))\n"
      ],
      "metadata": {
        "colab": {
          "base_uri": "https://localhost:8080/"
        },
        "outputId": "0a32560d-0a35-4dbe-e044-8286e9ab63fc",
        "id": "0bg0rtjdW0od"
      },
      "execution_count": null,
      "outputs": [
        {
          "output_type": "stream",
          "name": "stdout",
          "text": [
            "e:0 ltr: 2.1997 atr: 0.1139 ate: 0.1950 f1te:0.0797\n",
            "e:1 ltr: 2.1762 atr: 0.2222 ate: 0.2650 f1te:0.1668\n",
            "e:2 ltr: 2.1518 atr: 0.3361 ate: 0.3520 f1te:0.2812\n",
            "e:3 ltr: 2.1257 atr: 0.5000 ate: 0.4580 f1te:0.4017\n",
            "e:4 ltr: 2.0977 atr: 0.6389 ate: 0.5510 f1te:0.5155\n",
            "e:5 ltr: 2.0689 atr: 0.7611 ate: 0.6050 f1te:0.5780\n",
            "e:6 ltr: 2.0335 atr: 0.8472 ate: 0.6410 f1te:0.6162\n",
            "e:7 ltr: 1.9965 atr: 0.8889 ate: 0.6690 f1te:0.6505\n",
            "e:8 ltr: 1.9537 atr: 0.9056 ate: 0.6920 f1te:0.6786\n",
            "e:9 ltr: 1.9061 atr: 0.9417 ate: 0.7100 f1te:0.6990\n",
            "e:10 ltr: 1.8537 atr: 0.9583 ate: 0.7230 f1te:0.7138\n",
            "e:11 ltr: 1.7931 atr: 0.9639 ate: 0.7240 f1te:0.7136\n",
            "e:12 ltr: 1.7276 atr: 0.9722 ate: 0.7410 f1te:0.7306\n",
            "e:13 ltr: 1.6536 atr: 0.9694 ate: 0.7500 f1te:0.7380\n",
            "e:14 ltr: 1.5754 atr: 0.9778 ate: 0.7530 f1te:0.7396\n",
            "e:15 ltr: 1.4909 atr: 0.9806 ate: 0.7570 f1te:0.7419\n",
            "e:16 ltr: 1.4139 atr: 0.9806 ate: 0.7610 f1te:0.7445\n",
            "e:17 ltr: 1.3247 atr: 0.9778 ate: 0.7620 f1te:0.7442\n",
            "e:18 ltr: 1.2468 atr: 0.9778 ate: 0.7660 f1te:0.7490\n",
            "e:19 ltr: 1.1605 atr: 0.9750 ate: 0.7760 f1te:0.7593\n",
            "e:20 ltr: 1.0830 atr: 0.9806 ate: 0.7780 f1te:0.7611\n",
            "e:21 ltr: 1.0080 atr: 0.9778 ate: 0.7820 f1te:0.7658\n",
            "e:22 ltr: 0.9404 atr: 0.9861 ate: 0.7850 f1te:0.7691\n",
            "e:23 ltr: 0.8679 atr: 0.9889 ate: 0.7900 f1te:0.7751\n",
            "e:24 ltr: 0.8000 atr: 0.9889 ate: 0.7940 f1te:0.7800\n",
            "e:25 ltr: 0.7423 atr: 0.9833 ate: 0.7960 f1te:0.7836\n",
            "e:26 ltr: 0.6775 atr: 0.9889 ate: 0.7930 f1te:0.7812\n",
            "e:27 ltr: 0.6185 atr: 0.9917 ate: 0.7980 f1te:0.7877\n",
            "e:28 ltr: 0.5670 atr: 0.9889 ate: 0.7960 f1te:0.7879\n",
            "e:29 ltr: 0.5150 atr: 0.9972 ate: 0.7980 f1te:0.7915\n",
            "e:30 ltr: 0.4681 atr: 0.9972 ate: 0.8050 f1te:0.7999\n",
            "e:31 ltr: 0.4205 atr: 0.9944 ate: 0.8020 f1te:0.7985\n",
            "e:32 ltr: 0.3809 atr: 0.9944 ate: 0.8060 f1te:0.8040\n",
            "e:33 ltr: 0.3429 atr: 0.9944 ate: 0.8120 f1te:0.8114\n",
            "e:34 ltr: 0.3086 atr: 0.9972 ate: 0.8110 f1te:0.8107\n",
            "e:35 ltr: 0.2765 atr: 1.0000 ate: 0.8020 f1te:0.8030\n",
            "e:36 ltr: 0.2513 atr: 0.9944 ate: 0.7960 f1te:0.7981\n",
            "e:37 ltr: 0.2226 atr: 0.9972 ate: 0.7900 f1te:0.7925\n",
            "e:38 ltr: 0.1968 atr: 0.9972 ate: 0.7870 f1te:0.7905\n",
            "e:39 ltr: 0.1756 atr: 0.9972 ate: 0.7870 f1te:0.7916\n",
            "epoch:33 acc_max: 0.8120 f1_max: 0.8114\n"
          ]
        }
      ]
    },
    {
      "cell_type": "markdown",
      "source": [
        "# All"
      ],
      "metadata": {
        "id": "45O9fTg6W1bM"
      }
    },
    {
      "cell_type": "code",
      "source": [
        "model = SFGCN(nfeat = fdim,\n",
        "            nhid1 = nhid1,\n",
        "            nhid2 = nhid2,\n",
        "            nclass = class_num,\n",
        "            n = n,\n",
        "            dropout = dropout)"
      ],
      "metadata": {
        "id": "YdgzvOhhF67V"
      },
      "execution_count": null,
      "outputs": []
    },
    {
      "cell_type": "code",
      "source": [
        "\n",
        "cuda = torch.cuda.is_available()\n",
        "cuda"
      ],
      "metadata": {
        "colab": {
          "base_uri": "https://localhost:8080/"
        },
        "outputId": "2cd5ea18-8d2b-498b-8e34-b0357bd42285",
        "id": "_8auhTSyF67V"
      },
      "execution_count": null,
      "outputs": [
        {
          "output_type": "execute_result",
          "data": {
            "text/plain": [
              "True"
            ]
          },
          "metadata": {},
          "execution_count": 39
        }
      ]
    },
    {
      "cell_type": "code",
      "source": [
        "if cuda:\n",
        "    model.cuda()\n",
        "    features = features.cuda()\n",
        "    sadj = sadj.cuda()\n",
        "    fadj = fadj.cuda()\n",
        "    labels = labels.cuda()\n",
        "    idx_train = idx_train.cuda()\n",
        "    idx_test = idx_test.cuda()\n",
        "\n",
        "\n",
        "optimizer = optim.Adam(model.parameters(), lr=lr, weight_decay=weight_decay)\n",
        "\n"
      ],
      "metadata": {
        "id": "pH1Tth-LF67W"
      },
      "execution_count": null,
      "outputs": []
    },
    {
      "cell_type": "code",
      "source": [
        "\n",
        "acc_tests = []\n",
        "macro_f1s = []\n",
        "\n",
        "acc_max = 0\n",
        "f1_max = 0\n",
        "epoch_max = 0\n",
        "for epoch in range(epochs):\n",
        "    loss, acc_test, macro_f1, emb = train(model, epoch)\n",
        "    acc_tests.append(acc_test)\n",
        "    macro_f1s.append(macro_f1)\n",
        "    if acc_test >= acc_max:\n",
        "        acc_max = acc_test\n",
        "        f1_max = macro_f1\n",
        "        epoch_max = epoch\n",
        "print('epoch:{}'.format(epoch_max),\n",
        "        'acc_max: {:.4f}'.format(acc_max),\n",
        "        'f1_max: {:.4f}'.format(f1_max))\n"
      ],
      "metadata": {
        "colab": {
          "base_uri": "https://localhost:8080/"
        },
        "outputId": "91fb9bc4-9e92-43b9-adfe-5d051e1f4ad1",
        "id": "2cc4rvG9F67W"
      },
      "execution_count": null,
      "outputs": [
        {
          "output_type": "stream",
          "name": "stdout",
          "text": [
            "e:0 ltr: 2.1997 atr: 0.1111 ate: 0.1130 f1te:0.0506\n",
            "e:1 ltr: 2.1751 atr: 0.1639 ate: 0.2250 f1te:0.1879\n",
            "e:2 ltr: 2.1515 atr: 0.3250 ate: 0.3830 f1te:0.3511\n",
            "e:3 ltr: 2.1281 atr: 0.5472 ate: 0.5290 f1te:0.5092\n",
            "e:4 ltr: 2.1020 atr: 0.7722 ate: 0.6260 f1te:0.6143\n",
            "e:5 ltr: 2.0754 atr: 0.9056 ate: 0.6840 f1te:0.6725\n",
            "e:6 ltr: 2.0461 atr: 0.9472 ate: 0.7180 f1te:0.7070\n",
            "e:7 ltr: 2.0145 atr: 0.9806 ate: 0.7260 f1te:0.7125\n",
            "e:8 ltr: 1.9788 atr: 0.9778 ate: 0.7320 f1te:0.7198\n",
            "e:9 ltr: 1.9427 atr: 0.9806 ate: 0.7390 f1te:0.7251\n",
            "e:10 ltr: 1.9011 atr: 0.9667 ate: 0.7500 f1te:0.7337\n",
            "e:11 ltr: 1.8546 atr: 0.9667 ate: 0.7540 f1te:0.7343\n",
            "e:12 ltr: 1.8094 atr: 0.9694 ate: 0.7710 f1te:0.7506\n",
            "e:13 ltr: 1.7552 atr: 0.9750 ate: 0.7790 f1te:0.7590\n",
            "e:14 ltr: 1.6987 atr: 0.9806 ate: 0.7870 f1te:0.7676\n",
            "e:15 ltr: 1.6401 atr: 0.9861 ate: 0.7860 f1te:0.7672\n",
            "e:16 ltr: 1.5714 atr: 0.9889 ate: 0.7920 f1te:0.7749\n",
            "e:17 ltr: 1.5011 atr: 0.9889 ate: 0.7940 f1te:0.7778\n",
            "e:18 ltr: 1.4264 atr: 0.9889 ate: 0.7990 f1te:0.7857\n",
            "e:19 ltr: 1.3511 atr: 0.9917 ate: 0.7990 f1te:0.7860\n",
            "e:20 ltr: 1.2706 atr: 0.9944 ate: 0.8020 f1te:0.7904\n",
            "e:21 ltr: 1.1972 atr: 0.9917 ate: 0.8040 f1te:0.7934\n",
            "e:22 ltr: 1.1229 atr: 0.9944 ate: 0.8090 f1te:0.8000\n",
            "e:23 ltr: 1.0474 atr: 0.9917 ate: 0.8070 f1te:0.7986\n",
            "e:24 ltr: 0.9760 atr: 0.9917 ate: 0.8070 f1te:0.7993\n",
            "e:25 ltr: 0.9094 atr: 0.9917 ate: 0.8050 f1te:0.7976\n",
            "e:26 ltr: 0.8448 atr: 0.9917 ate: 0.8090 f1te:0.8029\n",
            "e:27 ltr: 0.7800 atr: 0.9944 ate: 0.8070 f1te:0.8019\n",
            "e:28 ltr: 0.7243 atr: 0.9944 ate: 0.8060 f1te:0.8020\n",
            "e:29 ltr: 0.6653 atr: 0.9944 ate: 0.8080 f1te:0.8054\n",
            "e:30 ltr: 0.6142 atr: 0.9944 ate: 0.8070 f1te:0.8049\n",
            "e:31 ltr: 0.5623 atr: 0.9944 ate: 0.8040 f1te:0.8024\n",
            "e:32 ltr: 0.5147 atr: 0.9972 ate: 0.8060 f1te:0.8048\n",
            "e:33 ltr: 0.4680 atr: 0.9972 ate: 0.8050 f1te:0.8042\n",
            "e:34 ltr: 0.4241 atr: 0.9972 ate: 0.7950 f1te:0.7955\n",
            "e:35 ltr: 0.3851 atr: 1.0000 ate: 0.7880 f1te:0.7896\n",
            "e:36 ltr: 0.3466 atr: 0.9972 ate: 0.7790 f1te:0.7810\n",
            "e:37 ltr: 0.3125 atr: 1.0000 ate: 0.7740 f1te:0.7767\n",
            "e:38 ltr: 0.2784 atr: 0.9972 ate: 0.7570 f1te:0.7607\n",
            "e:39 ltr: 0.2509 atr: 0.9972 ate: 0.7460 f1te:0.7501\n",
            "epoch:26 acc_max: 0.8090 f1_max: 0.8029\n"
          ]
        }
      ]
    },
    {
      "cell_type": "code",
      "source": [
        "\n",
        "# Plotting\n",
        "plt.figure(figsize=(6, 5))\n",
        "\n",
        "# Plot accuracy\n",
        "# plt.subplot(1, 2, 1)\n",
        "plt.plot(range(epochs), acc_tests, label='Accuracy', color='blue')\n",
        "plt.plot(range(epochs), macro_f1s, label='F1 Score', color='green')\n",
        "\n",
        "plt.xlabel('Epoch')\n",
        "plt.ylabel('Accuracy')\n",
        "plt.title(dataset + ' L/C ' + str(labelrate))\n",
        "plt.legend()\n",
        "\n",
        "\n",
        "plt.tight_layout()\n",
        "plt.show()"
      ],
      "metadata": {
        "colab": {
          "base_uri": "https://localhost:8080/",
          "height": 507
        },
        "outputId": "e57f4686-19ad-4145-ed72-6f6546a921e3",
        "id": "18EkZ0TRF67W"
      },
      "execution_count": null,
      "outputs": [
        {
          "output_type": "display_data",
          "data": {
            "text/plain": [
              "<Figure size 600x500 with 1 Axes>"
            ],
            "image/png": "[encoded data removed]"
          },
          "metadata": {}
        }
      ]
    },
    {
      "cell_type": "markdown",
      "source": [
        "# Structural only"
      ],
      "metadata": {
        "id": "dvoceGixF67W"
      }
    },
    {
      "cell_type": "code",
      "source": [
        "model = SGCN(nfeat = fdim,\n",
        "            nhid1 = nhid1,\n",
        "            nhid2 = nhid2,\n",
        "            nclass = class_num,\n",
        "            n = n,\n",
        "            dropout = dropout)"
      ],
      "metadata": {
        "id": "7gRpCqb7F67X"
      },
      "execution_count": null,
      "outputs": []
    },
    {
      "cell_type": "code",
      "source": [
        "\n",
        "cuda = torch.cuda.is_available()\n",
        "cuda"
      ],
      "metadata": {
        "colab": {
          "base_uri": "https://localhost:8080/"
        },
        "outputId": "b2ce64c7-bc76-42ab-aa2d-11b49b9755e5",
        "id": "l3Uhbqj9F67X"
      },
      "execution_count": null,
      "outputs": [
        {
          "output_type": "execute_result",
          "data": {
            "text/plain": [
              "True"
            ]
          },
          "metadata": {},
          "execution_count": 51
        }
      ]
    },
    {
      "cell_type": "code",
      "source": [
        "if cuda:\n",
        "    model.cuda()\n",
        "    features = features.cuda()\n",
        "    sadj = sadj.cuda()\n",
        "    fadj = fadj.cuda()\n",
        "    labels = labels.cuda()\n",
        "    idx_train = idx_train.cuda()\n",
        "    idx_test = idx_test.cuda()\n",
        "\n",
        "\n",
        "optimizer = optim.Adam(model.parameters(), lr=lr, weight_decay=weight_decay)\n",
        "\n"
      ],
      "metadata": {
        "id": "hd3TRkH8F67X"
      },
      "execution_count": null,
      "outputs": []
    },
    {
      "cell_type": "code",
      "source": [
        "acc_tests = []\n",
        "macro_f1s = []\n",
        "\n",
        "acc_max = 0\n",
        "f1_max = 0\n",
        "epoch_max = 0\n",
        "for epoch in range(epochs):\n",
        "    loss, acc_test, macro_f1, emb = train_s(model, epoch)\n",
        "    acc_tests.append(acc_test)\n",
        "    macro_f1s.append(macro_f1)\n",
        "    if acc_test >= acc_max:\n",
        "        acc_max = acc_test\n",
        "        f1_max = macro_f1\n",
        "        epoch_max = epoch\n",
        "print('epoch:{}'.format(epoch_max),\n",
        "        'acc_max: {:.4f}'.format(acc_max),\n",
        "        'f1_max: {:.4f}'.format(f1_max))\n"
      ],
      "metadata": {
        "colab": {
          "base_uri": "https://localhost:8080/"
        },
        "outputId": "4cf9a759-e124-4874-8360-47b1944e76fe",
        "id": "8Ih5xqY6F67X"
      },
      "execution_count": null,
      "outputs": [
        {
          "output_type": "stream",
          "name": "stdout",
          "text": [
            "e:0 ltr: 2.1990 atr: 0.1241 ate: 0.1570 f1te:0.0752\n",
            "e:1 ltr: 2.1919 atr: 0.1722 ate: 0.2360 f1te:0.1493\n",
            "e:2 ltr: 2.1845 atr: 0.2870 ate: 0.2870 f1te:0.1993\n",
            "e:3 ltr: 2.1767 atr: 0.3574 ate: 0.3090 f1te:0.2324\n",
            "e:4 ltr: 2.1693 atr: 0.4037 ate: 0.3400 f1te:0.2810\n",
            "e:5 ltr: 2.1612 atr: 0.4407 ate: 0.3870 f1te:0.3307\n",
            "e:6 ltr: 2.1522 atr: 0.4852 ate: 0.4300 f1te:0.3760\n",
            "e:7 ltr: 2.1430 atr: 0.5333 ate: 0.4530 f1te:0.3968\n",
            "e:8 ltr: 2.1321 atr: 0.5630 ate: 0.4610 f1te:0.3956\n",
            "e:9 ltr: 2.1197 atr: 0.5963 ate: 0.4680 f1te:0.4053\n",
            "e:10 ltr: 2.1064 atr: 0.6352 ate: 0.4840 f1te:0.4298\n",
            "e:11 ltr: 2.0917 atr: 0.6389 ate: 0.4910 f1te:0.4462\n",
            "e:12 ltr: 2.0737 atr: 0.6574 ate: 0.4950 f1te:0.4529\n",
            "e:13 ltr: 2.0541 atr: 0.6778 ate: 0.4950 f1te:0.4505\n",
            "e:14 ltr: 2.0324 atr: 0.6796 ate: 0.4940 f1te:0.4473\n",
            "e:15 ltr: 2.0075 atr: 0.6926 ate: 0.4940 f1te:0.4472\n",
            "e:16 ltr: 1.9825 atr: 0.6852 ate: 0.4970 f1te:0.4456\n",
            "e:17 ltr: 1.9511 atr: 0.6889 ate: 0.4990 f1te:0.4496\n",
            "e:18 ltr: 1.9194 atr: 0.6944 ate: 0.5080 f1te:0.4590\n",
            "e:19 ltr: 1.8843 atr: 0.7000 ate: 0.5260 f1te:0.4734\n",
            "e:20 ltr: 1.8443 atr: 0.7037 ate: 0.5460 f1te:0.4900\n",
            "e:21 ltr: 1.7992 atr: 0.7167 ate: 0.5710 f1te:0.5088\n",
            "e:22 ltr: 1.7539 atr: 0.7278 ate: 0.5930 f1te:0.5297\n",
            "e:23 ltr: 1.7048 atr: 0.7333 ate: 0.6130 f1te:0.5493\n",
            "e:24 ltr: 1.6514 atr: 0.7296 ate: 0.6260 f1te:0.5635\n",
            "e:25 ltr: 1.5967 atr: 0.7426 ate: 0.6340 f1te:0.5743\n",
            "e:26 ltr: 1.5417 atr: 0.7481 ate: 0.6560 f1te:0.6029\n",
            "e:27 ltr: 1.4846 atr: 0.7630 ate: 0.6670 f1te:0.6162\n",
            "e:28 ltr: 1.4211 atr: 0.7796 ate: 0.6850 f1te:0.6428\n",
            "e:29 ltr: 1.3644 atr: 0.8019 ate: 0.7040 f1te:0.6721\n",
            "e:30 ltr: 1.3084 atr: 0.8315 ate: 0.7190 f1te:0.6903\n",
            "e:31 ltr: 1.2485 atr: 0.8537 ate: 0.7260 f1te:0.7016\n",
            "e:32 ltr: 1.1894 atr: 0.8833 ate: 0.7540 f1te:0.7345\n",
            "e:33 ltr: 1.1341 atr: 0.8981 ate: 0.7850 f1te:0.7680\n",
            "e:34 ltr: 1.0799 atr: 0.9296 ate: 0.7990 f1te:0.7857\n",
            "e:35 ltr: 1.0229 atr: 0.9463 ate: 0.8170 f1te:0.8099\n",
            "e:36 ltr: 0.9723 atr: 0.9574 ate: 0.8260 f1te:0.8206\n",
            "e:37 ltr: 0.9210 atr: 0.9648 ate: 0.8340 f1te:0.8318\n",
            "e:38 ltr: 0.8726 atr: 0.9648 ate: 0.8440 f1te:0.8431\n",
            "e:39 ltr: 0.8280 atr: 0.9722 ate: 0.8420 f1te:0.8424\n",
            "epoch:38 acc_max: 0.8440 f1_max: 0.8431\n"
          ]
        }
      ]
    },
    {
      "cell_type": "code",
      "source": [
        "\n",
        "# Plotting\n",
        "plt.figure(figsize=(6, 5))\n",
        "\n",
        "# Plot accuracy\n",
        "# plt.subplot(1, 2, 1)\n",
        "plt.plot(range(epochs), acc_tests, label='Accuracy', color='blue')\n",
        "plt.plot(range(epochs), macro_f1s, label='F1 Score', color='green')\n",
        "\n",
        "plt.xlabel('Epoch')\n",
        "plt.ylabel('Accuracy')\n",
        "plt.title(dataset + ' L/C ' + str(labelrate) + 'w/o Feature')\n",
        "plt.legend()\n",
        "\n",
        "# # Plot F1 score\n",
        "# plt.subplot(1, 2, 2)\n",
        "# plt.plot(range(epochs), macro_f1s, label='Macro F1 Score', color='green')\n",
        "# plt.xlabel('Epoch')\n",
        "# plt.ylabel('Macro F1 Score')\n",
        "# plt.title('Macro F1 Score per Epoch')\n",
        "# plt.legend()\n",
        "\n",
        "plt.tight_layout()\n",
        "plt.show()"
      ],
      "metadata": {
        "colab": {
          "base_uri": "https://localhost:8080/",
          "height": 507
        },
        "outputId": "0221d60e-4d64-46e9-c729-9aed114330ee",
        "id": "uTH6ikbnF67X"
      },
      "execution_count": null,
      "outputs": [
        {
          "output_type": "display_data",
          "data": {
            "text/plain": [
              "<Figure size 600x500 with 1 Axes>"
            ],
            "image/png": "[encoded data removed]"
          },
          "metadata": {}
        }
      ]
    },
    {
      "cell_type": "code",
      "source": [
        "model = FGCN(nfeat = fdim,\n",
        "            nhid1 = nhid1,\n",
        "            nhid2 = nhid2,\n",
        "            nclass = class_num,\n",
        "            n = n,\n",
        "            dropout = dropout)"
      ],
      "metadata": {
        "id": "bcblQCsQF67Y"
      },
      "execution_count": null,
      "outputs": []
    },
    {
      "cell_type": "code",
      "source": [
        "\n",
        "cuda = torch.cuda.is_available()\n",
        "cuda"
      ],
      "metadata": {
        "colab": {
          "base_uri": "https://localhost:8080/"
        },
        "outputId": "9a430217-6406-449a-f14b-9c55567f70f4",
        "id": "m0U1Q0omF67Y"
      },
      "execution_count": null,
      "outputs": [
        {
          "output_type": "execute_result",
          "data": {
            "text/plain": [
              "True"
            ]
          },
          "metadata": {},
          "execution_count": 56
        }
      ]
    },
    {
      "cell_type": "code",
      "source": [
        "if cuda:\n",
        "    model.cuda()\n",
        "    features = features.cuda()\n",
        "    sadj = sadj.cuda()\n",
        "    fadj = fadj.cuda()\n",
        "    labels = labels.cuda()\n",
        "    idx_train = idx_train.cuda()\n",
        "    idx_test = idx_test.cuda()\n",
        "\n",
        "\n",
        "optimizer = optim.Adam(model.parameters(), lr=lr, weight_decay=weight_decay)\n",
        "\n"
      ],
      "metadata": {
        "id": "IWw3QWEBF67Y"
      },
      "execution_count": null,
      "outputs": []
    },
    {
      "cell_type": "code",
      "source": [
        "\n",
        "acc_tests = []\n",
        "macro_f1s = []\n",
        "\n",
        "acc_max = 0\n",
        "f1_max = 0\n",
        "epoch_max = 0\n",
        "for epoch in range(epochs):\n",
        "    loss, acc_test, macro_f1, emb = train_f(model, epoch)\n",
        "    acc_tests.append(acc_test)\n",
        "    macro_f1s.append(macro_f1)\n",
        "    if acc_test >= acc_max:\n",
        "        acc_max = acc_test\n",
        "        f1_max = macro_f1\n",
        "        epoch_max = epoch\n",
        "print('epoch:{}'.format(epoch_max),\n",
        "        'acc_max: {:.4f}'.format(acc_max),\n",
        "        'f1_max: {:.4f}'.format(f1_max))\n"
      ],
      "metadata": {
        "colab": {
          "base_uri": "https://localhost:8080/"
        },
        "outputId": "b8a2df5a-c6f9-4086-afc4-e500b59474e1",
        "id": "P1rJML48F67Y"
      },
      "execution_count": null,
      "outputs": [
        {
          "output_type": "stream",
          "name": "stdout",
          "text": [
            "e:0 ltr: 2.1994 atr: 0.1204 ate: 0.1220 f1te:0.0779\n",
            "e:1 ltr: 2.1779 atr: 0.2185 ate: 0.2900 f1te:0.2979\n",
            "e:2 ltr: 2.1560 atr: 0.4426 ate: 0.4490 f1te:0.4381\n",
            "e:3 ltr: 2.1351 atr: 0.6389 ate: 0.5460 f1te:0.5213\n",
            "e:4 ltr: 2.1127 atr: 0.7444 ate: 0.6160 f1te:0.5835\n",
            "e:5 ltr: 2.0904 atr: 0.8204 ate: 0.6540 f1te:0.6283\n",
            "e:6 ltr: 2.0649 atr: 0.8481 ate: 0.6720 f1te:0.6525\n",
            "e:7 ltr: 2.0385 atr: 0.8685 ate: 0.6780 f1te:0.6643\n",
            "e:8 ltr: 2.0101 atr: 0.8778 ate: 0.6900 f1te:0.6751\n",
            "e:9 ltr: 1.9780 atr: 0.8944 ate: 0.6990 f1te:0.6828\n",
            "e:10 ltr: 1.9439 atr: 0.9056 ate: 0.7100 f1te:0.6917\n",
            "e:11 ltr: 1.9085 atr: 0.9185 ate: 0.7230 f1te:0.7046\n",
            "e:12 ltr: 1.8707 atr: 0.9241 ate: 0.7370 f1te:0.7166\n",
            "e:13 ltr: 1.8265 atr: 0.9278 ate: 0.7400 f1te:0.7180\n",
            "e:14 ltr: 1.7810 atr: 0.9296 ate: 0.7440 f1te:0.7214\n",
            "e:15 ltr: 1.7324 atr: 0.9333 ate: 0.7530 f1te:0.7315\n",
            "e:16 ltr: 1.6782 atr: 0.9389 ate: 0.7580 f1te:0.7366\n",
            "e:17 ltr: 1.6252 atr: 0.9444 ate: 0.7650 f1te:0.7445\n",
            "e:18 ltr: 1.5636 atr: 0.9370 ate: 0.7710 f1te:0.7525\n",
            "e:19 ltr: 1.5009 atr: 0.9370 ate: 0.7770 f1te:0.7601\n",
            "e:20 ltr: 1.4385 atr: 0.9389 ate: 0.7780 f1te:0.7615\n",
            "e:21 ltr: 1.3697 atr: 0.9481 ate: 0.7800 f1te:0.7647\n",
            "e:22 ltr: 1.3026 atr: 0.9407 ate: 0.7830 f1te:0.7682\n",
            "e:23 ltr: 1.2380 atr: 0.9500 ate: 0.7900 f1te:0.7767\n",
            "e:24 ltr: 1.1689 atr: 0.9500 ate: 0.7920 f1te:0.7789\n",
            "e:25 ltr: 1.1075 atr: 0.9481 ate: 0.7980 f1te:0.7858\n",
            "e:26 ltr: 1.0423 atr: 0.9519 ate: 0.8040 f1te:0.7926\n",
            "e:27 ltr: 0.9828 atr: 0.9593 ate: 0.8070 f1te:0.7963\n",
            "e:28 ltr: 0.9214 atr: 0.9537 ate: 0.8140 f1te:0.8051\n",
            "e:29 ltr: 0.8655 atr: 0.9667 ate: 0.8150 f1te:0.8069\n",
            "e:30 ltr: 0.8089 atr: 0.9648 ate: 0.8170 f1te:0.8101\n",
            "e:31 ltr: 0.7529 atr: 0.9704 ate: 0.8170 f1te:0.8102\n",
            "e:32 ltr: 0.7037 atr: 0.9704 ate: 0.8210 f1te:0.8154\n",
            "e:33 ltr: 0.6573 atr: 0.9759 ate: 0.8210 f1te:0.8154\n",
            "e:34 ltr: 0.6123 atr: 0.9722 ate: 0.8240 f1te:0.8182\n",
            "e:35 ltr: 0.5687 atr: 0.9759 ate: 0.8280 f1te:0.8230\n",
            "e:36 ltr: 0.5266 atr: 0.9759 ate: 0.8260 f1te:0.8213\n",
            "e:37 ltr: 0.4865 atr: 0.9796 ate: 0.8210 f1te:0.8170\n",
            "e:38 ltr: 0.4524 atr: 0.9815 ate: 0.8220 f1te:0.8186\n",
            "e:39 ltr: 0.4192 atr: 0.9870 ate: 0.8240 f1te:0.8209\n",
            "epoch:35 acc_max: 0.8280 f1_max: 0.8230\n"
          ]
        }
      ]
    },
    {
      "cell_type": "code",
      "source": [
        "\n",
        "# Plotting\n",
        "plt.figure(figsize=(6, 5))\n",
        "\n",
        "# Plot accuracy\n",
        "# plt.subplot(1, 2, 1)\n",
        "plt.plot(range(epochs), acc_tests, label='Accuracy', color='blue')\n",
        "plt.plot(range(epochs), macro_f1s, label='F1 Score', color='green')\n",
        "\n",
        "plt.xlabel('Epoch')\n",
        "plt.ylabel('Accuracy')\n",
        "plt.title(dataset + ' L/C ' + str(labelrate))\n",
        "plt.legend()\n",
        "\n",
        "# # Plot F1 score\n",
        "# plt.subplot(1, 2, 2)\n",
        "# plt.plot(range(epochs), macro_f1s, label='Macro F1 Score', color='green')\n",
        "# plt.xlabel('Epoch')\n",
        "# plt.ylabel('Macro F1 Score')\n",
        "# plt.title('Macro F1 Score per Epoch')\n",
        "# plt.legend()\n",
        "\n",
        "plt.tight_layout()\n",
        "plt.show()"
      ],
      "metadata": {
        "colab": {
          "base_uri": "https://localhost:8080/",
          "height": 507
        },
        "outputId": "d15bb8fa-3eaa-49cf-e965-ceed691d6a30",
        "id": "f_2r4MavF67Z"
      },
      "execution_count": null,
      "outputs": [
        {
          "output_type": "display_data",
          "data": {
            "text/plain": [
              "<Figure size 600x500 with 1 Axes>"
            ],
            "image/png": "[encoded data removed]"
          },
          "metadata": {}
        }
      ]
    },
    {
      "cell_type": "markdown",
      "source": [
        "# 60"
      ],
      "metadata": {
        "id": "Xb9o3-mFGhz1"
      }
    },
    {
      "cell_type": "code",
      "source": [],
      "metadata": {
        "id": "cGbO3cbZGixz"
      },
      "execution_count": null,
      "outputs": []
    },
    {
      "cell_type": "code",
      "source": [
        "dataset = 'flickr'\n",
        "labelrate = 60\n",
        "data_path = flickr_path"
      ],
      "metadata": {
        "id": "oA9w--fdGq8h"
      },
      "execution_count": null,
      "outputs": []
    },
    {
      "cell_type": "code",
      "source": [
        "# 60\n",
        "epochs = 40\n",
        "lr = 0.0005\n",
        "weight_decay = 5e-4\n",
        "k = 5\n",
        "nhid1 = 512\n",
        "nhid2 = 128\n",
        "dropout = 0.5\n",
        "beta = 1e-10\n",
        "theta = 0.01\n",
        "no_cuda = False\n",
        "no_seed = False\n",
        "seed = 123\n",
        "\n",
        "\n",
        "n = 7575\n",
        "fdim = 12047\n",
        "class_num = 9\n",
        "structgraph_path = data_path + dataset + '.edge'\n",
        "featuregraph_path = data_path + 'knn/c'\n",
        "feature_path = data_path + dataset + '.feature'\n",
        "label_path = data_path + dataset + '.label'\n",
        "test_path = data_path + 'test' + str(labelrate) + '.txt'\n",
        "train_path = data_path + 'train' + str(labelrate) + '.txt'\n"
      ],
      "metadata": {
        "id": "qD-CxRCmGq8h"
      },
      "execution_count": null,
      "outputs": []
    },
    {
      "cell_type": "code",
      "source": [
        "sadj, fadj = load_graph(labelrate)\n",
        "features, labels, idx_train, idx_test = load_data()\n"
      ],
      "metadata": {
        "id": "-64FRUAgGq8i"
      },
      "execution_count": null,
      "outputs": []
    },
    {
      "cell_type": "markdown",
      "source": [
        "# S, F"
      ],
      "metadata": {
        "id": "IEZpfikAW_yJ"
      }
    },
    {
      "cell_type": "code",
      "source": [
        "model = sfGCN(nfeat = fdim,\n",
        "            nhid1 = nhid1,\n",
        "            nhid2 = nhid2,\n",
        "            nclass = class_num,\n",
        "            n = n,\n",
        "            dropout = dropout)"
      ],
      "metadata": {
        "id": "uEY3FBVUW_yU"
      },
      "execution_count": null,
      "outputs": []
    },
    {
      "cell_type": "code",
      "source": [
        "\n",
        "cuda = torch.cuda.is_available()\n",
        "cuda"
      ],
      "metadata": {
        "colab": {
          "base_uri": "https://localhost:8080/"
        },
        "outputId": "262fbb39-e123-4fbc-c6af-a3b75e9b3dd2",
        "id": "2iwNTK93W_yU"
      },
      "execution_count": null,
      "outputs": [
        {
          "output_type": "execute_result",
          "data": {
            "text/plain": [
              "True"
            ]
          },
          "metadata": {},
          "execution_count": 91
        }
      ]
    },
    {
      "cell_type": "code",
      "source": [
        "if cuda:\n",
        "    model.cuda()\n",
        "    features = features.cuda()\n",
        "    sadj = sadj.cuda()\n",
        "    fadj = fadj.cuda()\n",
        "    labels = labels.cuda()\n",
        "    idx_train = idx_train.cuda()\n",
        "    idx_test = idx_test.cuda()\n",
        "\n",
        "\n",
        "optimizer = optim.Adam(model.parameters(), lr=lr, weight_decay=weight_decay)\n",
        "\n"
      ],
      "metadata": {
        "id": "8iB32njtW_yV"
      },
      "execution_count": null,
      "outputs": []
    },
    {
      "cell_type": "code",
      "source": [
        "\n",
        "\n",
        "acc_max = 0\n",
        "f1_max = 0\n",
        "epoch_max = 0\n",
        "for epoch in range(epochs):\n",
        "    loss, acc_test, macro_f1, emb = train_sf(model, epoch)\n",
        "    if acc_test >= acc_max:\n",
        "        acc_max = acc_test\n",
        "        f1_max = macro_f1\n",
        "        epoch_max = epoch\n",
        "print('epoch:{}'.format(epoch_max),\n",
        "        'acc_max: {:.4f}'.format(acc_max),\n",
        "        'f1_max: {:.4f}'.format(f1_max))\n"
      ],
      "metadata": {
        "colab": {
          "base_uri": "https://localhost:8080/"
        },
        "outputId": "0781a710-f319-42a3-f7e2-64fc40ab9066",
        "id": "4xDvjzD8W_yV"
      },
      "execution_count": null,
      "outputs": [
        {
          "output_type": "stream",
          "name": "stdout",
          "text": [
            "e:0 ltr: 2.1978 atr: 0.1111 ate: 0.1290 f1te:0.0500\n",
            "e:1 ltr: 2.1813 atr: 0.1463 ate: 0.1530 f1te:0.0847\n",
            "e:2 ltr: 2.1654 atr: 0.2111 ate: 0.2120 f1te:0.1647\n",
            "e:3 ltr: 2.1473 atr: 0.3148 ate: 0.2550 f1te:0.2176\n",
            "e:4 ltr: 2.1305 atr: 0.3852 ate: 0.3190 f1te:0.2984\n",
            "e:5 ltr: 2.1107 atr: 0.4852 ate: 0.3890 f1te:0.3847\n",
            "e:6 ltr: 2.0896 atr: 0.5963 ate: 0.4540 f1te:0.4555\n",
            "e:7 ltr: 2.0660 atr: 0.7037 ate: 0.5220 f1te:0.5251\n",
            "e:8 ltr: 2.0412 atr: 0.7519 ate: 0.5900 f1te:0.5865\n",
            "e:9 ltr: 2.0120 atr: 0.7926 ate: 0.6420 f1te:0.6349\n",
            "e:10 ltr: 1.9816 atr: 0.8574 ate: 0.6740 f1te:0.6648\n",
            "e:11 ltr: 1.9465 atr: 0.8926 ate: 0.7100 f1te:0.6979\n",
            "e:12 ltr: 1.9093 atr: 0.9130 ate: 0.7380 f1te:0.7229\n",
            "e:13 ltr: 1.8667 atr: 0.9370 ate: 0.7570 f1te:0.7448\n",
            "e:14 ltr: 1.8204 atr: 0.9407 ate: 0.7820 f1te:0.7713\n",
            "e:15 ltr: 1.7683 atr: 0.9444 ate: 0.7900 f1te:0.7795\n",
            "e:16 ltr: 1.7140 atr: 0.9426 ate: 0.7960 f1te:0.7862\n",
            "e:17 ltr: 1.6492 atr: 0.9519 ate: 0.7980 f1te:0.7888\n",
            "e:18 ltr: 1.5847 atr: 0.9593 ate: 0.7980 f1te:0.7897\n",
            "e:19 ltr: 1.5146 atr: 0.9500 ate: 0.7960 f1te:0.7876\n",
            "e:20 ltr: 1.4409 atr: 0.9537 ate: 0.7910 f1te:0.7829\n",
            "e:21 ltr: 1.3615 atr: 0.9556 ate: 0.7900 f1te:0.7816\n",
            "e:22 ltr: 1.2896 atr: 0.9500 ate: 0.7920 f1te:0.7835\n",
            "e:23 ltr: 1.2139 atr: 0.9481 ate: 0.7970 f1te:0.7880\n",
            "e:24 ltr: 1.1352 atr: 0.9537 ate: 0.8010 f1te:0.7923\n",
            "e:25 ltr: 1.0647 atr: 0.9519 ate: 0.8080 f1te:0.7989\n",
            "e:26 ltr: 0.9972 atr: 0.9519 ate: 0.8130 f1te:0.8048\n",
            "e:27 ltr: 0.9323 atr: 0.9500 ate: 0.8130 f1te:0.8052\n",
            "e:28 ltr: 0.8679 atr: 0.9574 ate: 0.8170 f1te:0.8092\n",
            "e:29 ltr: 0.8109 atr: 0.9519 ate: 0.8190 f1te:0.8114\n",
            "e:30 ltr: 0.7531 atr: 0.9574 ate: 0.8180 f1te:0.8105\n",
            "e:31 ltr: 0.7015 atr: 0.9574 ate: 0.8190 f1te:0.8127\n",
            "e:32 ltr: 0.6540 atr: 0.9630 ate: 0.8200 f1te:0.8137\n",
            "e:33 ltr: 0.6061 atr: 0.9685 ate: 0.8180 f1te:0.8131\n",
            "e:34 ltr: 0.5634 atr: 0.9704 ate: 0.8200 f1te:0.8155\n",
            "e:35 ltr: 0.5244 atr: 0.9704 ate: 0.8240 f1te:0.8204\n",
            "e:36 ltr: 0.4805 atr: 0.9741 ate: 0.8240 f1te:0.8216\n",
            "e:37 ltr: 0.4468 atr: 0.9796 ate: 0.8230 f1te:0.8212\n",
            "e:38 ltr: 0.4102 atr: 0.9796 ate: 0.8240 f1te:0.8221\n",
            "e:39 ltr: 0.3832 atr: 0.9778 ate: 0.8210 f1te:0.8192\n",
            "epoch:38 acc_max: 0.8240 f1_max: 0.8221\n"
          ]
        }
      ]
    },
    {
      "cell_type": "markdown",
      "source": [
        "# All"
      ],
      "metadata": {
        "id": "7i65i3FGXB-g"
      }
    },
    {
      "cell_type": "code",
      "source": [
        "model = SFGCN(nfeat = fdim,\n",
        "            nhid1 = nhid1,\n",
        "            nhid2 = nhid2,\n",
        "            nclass = class_num,\n",
        "            n = n,\n",
        "            dropout = dropout)"
      ],
      "metadata": {
        "id": "MVVzPKbWGq8i"
      },
      "execution_count": null,
      "outputs": []
    },
    {
      "cell_type": "code",
      "source": [
        "\n",
        "cuda = torch.cuda.is_available()\n",
        "cuda"
      ],
      "metadata": {
        "colab": {
          "base_uri": "https://localhost:8080/"
        },
        "outputId": "3604e8de-7fa5-49ca-d4c6-9a31c7010fae",
        "id": "w5hhf9-aGq8i"
      },
      "execution_count": null,
      "outputs": [
        {
          "output_type": "execute_result",
          "data": {
            "text/plain": [
              "True"
            ]
          },
          "metadata": {},
          "execution_count": 64
        }
      ]
    },
    {
      "cell_type": "code",
      "source": [
        "if cuda:\n",
        "    model.cuda()\n",
        "    features = features.cuda()\n",
        "    sadj = sadj.cuda()\n",
        "    fadj = fadj.cuda()\n",
        "    labels = labels.cuda()\n",
        "    idx_train = idx_train.cuda()\n",
        "    idx_test = idx_test.cuda()\n",
        "\n",
        "\n",
        "optimizer = optim.Adam(model.parameters(), lr=lr, weight_decay=weight_decay)\n",
        "\n"
      ],
      "metadata": {
        "id": "7Kmu50D9Gq8i"
      },
      "execution_count": null,
      "outputs": []
    },
    {
      "cell_type": "code",
      "source": [
        "\n",
        "acc_tests = []\n",
        "macro_f1s = []\n",
        "\n",
        "acc_max = 0\n",
        "f1_max = 0\n",
        "epoch_max = 0\n",
        "for epoch in range(epochs):\n",
        "    loss, acc_test, macro_f1, emb = train(model, epoch)\n",
        "    acc_tests.append(acc_test)\n",
        "    macro_f1s.append(macro_f1)\n",
        "    if acc_test >= acc_max:\n",
        "        acc_max = acc_test\n",
        "        f1_max = macro_f1\n",
        "        epoch_max = epoch\n",
        "print('epoch:{}'.format(epoch_max),\n",
        "        'acc_max: {:.4f}'.format(acc_max),\n",
        "        'f1_max: {:.4f}'.format(f1_max))\n"
      ],
      "metadata": {
        "colab": {
          "base_uri": "https://localhost:8080/"
        },
        "outputId": "8d4eafca-127e-42e8-8021-d1e594509c00",
        "id": "n2Vt4bszGq8i"
      },
      "execution_count": null,
      "outputs": [
        {
          "output_type": "stream",
          "name": "stdout",
          "text": [
            "e:0 ltr: 2.1972 atr: 0.1315 ate: 0.1690 f1te:0.1189\n",
            "e:1 ltr: 2.1855 atr: 0.2574 ate: 0.2570 f1te:0.1867\n",
            "e:2 ltr: 2.1736 atr: 0.3426 ate: 0.3220 f1te:0.2481\n",
            "e:3 ltr: 2.1621 atr: 0.4259 ate: 0.3530 f1te:0.2945\n",
            "e:4 ltr: 2.1493 atr: 0.5056 ate: 0.3870 f1te:0.3458\n",
            "e:5 ltr: 2.1361 atr: 0.5741 ate: 0.4170 f1te:0.3854\n",
            "e:6 ltr: 2.1218 atr: 0.6407 ate: 0.4690 f1te:0.4515\n",
            "e:7 ltr: 2.1066 atr: 0.7093 ate: 0.5080 f1te:0.4885\n",
            "e:8 ltr: 2.0905 atr: 0.7426 ate: 0.5480 f1te:0.5246\n",
            "e:9 ltr: 2.0720 atr: 0.7667 ate: 0.5830 f1te:0.5597\n",
            "e:10 ltr: 2.0524 atr: 0.7907 ate: 0.6060 f1te:0.5827\n",
            "e:11 ltr: 2.0293 atr: 0.8130 ate: 0.6350 f1te:0.6125\n",
            "e:12 ltr: 2.0040 atr: 0.8204 ate: 0.6500 f1te:0.6306\n",
            "e:13 ltr: 1.9796 atr: 0.8333 ate: 0.6670 f1te:0.6467\n",
            "e:14 ltr: 1.9506 atr: 0.8537 ate: 0.6850 f1te:0.6662\n",
            "e:15 ltr: 1.9193 atr: 0.8630 ate: 0.7020 f1te:0.6844\n",
            "e:16 ltr: 1.8815 atr: 0.9019 ate: 0.7180 f1te:0.6992\n",
            "e:17 ltr: 1.8443 atr: 0.9000 ate: 0.7340 f1te:0.7156\n",
            "e:18 ltr: 1.8011 atr: 0.9111 ate: 0.7470 f1te:0.7308\n",
            "e:19 ltr: 1.7510 atr: 0.9259 ate: 0.7540 f1te:0.7370\n",
            "e:20 ltr: 1.6992 atr: 0.9259 ate: 0.7630 f1te:0.7449\n",
            "e:21 ltr: 1.6388 atr: 0.9296 ate: 0.7690 f1te:0.7514\n",
            "e:22 ltr: 1.5763 atr: 0.9315 ate: 0.7740 f1te:0.7575\n",
            "e:23 ltr: 1.5067 atr: 0.9333 ate: 0.7840 f1te:0.7695\n",
            "e:24 ltr: 1.4367 atr: 0.9352 ate: 0.7880 f1te:0.7742\n",
            "e:25 ltr: 1.3647 atr: 0.9370 ate: 0.7880 f1te:0.7740\n",
            "e:26 ltr: 1.2893 atr: 0.9389 ate: 0.7920 f1te:0.7783\n",
            "e:27 ltr: 1.2147 atr: 0.9389 ate: 0.7980 f1te:0.7858\n",
            "e:28 ltr: 1.1442 atr: 0.9389 ate: 0.7980 f1te:0.7864\n",
            "e:29 ltr: 1.0778 atr: 0.9333 ate: 0.8030 f1te:0.7922\n",
            "e:30 ltr: 1.0086 atr: 0.9500 ate: 0.8050 f1te:0.7956\n",
            "e:31 ltr: 0.9444 atr: 0.9463 ate: 0.8060 f1te:0.7973\n",
            "e:32 ltr: 0.8810 atr: 0.9463 ate: 0.8110 f1te:0.8035\n",
            "e:33 ltr: 0.8222 atr: 0.9574 ate: 0.8120 f1te:0.8047\n",
            "e:34 ltr: 0.7687 atr: 0.9556 ate: 0.8210 f1te:0.8150\n",
            "e:35 ltr: 0.7153 atr: 0.9648 ate: 0.8210 f1te:0.8151\n",
            "e:36 ltr: 0.6651 atr: 0.9704 ate: 0.8250 f1te:0.8197\n",
            "e:37 ltr: 0.6169 atr: 0.9704 ate: 0.8240 f1te:0.8194\n",
            "e:38 ltr: 0.5765 atr: 0.9741 ate: 0.8230 f1te:0.8189\n",
            "e:39 ltr: 0.5322 atr: 0.9704 ate: 0.8240 f1te:0.8205\n",
            "epoch:36 acc_max: 0.8250 f1_max: 0.8197\n"
          ]
        }
      ]
    },
    {
      "cell_type": "code",
      "source": [
        "\n",
        "# Plotting\n",
        "plt.figure(figsize=(6, 5))\n",
        "\n",
        "# Plot accuracy\n",
        "# plt.subplot(1, 2, 1)\n",
        "plt.plot(range(epochs), acc_tests, label='Accuracy', color='blue')\n",
        "plt.plot(range(epochs), macro_f1s, label='F1 Score', color='green')\n",
        "\n",
        "plt.xlabel('Epoch')\n",
        "plt.ylabel('Accuracy')\n",
        "plt.title(dataset + ' L/C ' + str(labelrate))\n",
        "plt.legend()\n",
        "\n",
        "\n",
        "plt.tight_layout()\n",
        "plt.show()"
      ],
      "metadata": {
        "colab": {
          "base_uri": "https://localhost:8080/",
          "height": 507
        },
        "outputId": "5ba69b3a-b30e-4175-e5c6-f50c62617e6d",
        "id": "77uXIyJZGq8j"
      },
      "execution_count": null,
      "outputs": [
        {
          "output_type": "display_data",
          "data": {
            "text/plain": [
              "<Figure size 600x500 with 1 Axes>"
            ],
            "image/png": "[encoded data removed]"
          },
          "metadata": {}
        }
      ]
    },
    {
      "cell_type": "markdown",
      "source": [
        "# Structural only"
      ],
      "metadata": {
        "id": "CO3x_a7PGq8j"
      }
    },
    {
      "cell_type": "code",
      "source": [
        "model = SGCN(nfeat = fdim,\n",
        "            nhid1 = nhid1,\n",
        "            nhid2 = nhid2,\n",
        "            nclass = class_num,\n",
        "            n = n,\n",
        "            dropout = dropout)"
      ],
      "metadata": {
        "id": "KtjkQF6_Gq8j"
      },
      "execution_count": null,
      "outputs": []
    },
    {
      "cell_type": "code",
      "source": [
        "\n",
        "cuda = torch.cuda.is_available()\n",
        "cuda"
      ],
      "metadata": {
        "colab": {
          "base_uri": "https://localhost:8080/"
        },
        "outputId": "f3b33f4b-2060-4c9c-e344-7554c78ee0d3",
        "id": "tH2F9QVDGq8j"
      },
      "execution_count": null,
      "outputs": [
        {
          "output_type": "execute_result",
          "data": {
            "text/plain": [
              "True"
            ]
          },
          "metadata": {},
          "execution_count": 69
        }
      ]
    },
    {
      "cell_type": "code",
      "source": [
        "if cuda:\n",
        "    model.cuda()\n",
        "    features = features.cuda()\n",
        "    sadj = sadj.cuda()\n",
        "    fadj = fadj.cuda()\n",
        "    labels = labels.cuda()\n",
        "    idx_train = idx_train.cuda()\n",
        "    idx_test = idx_test.cuda()\n",
        "\n",
        "\n",
        "optimizer = optim.Adam(model.parameters(), lr=lr, weight_decay=weight_decay)\n",
        "\n"
      ],
      "metadata": {
        "id": "7Tt5vtt6Gq8k"
      },
      "execution_count": null,
      "outputs": []
    },
    {
      "cell_type": "code",
      "source": [
        "acc_tests = []\n",
        "macro_f1s = []\n",
        "\n",
        "acc_max = 0\n",
        "f1_max = 0\n",
        "epoch_max = 0\n",
        "for epoch in range(epochs):\n",
        "    loss, acc_test, macro_f1, emb = train_s(model, epoch)\n",
        "    acc_tests.append(acc_test)\n",
        "    macro_f1s.append(macro_f1)\n",
        "    if acc_test >= acc_max:\n",
        "        acc_max = acc_test\n",
        "        f1_max = macro_f1\n",
        "        epoch_max = epoch\n",
        "print('epoch:{}'.format(epoch_max),\n",
        "        'acc_max: {:.4f}'.format(acc_max),\n",
        "        'f1_max: {:.4f}'.format(f1_max))\n"
      ],
      "metadata": {
        "colab": {
          "base_uri": "https://localhost:8080/"
        },
        "outputId": "6fcc8fcd-828a-41f9-f255-20923ea1a8e6",
        "id": "fVOF7XEJGq8k"
      },
      "execution_count": null,
      "outputs": [
        {
          "output_type": "stream",
          "name": "stdout",
          "text": [
            "e:0 ltr: 2.1989 atr: 0.1093 ate: 0.0940 f1te:0.0208\n",
            "e:1 ltr: 2.1917 atr: 0.1130 ate: 0.1140 f1te:0.0557\n",
            "e:2 ltr: 2.1839 atr: 0.1722 ate: 0.2120 f1te:0.1733\n",
            "e:3 ltr: 2.1768 atr: 0.3185 ate: 0.3890 f1te:0.3450\n",
            "e:4 ltr: 2.1699 atr: 0.5259 ate: 0.5100 f1te:0.4848\n",
            "e:5 ltr: 2.1615 atr: 0.6611 ate: 0.5520 f1te:0.5170\n",
            "e:6 ltr: 2.1530 atr: 0.7204 ate: 0.5580 f1te:0.5107\n",
            "e:7 ltr: 2.1441 atr: 0.7111 ate: 0.5130 f1te:0.4627\n",
            "e:8 ltr: 2.1346 atr: 0.7259 ate: 0.4860 f1te:0.4425\n",
            "e:9 ltr: 2.1226 atr: 0.6889 ate: 0.4680 f1te:0.4237\n",
            "e:10 ltr: 2.1103 atr: 0.6648 ate: 0.4570 f1te:0.4129\n",
            "e:11 ltr: 2.0957 atr: 0.6426 ate: 0.4530 f1te:0.4073\n",
            "e:12 ltr: 2.0811 atr: 0.6296 ate: 0.4600 f1te:0.4166\n",
            "e:13 ltr: 2.0635 atr: 0.6426 ate: 0.4690 f1te:0.4265\n",
            "e:14 ltr: 2.0432 atr: 0.6463 ate: 0.4700 f1te:0.4279\n",
            "e:15 ltr: 2.0214 atr: 0.6611 ate: 0.4780 f1te:0.4336\n",
            "e:16 ltr: 1.9952 atr: 0.6611 ate: 0.4860 f1te:0.4392\n",
            "e:17 ltr: 1.9698 atr: 0.6704 ate: 0.5030 f1te:0.4541\n",
            "e:18 ltr: 1.9410 atr: 0.6778 ate: 0.5190 f1te:0.4692\n",
            "e:19 ltr: 1.9061 atr: 0.6870 ate: 0.5320 f1te:0.4782\n",
            "e:20 ltr: 1.8713 atr: 0.7111 ate: 0.5560 f1te:0.5007\n",
            "e:21 ltr: 1.8307 atr: 0.7241 ate: 0.5690 f1te:0.5119\n",
            "e:22 ltr: 1.7870 atr: 0.7315 ate: 0.6010 f1te:0.5428\n",
            "e:23 ltr: 1.7419 atr: 0.7574 ate: 0.6310 f1te:0.5762\n",
            "e:24 ltr: 1.6918 atr: 0.7667 ate: 0.6480 f1te:0.5900\n",
            "e:25 ltr: 1.6399 atr: 0.7815 ate: 0.6690 f1te:0.6145\n",
            "e:26 ltr: 1.5856 atr: 0.7907 ate: 0.6880 f1te:0.6386\n",
            "e:27 ltr: 1.5319 atr: 0.8019 ate: 0.6990 f1te:0.6536\n",
            "e:28 ltr: 1.4719 atr: 0.8148 ate: 0.7140 f1te:0.6720\n",
            "e:29 ltr: 1.4120 atr: 0.8278 ate: 0.7170 f1te:0.6754\n",
            "e:30 ltr: 1.3530 atr: 0.8370 ate: 0.7230 f1te:0.6817\n",
            "e:31 ltr: 1.3012 atr: 0.8444 ate: 0.7340 f1te:0.6968\n",
            "e:32 ltr: 1.2449 atr: 0.8481 ate: 0.7410 f1te:0.7096\n",
            "e:33 ltr: 1.1820 atr: 0.8556 ate: 0.7470 f1te:0.7223\n",
            "e:34 ltr: 1.1276 atr: 0.8648 ate: 0.7480 f1te:0.7271\n",
            "e:35 ltr: 1.0716 atr: 0.8741 ate: 0.7560 f1te:0.7397\n",
            "e:36 ltr: 1.0218 atr: 0.8870 ate: 0.7580 f1te:0.7450\n",
            "e:37 ltr: 0.9663 atr: 0.8870 ate: 0.7680 f1te:0.7569\n",
            "e:38 ltr: 0.9177 atr: 0.9093 ate: 0.7750 f1te:0.7668\n",
            "e:39 ltr: 0.8645 atr: 0.9352 ate: 0.7900 f1te:0.7851\n",
            "epoch:39 acc_max: 0.7900 f1_max: 0.7851\n"
          ]
        }
      ]
    },
    {
      "cell_type": "code",
      "source": [
        "\n",
        "# Plotting\n",
        "plt.figure(figsize=(6, 5))\n",
        "\n",
        "# Plot accuracy\n",
        "# plt.subplot(1, 2, 1)\n",
        "plt.plot(range(epochs), acc_tests, label='Accuracy', color='blue')\n",
        "plt.plot(range(epochs), macro_f1s, label='F1 Score', color='green')\n",
        "\n",
        "plt.xlabel('Epoch')\n",
        "plt.ylabel('Accuracy')\n",
        "plt.title(dataset + ' L/C ' + str(labelrate) + 'w/o Feature')\n",
        "plt.legend()\n",
        "\n",
        "# # Plot F1 score\n",
        "# plt.subplot(1, 2, 2)\n",
        "# plt.plot(range(epochs), macro_f1s, label='Macro F1 Score', color='green')\n",
        "# plt.xlabel('Epoch')\n",
        "# plt.ylabel('Macro F1 Score')\n",
        "# plt.title('Macro F1 Score per Epoch')\n",
        "# plt.legend()\n",
        "\n",
        "plt.tight_layout()\n",
        "plt.show()"
      ],
      "metadata": {
        "colab": {
          "base_uri": "https://localhost:8080/",
          "height": 507
        },
        "outputId": "74f43501-33a9-48f9-9953-d0f812b09ed6",
        "id": "7PgyxWDBGq8k"
      },
      "execution_count": null,
      "outputs": [
        {
          "output_type": "display_data",
          "data": {
            "text/plain": [
              "<Figure size 600x500 with 1 Axes>"
            ],
            "image/png": "[encoded data removed]"
          },
          "metadata": {}
        }
      ]
    },
    {
      "cell_type": "code",
      "source": [
        "model = FGCN(nfeat = fdim,\n",
        "            nhid1 = nhid1,\n",
        "            nhid2 = nhid2,\n",
        "            nclass = class_num,\n",
        "            n = n,\n",
        "            dropout = dropout)"
      ],
      "metadata": {
        "id": "SrzLGn6-Gq8k"
      },
      "execution_count": null,
      "outputs": []
    },
    {
      "cell_type": "code",
      "source": [
        "\n",
        "cuda = torch.cuda.is_available()\n",
        "cuda"
      ],
      "metadata": {
        "colab": {
          "base_uri": "https://localhost:8080/"
        },
        "outputId": "bcb69cc9-8bf3-4250-8a0e-4d62fa48106b",
        "id": "qX8qYEifGq8k"
      },
      "execution_count": null,
      "outputs": [
        {
          "output_type": "execute_result",
          "data": {
            "text/plain": [
              "True"
            ]
          },
          "metadata": {},
          "execution_count": 74
        }
      ]
    },
    {
      "cell_type": "code",
      "source": [
        "if cuda:\n",
        "    model.cuda()\n",
        "    features = features.cuda()\n",
        "    sadj = sadj.cuda()\n",
        "    fadj = fadj.cuda()\n",
        "    labels = labels.cuda()\n",
        "    idx_train = idx_train.cuda()\n",
        "    idx_test = idx_test.cuda()\n",
        "\n",
        "\n",
        "optimizer = optim.Adam(model.parameters(), lr=lr, weight_decay=weight_decay)\n",
        "\n"
      ],
      "metadata": {
        "id": "ZrVHd-B-Gq8l"
      },
      "execution_count": null,
      "outputs": []
    },
    {
      "cell_type": "code",
      "source": [
        "\n",
        "acc_tests = []\n",
        "macro_f1s = []\n",
        "\n",
        "acc_max = 0\n",
        "f1_max = 0\n",
        "epoch_max = 0\n",
        "for epoch in range(epochs):\n",
        "    loss, acc_test, macro_f1, emb = train_f(model, epoch)\n",
        "    acc_tests.append(acc_test)\n",
        "    macro_f1s.append(macro_f1)\n",
        "    if acc_test >= acc_max:\n",
        "        acc_max = acc_test\n",
        "        f1_max = macro_f1\n",
        "        epoch_max = epoch\n",
        "print('epoch:{}'.format(epoch_max),\n",
        "        'acc_max: {:.4f}'.format(acc_max),\n",
        "        'f1_max: {:.4f}'.format(f1_max))\n"
      ],
      "metadata": {
        "colab": {
          "base_uri": "https://localhost:8080/"
        },
        "outputId": "8e406b58-76bc-4ac6-9c8a-26f32e39ed56",
        "id": "RL22FsdRGq8l"
      },
      "execution_count": null,
      "outputs": [
        {
          "output_type": "stream",
          "name": "stdout",
          "text": [
            "e:0 ltr: 2.2000 atr: 0.0963 ate: 0.2940 f1te:0.2240\n",
            "e:1 ltr: 2.1759 atr: 0.3593 ate: 0.3810 f1te:0.3027\n",
            "e:2 ltr: 2.1536 atr: 0.4889 ate: 0.4440 f1te:0.3728\n",
            "e:3 ltr: 2.1318 atr: 0.5796 ate: 0.5000 f1te:0.4362\n",
            "e:4 ltr: 2.1074 atr: 0.6630 ate: 0.5410 f1te:0.4828\n",
            "e:5 ltr: 2.0845 atr: 0.6944 ate: 0.5550 f1te:0.5024\n",
            "e:6 ltr: 2.0582 atr: 0.7333 ate: 0.5810 f1te:0.5329\n",
            "e:7 ltr: 2.0317 atr: 0.7667 ate: 0.6110 f1te:0.5673\n",
            "e:8 ltr: 2.0008 atr: 0.7944 ate: 0.6440 f1te:0.6033\n",
            "e:9 ltr: 1.9699 atr: 0.8185 ate: 0.6580 f1te:0.6184\n",
            "e:10 ltr: 1.9358 atr: 0.8500 ate: 0.6810 f1te:0.6441\n",
            "e:11 ltr: 1.8995 atr: 0.8741 ate: 0.7010 f1te:0.6695\n",
            "e:12 ltr: 1.8576 atr: 0.9037 ate: 0.7220 f1te:0.6931\n",
            "e:13 ltr: 1.8177 atr: 0.9074 ate: 0.7450 f1te:0.7216\n",
            "e:14 ltr: 1.7748 atr: 0.9241 ate: 0.7570 f1te:0.7373\n",
            "e:15 ltr: 1.7264 atr: 0.9315 ate: 0.7750 f1te:0.7594\n",
            "e:16 ltr: 1.6754 atr: 0.9426 ate: 0.7810 f1te:0.7670\n",
            "e:17 ltr: 1.6204 atr: 0.9444 ate: 0.7880 f1te:0.7751\n",
            "e:18 ltr: 1.5615 atr: 0.9463 ate: 0.7930 f1te:0.7824\n",
            "e:19 ltr: 1.4995 atr: 0.9500 ate: 0.7950 f1te:0.7855\n",
            "e:20 ltr: 1.4384 atr: 0.9537 ate: 0.8050 f1te:0.7970\n",
            "e:21 ltr: 1.3730 atr: 0.9574 ate: 0.8150 f1te:0.8076\n",
            "e:22 ltr: 1.3020 atr: 0.9685 ate: 0.8280 f1te:0.8222\n",
            "e:23 ltr: 1.2361 atr: 0.9704 ate: 0.8350 f1te:0.8303\n",
            "e:24 ltr: 1.1665 atr: 0.9685 ate: 0.8360 f1te:0.8313\n",
            "e:25 ltr: 1.1012 atr: 0.9741 ate: 0.8360 f1te:0.8317\n",
            "e:26 ltr: 1.0331 atr: 0.9667 ate: 0.8330 f1te:0.8289\n",
            "e:27 ltr: 0.9666 atr: 0.9722 ate: 0.8340 f1te:0.8306\n",
            "e:28 ltr: 0.9038 atr: 0.9741 ate: 0.8350 f1te:0.8320\n",
            "e:29 ltr: 0.8425 atr: 0.9704 ate: 0.8340 f1te:0.8316\n",
            "e:30 ltr: 0.7824 atr: 0.9704 ate: 0.8320 f1te:0.8298\n",
            "e:31 ltr: 0.7292 atr: 0.9722 ate: 0.8280 f1te:0.8259\n",
            "e:32 ltr: 0.6752 atr: 0.9704 ate: 0.8270 f1te:0.8251\n",
            "e:33 ltr: 0.6217 atr: 0.9741 ate: 0.8280 f1te:0.8264\n",
            "e:34 ltr: 0.5775 atr: 0.9796 ate: 0.8270 f1te:0.8258\n",
            "e:35 ltr: 0.5313 atr: 0.9796 ate: 0.8280 f1te:0.8272\n",
            "e:36 ltr: 0.4875 atr: 0.9778 ate: 0.8280 f1te:0.8274\n",
            "e:37 ltr: 0.4505 atr: 0.9778 ate: 0.8250 f1te:0.8243\n",
            "e:38 ltr: 0.4157 atr: 0.9815 ate: 0.8200 f1te:0.8199\n",
            "e:39 ltr: 0.3812 atr: 0.9815 ate: 0.8160 f1te:0.8166\n",
            "epoch:25 acc_max: 0.8360 f1_max: 0.8317\n"
          ]
        }
      ]
    },
    {
      "cell_type": "code",
      "source": [
        "\n",
        "# Plotting\n",
        "plt.figure(figsize=(6, 5))\n",
        "\n",
        "# Plot accuracy\n",
        "# plt.subplot(1, 2, 1)\n",
        "plt.plot(range(epochs), acc_tests, label='Accuracy', color='blue')\n",
        "plt.plot(range(epochs), macro_f1s, label='F1 Score', color='green')\n",
        "\n",
        "plt.xlabel('Epoch')\n",
        "plt.ylabel('Accuracy')\n",
        "plt.title(dataset + ' L/C ' + str(labelrate))\n",
        "plt.legend()\n",
        "\n",
        "# # Plot F1 score\n",
        "# plt.subplot(1, 2, 2)\n",
        "# plt.plot(range(epochs), macro_f1s, label='Macro F1 Score', color='green')\n",
        "# plt.xlabel('Epoch')\n",
        "# plt.ylabel('Macro F1 Score')\n",
        "# plt.title('Macro F1 Score per Epoch')\n",
        "# plt.legend()\n",
        "\n",
        "plt.tight_layout()\n",
        "plt.show()"
      ],
      "metadata": {
        "colab": {
          "base_uri": "https://localhost:8080/",
          "height": 507
        },
        "outputId": "34469150-6d52-490e-8d3e-8d6e5c8a86b1",
        "id": "0sKbUNtjGq8l"
      },
      "execution_count": null,
      "outputs": [
        {
          "output_type": "display_data",
          "data": {
            "text/plain": [
              "<Figure size 600x500 with 1 Axes>"
            ],
            "image/png": "[encoded data removed]"
          },
          "metadata": {}
        }
      ]
    },
    {
      "cell_type": "markdown",
      "source": [
        "# GAT"
      ],
      "metadata": {
        "id": "1eOqCuzzPxH3"
      }
    },
    {
      "cell_type": "code",
      "source": [
        "class Attention(nn.Module):\n",
        "    def __init__(self, in_size, hidden_size=16):\n",
        "        super(Attention, self).__init__()\n",
        "\n",
        "        self.project = nn.Sequential(\n",
        "            nn.Linear(in_size, hidden_size),\n",
        "            nn.Tanh(),\n",
        "            nn.Linear(hidden_size, 1, bias=False)\n",
        "        )\n",
        "\n",
        "    def forward(self, z):\n",
        "        w = self.project(z)\n",
        "        beta = torch.softmax(w, dim=1)\n",
        "        return (beta * z).sum(1), beta\n",
        "\n",
        "\n",
        "def train_gat(model, epochs):\n",
        "    model.train()\n",
        "    optimizer.zero_grad()\n",
        "    output= model(features, sadj)\n",
        "    loss_class =  F.nll_loss(output[idx_train], labels[idx_train])\n",
        "    # loss_dep = (loss_dependence(emb1, com1, n) + loss_dependence(emb2, com2, n))/2\n",
        "    # loss_com = common_loss(com1,com2)\n",
        "    loss = loss_class\n",
        "    acc = accuracy(output[idx_train], labels[idx_train])\n",
        "    loss.backward()\n",
        "    optimizer.step()\n",
        "    acc_test, macro_f1 = main_test_gcn(model)\n",
        "    print('e:{}'.format(epochs),\n",
        "            'ltr: {:.4f}'.format(loss.item()),\n",
        "            'atr: {:.4f}'.format(acc.item()),\n",
        "            'ate: {:.4f}'.format(acc_test.item()),\n",
        "            'f1te:{:.4f}'.format(macro_f1.item()))\n",
        "    return loss.item(), acc_test.item(), macro_f1.item()\n",
        "\n",
        "def main_test_gcn(model):\n",
        "    model.eval()\n",
        "    output = model(features, sadj)\n",
        "    acc_test = accuracy(output[idx_test], labels[idx_test])\n",
        "    label_max = []\n",
        "    for idx in idx_test:\n",
        "        label_max.append(torch.argmax(output[idx]).item())\n",
        "    labelcpu = labels[idx_test].data.cpu()\n",
        "    macro_f1 = f1_score(labelcpu, label_max, average='macro')\n",
        "    return acc_test, macro_f1"
      ],
      "metadata": {
        "id": "pvgH97YUMU_7"
      },
      "execution_count": null,
      "outputs": []
    },
    {
      "cell_type": "markdown",
      "source": [
        "# Structural only"
      ],
      "metadata": {
        "id": "bVVSKeVNxUel"
      }
    },
    {
      "cell_type": "code",
      "source": [],
      "metadata": {
        "id": "AvMVaqF5MXBe"
      },
      "execution_count": null,
      "outputs": []
    },
    {
      "cell_type": "code",
      "source": [
        "model = SGCN(nfeat = fdim,\n",
        "            nhid1 = nhid1,\n",
        "            nhid2 = nhid2,\n",
        "            nclass = class_num,\n",
        "            n = n,\n",
        "            dropout = dropout)"
      ],
      "metadata": {
        "id": "nFchhI4TxaWU"
      },
      "execution_count": null,
      "outputs": []
    },
    {
      "cell_type": "code",
      "source": [
        "\n",
        "cuda = torch.cuda.is_available()\n",
        "cuda"
      ],
      "metadata": {
        "colab": {
          "base_uri": "https://localhost:8080/"
        },
        "outputId": "841cd62e-fd33-44b7-bc48-957a4b1d1353",
        "id": "wK7qcBv8xaWV"
      },
      "execution_count": null,
      "outputs": [
        {
          "output_type": "execute_result",
          "data": {
            "text/plain": [
              "True"
            ]
          },
          "metadata": {},
          "execution_count": 21
        }
      ]
    },
    {
      "cell_type": "code",
      "source": [
        "if cuda:\n",
        "    model.cuda()\n",
        "    features = features.cuda()\n",
        "    sadj = sadj.cuda()\n",
        "    fadj = fadj.cuda()\n",
        "    labels = labels.cuda()\n",
        "    idx_train = idx_train.cuda()\n",
        "    idx_test = idx_test.cuda()\n",
        "\n",
        "\n",
        "optimizer = optim.Adam(model.parameters(), lr=lr, weight_decay=weight_decay)\n",
        "\n"
      ],
      "metadata": {
        "id": "EPM1A_POxaWV"
      },
      "execution_count": null,
      "outputs": []
    },
    {
      "cell_type": "code",
      "source": [
        "\n",
        "\n",
        "acc_max = 0\n",
        "f1_max = 0\n",
        "epoch_max = 0\n",
        "for epoch in range(epochs):\n",
        "    loss, acc_test, macro_f1, emb = train_s(model, epoch)\n",
        "    if acc_test >= acc_max:\n",
        "        acc_max = acc_test\n",
        "        f1_max = macro_f1\n",
        "        epoch_max = epoch\n",
        "print('epoch:{}'.format(epoch_max),\n",
        "        'acc_max: {:.4f}'.format(acc_max),\n",
        "        'f1_max: {:.4f}'.format(f1_max))\n"
      ],
      "metadata": {
        "colab": {
          "base_uri": "https://localhost:8080/"
        },
        "outputId": "1897a12a-16e2-4478-f60c-25a31c39fbe2",
        "id": "ujxGoqNIxaWW"
      },
      "execution_count": null,
      "outputs": [
        {
          "output_type": "stream",
          "name": "stdout",
          "text": [
            "e:0 ltr: 1.7739 atr: 0.3250 ate: 0.3660 f1te:0.2302\n",
            "e:1 ltr: 1.7561 atr: 0.4667 ate: 0.4650 f1te:0.3372\n",
            "e:2 ltr: 1.7393 atr: 0.6167 ate: 0.5490 f1te:0.4502\n",
            "e:3 ltr: 1.7222 atr: 0.7583 ate: 0.6160 f1te:0.5417\n",
            "e:4 ltr: 1.7036 atr: 0.8583 ate: 0.6730 f1te:0.6168\n",
            "e:5 ltr: 1.6851 atr: 0.9000 ate: 0.7080 f1te:0.6567\n",
            "e:6 ltr: 1.6662 atr: 0.9167 ate: 0.7260 f1te:0.6764\n",
            "e:7 ltr: 1.6466 atr: 0.9083 ate: 0.7310 f1te:0.6861\n",
            "e:8 ltr: 1.6237 atr: 0.9167 ate: 0.7300 f1te:0.6870\n",
            "e:9 ltr: 1.5971 atr: 0.9250 ate: 0.7350 f1te:0.6933\n",
            "e:10 ltr: 1.5761 atr: 0.9083 ate: 0.7310 f1te:0.6899\n",
            "e:11 ltr: 1.5460 atr: 0.9083 ate: 0.7290 f1te:0.6878\n",
            "e:12 ltr: 1.5120 atr: 0.9167 ate: 0.7290 f1te:0.6891\n",
            "e:13 ltr: 1.4767 atr: 0.9250 ate: 0.7290 f1te:0.6892\n",
            "e:14 ltr: 1.4385 atr: 0.9167 ate: 0.7290 f1te:0.6897\n",
            "e:15 ltr: 1.3998 atr: 0.9083 ate: 0.7270 f1te:0.6865\n",
            "e:16 ltr: 1.3527 atr: 0.9167 ate: 0.7280 f1te:0.6876\n",
            "e:17 ltr: 1.2996 atr: 0.9167 ate: 0.7280 f1te:0.6875\n",
            "e:18 ltr: 1.2485 atr: 0.9083 ate: 0.7250 f1te:0.6851\n",
            "e:19 ltr: 1.1849 atr: 0.9167 ate: 0.7210 f1te:0.6813\n",
            "e:20 ltr: 1.1265 atr: 0.9083 ate: 0.7200 f1te:0.6825\n",
            "e:21 ltr: 1.0587 atr: 0.9250 ate: 0.7180 f1te:0.6809\n",
            "e:22 ltr: 0.9952 atr: 0.9333 ate: 0.7140 f1te:0.6775\n",
            "e:23 ltr: 0.9300 atr: 0.9333 ate: 0.7130 f1te:0.6789\n",
            "e:24 ltr: 0.8533 atr: 0.9500 ate: 0.7110 f1te:0.6771\n",
            "epoch:9 acc_max: 0.7350 f1_max: 0.6933\n"
          ]
        }
      ]
    },
    {
      "cell_type": "code",
      "source": [
        "\n"
      ],
      "metadata": {
        "id": "XoLdSnpWxk0O"
      },
      "execution_count": null,
      "outputs": []
    },
    {
      "cell_type": "markdown",
      "source": [
        "# Feature only"
      ],
      "metadata": {
        "id": "NSxbKPmi0xgQ"
      }
    },
    {
      "cell_type": "code",
      "source": [
        "model = FGCN(nfeat = fdim,\n",
        "            nhid1 = nhid1,\n",
        "            nhid2 = nhid2,\n",
        "            nclass = class_num,\n",
        "            n = n,\n",
        "            dropout = dropout)"
      ],
      "metadata": {
        "id": "5kFUVo5r0xgQ"
      },
      "execution_count": null,
      "outputs": []
    },
    {
      "cell_type": "code",
      "source": [
        "\n",
        "cuda = torch.cuda.is_available()\n",
        "cuda"
      ],
      "metadata": {
        "colab": {
          "base_uri": "https://localhost:8080/"
        },
        "outputId": "06f0bfc3-f8bd-4f05-edfb-7668a7c6ea6f",
        "id": "asLEyFjr0xgR"
      },
      "execution_count": null,
      "outputs": [
        {
          "output_type": "execute_result",
          "data": {
            "text/plain": [
              "True"
            ]
          },
          "metadata": {},
          "execution_count": 27
        }
      ]
    },
    {
      "cell_type": "code",
      "source": [
        "if cuda:\n",
        "    model.cuda()\n",
        "    features = features.cuda()\n",
        "    sadj = sadj.cuda()\n",
        "    fadj = fadj.cuda()\n",
        "    labels = labels.cuda()\n",
        "    idx_train = idx_train.cuda()\n",
        "    idx_test = idx_test.cuda()\n",
        "\n",
        "\n",
        "optimizer = optim.Adam(model.parameters(), lr=lr, weight_decay=weight_decay)\n",
        "\n"
      ],
      "metadata": {
        "id": "tp9QeicC0xgR"
      },
      "execution_count": null,
      "outputs": []
    },
    {
      "cell_type": "code",
      "source": [
        "\n",
        "\n",
        "acc_max = 0\n",
        "f1_max = 0\n",
        "epoch_max = 0\n",
        "for epoch in range(epochs):\n",
        "    loss, acc_test, macro_f1, emb = train_f(model, epoch)\n",
        "    if acc_test >= acc_max:\n",
        "        acc_max = acc_test\n",
        "        f1_max = macro_f1\n",
        "        epoch_max = epoch\n",
        "print('epoch:{}'.format(epoch_max),\n",
        "        'acc_max: {:.4f}'.format(acc_max),\n",
        "        'f1_max: {:.4f}'.format(f1_max))\n"
      ],
      "metadata": {
        "colab": {
          "base_uri": "https://localhost:8080/"
        },
        "outputId": "f8d5b77a-872c-47b0-ef07-ab6d45ff4f6c",
        "id": "Q1QxbPmQ0xgS"
      },
      "execution_count": null,
      "outputs": [
        {
          "output_type": "stream",
          "name": "stdout",
          "text": [
            "e:0 ltr: 1.7930 atr: 0.1000 ate: 0.2340 f1te:0.1609\n",
            "e:1 ltr: 1.7794 atr: 0.3333 ate: 0.3080 f1te:0.2139\n",
            "e:2 ltr: 1.7669 atr: 0.4833 ate: 0.3840 f1te:0.2984\n",
            "e:3 ltr: 1.7542 atr: 0.5250 ate: 0.4820 f1te:0.4280\n",
            "e:4 ltr: 1.7427 atr: 0.6750 ate: 0.5740 f1te:0.5410\n",
            "e:5 ltr: 1.7300 atr: 0.7417 ate: 0.6270 f1te:0.5960\n",
            "e:6 ltr: 1.7175 atr: 0.8000 ate: 0.6690 f1te:0.6361\n",
            "e:7 ltr: 1.7032 atr: 0.8333 ate: 0.6780 f1te:0.6368\n",
            "e:8 ltr: 1.6884 atr: 0.8083 ate: 0.6920 f1te:0.6457\n",
            "e:9 ltr: 1.6746 atr: 0.8250 ate: 0.6990 f1te:0.6514\n",
            "e:10 ltr: 1.6572 atr: 0.8083 ate: 0.7030 f1te:0.6551\n",
            "e:11 ltr: 1.6400 atr: 0.8083 ate: 0.7120 f1te:0.6634\n",
            "e:12 ltr: 1.6177 atr: 0.8167 ate: 0.7150 f1te:0.6644\n",
            "e:13 ltr: 1.5953 atr: 0.8250 ate: 0.7150 f1te:0.6646\n",
            "e:14 ltr: 1.5726 atr: 0.8250 ate: 0.7170 f1te:0.6647\n",
            "e:15 ltr: 1.5456 atr: 0.8250 ate: 0.7170 f1te:0.6649\n",
            "e:16 ltr: 1.5144 atr: 0.8250 ate: 0.7170 f1te:0.6649\n",
            "e:17 ltr: 1.4805 atr: 0.8083 ate: 0.7190 f1te:0.6667\n",
            "e:18 ltr: 1.4467 atr: 0.8250 ate: 0.7200 f1te:0.6655\n",
            "e:19 ltr: 1.4049 atr: 0.8167 ate: 0.7210 f1te:0.6679\n",
            "e:20 ltr: 1.3603 atr: 0.8250 ate: 0.7220 f1te:0.6705\n",
            "e:21 ltr: 1.3150 atr: 0.8167 ate: 0.7230 f1te:0.6714\n",
            "e:22 ltr: 1.2653 atr: 0.8167 ate: 0.7300 f1te:0.6825\n",
            "e:23 ltr: 1.2084 atr: 0.8333 ate: 0.7290 f1te:0.6814\n",
            "e:24 ltr: 1.1555 atr: 0.8333 ate: 0.7330 f1te:0.6849\n",
            "epoch:24 acc_max: 0.7330 f1_max: 0.6849\n"
          ]
        }
      ]
    },
    {
      "cell_type": "code",
      "source": [],
      "metadata": {
        "id": "Ok5ElY3d08pT"
      },
      "execution_count": null,
      "outputs": []
    }
  ]
}